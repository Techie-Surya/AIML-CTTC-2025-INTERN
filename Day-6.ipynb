{
 "cells": [
  {
   "cell_type": "markdown",
   "id": "18d8975e-1827-4e61-bdfb-48f59a128bbd",
   "metadata": {},
   "source": [
    "### Predefined or Built in Function "
   ]
  },
  {
   "cell_type": "code",
   "execution_count": 1,
   "id": "dae57c1c-37ae-4afb-ba8b-a1b5713970bf",
   "metadata": {
    "scrolled": true
   },
   "outputs": [
    {
     "name": "stdout",
     "output_type": "stream",
     "text": [
      "hello world\n"
     ]
    }
   ],
   "source": [
    "# 1. print() : To display output\n",
    "print('hello world')"
   ]
  },
  {
   "cell_type": "code",
   "execution_count": 2,
   "id": "80e96f1d-75eb-4d9d-8aa9-6173d67a460b",
   "metadata": {
    "scrolled": true
   },
   "outputs": [
    {
     "data": {
      "text/plain": [
       "5"
      ]
     },
     "execution_count": 2,
     "metadata": {},
     "output_type": "execute_result"
    }
   ],
   "source": [
    "# 2.len() : return no of element in a sequence.\n",
    "len([2,5,4,9,8])"
   ]
  },
  {
   "cell_type": "code",
   "execution_count": 4,
   "id": "6d773637-86ce-4e57-a519-794898cd6022",
   "metadata": {
    "scrolled": true
   },
   "outputs": [
    {
     "data": {
      "text/plain": [
       "28"
      ]
     },
     "execution_count": 4,
     "metadata": {},
     "output_type": "execute_result"
    }
   ],
   "source": [
    "# 3.sum() : returns the sum of all values in a sequence.\n",
    "sum([2,5,4,9,8])"
   ]
  },
  {
   "cell_type": "code",
   "execution_count": 7,
   "id": "a747d8b4-ad1e-4277-bda6-1ffc67229446",
   "metadata": {
    "scrolled": true
   },
   "outputs": [
    {
     "data": {
      "text/plain": [
       "2"
      ]
     },
     "execution_count": 7,
     "metadata": {},
     "output_type": "execute_result"
    }
   ],
   "source": [
    "# 4.min() : returns the minimum of all values in a sequence.\n",
    "min([2,5,4,9,8])"
   ]
  },
  {
   "cell_type": "code",
   "execution_count": 9,
   "id": "86fb2360-0e1d-407d-9caf-c151cb695d5f",
   "metadata": {
    "scrolled": true
   },
   "outputs": [
    {
     "data": {
      "text/plain": [
       "9"
      ]
     },
     "execution_count": 9,
     "metadata": {},
     "output_type": "execute_result"
    }
   ],
   "source": [
    "# 5.max() : returns the maximum of all values in a sequence.\n",
    "max([2,5,4,9,8])"
   ]
  },
  {
   "cell_type": "code",
   "execution_count": 10,
   "id": "3b6f7102-5695-4630-be4e-757fa8a80e47",
   "metadata": {
    "scrolled": true
   },
   "outputs": [
    {
     "data": {
      "text/plain": [
       "list"
      ]
     },
     "execution_count": 10,
     "metadata": {},
     "output_type": "execute_result"
    }
   ],
   "source": [
    "# 6.type() : returns the datatype of a function.\n",
    "type([2,5,4,9,8])"
   ]
  },
  {
   "cell_type": "code",
   "execution_count": 11,
   "id": "649bea9a-6dde-495b-90a0-482f339e3b19",
   "metadata": {
    "scrolled": true
   },
   "outputs": [
    {
     "data": {
      "text/plain": [
       "2127604565568"
      ]
     },
     "execution_count": 11,
     "metadata": {},
     "output_type": "execute_result"
    }
   ],
   "source": [
    "# 7.id() : returns the address location of any function.\n",
    "id([2,5,4,9,8])"
   ]
  },
  {
   "cell_type": "code",
   "execution_count": 19,
   "id": "6a305a5c-dd0c-419b-b55d-12a4f082486f",
   "metadata": {
    "scrolled": true
   },
   "outputs": [
    {
     "name": "stdout",
     "output_type": "stream",
     "text": [
      "1\n",
      "2\n",
      "3\n",
      "4\n"
     ]
    }
   ],
   "source": [
    "# 8.range() : (start,stop+1,step)\n",
    "for i in range(1,5,1):\n",
    "    print (i)"
   ]
  },
  {
   "cell_type": "code",
   "execution_count": 13,
   "id": "0eca7181-899a-4a77-b2ab-0b8e29119a82",
   "metadata": {
    "scrolled": true
   },
   "outputs": [
    {
     "data": {
      "text/plain": [
       "97"
      ]
     },
     "execution_count": 13,
     "metadata": {},
     "output_type": "execute_result"
    }
   ],
   "source": [
    "# 9.ord(character): returns the ascii value of a character\n",
    "ord('a') "
   ]
  },
  {
   "cell_type": "code",
   "execution_count": 16,
   "id": "2d39fef6-04d5-4290-a9c6-7474e41b8e9f",
   "metadata": {
    "scrolled": true
   },
   "outputs": [
    {
     "data": {
      "text/plain": [
       "':'"
      ]
     },
     "execution_count": 16,
     "metadata": {},
     "output_type": "execute_result"
    }
   ],
   "source": [
    "# 10.chr(ascii_value): returns the character associated with ascii value.\n",
    "chr(58) "
   ]
  },
  {
   "cell_type": "code",
   "execution_count": 20,
   "id": "e378c10b-94a9-43c8-9c21-55ceb004fcab",
   "metadata": {
    "scrolled": true
   },
   "outputs": [
    {
     "data": {
      "text/plain": [
       "625"
      ]
     },
     "execution_count": 20,
     "metadata": {},
     "output_type": "execute_result"
    }
   ],
   "source": [
    "# 11.pow(base,expo): Returns the power of the function.\n",
    "pow(5,4)"
   ]
  },
  {
   "cell_type": "markdown",
   "id": "56ce231f-f6df-44bb-af57-2bf183e46a16",
   "metadata": {},
   "source": [
    "# Numpy: Numerical python"
   ]
  },
  {
   "cell_type": "markdown",
   "id": "f541b872-8867-45f0-8d29-a0ef03f8cf4e",
   "metadata": {},
   "source": [
    "#### Numpy is a library of python that helps us to deal with arrays and to do various mathematical operations on it."
   ]
  },
  {
   "cell_type": "markdown",
   "id": "27fb35a9-57ac-4f70-ad3c-535a0fa0a436",
   "metadata": {},
   "source": [
    "#### Array : Array is a collection of homogenous values(having similar datas),mutable(can be modified and changed),which is declared using []. Arrays are an ordered sequence(have fixed index position)."
   ]
  },
  {
   "cell_type": "code",
   "execution_count": 4,
   "id": "cb957dc7-6714-40c7-b72b-4c6d5d49e6dd",
   "metadata": {
    "scrolled": true
   },
   "outputs": [],
   "source": [
    "# importing the library to our environment.\n",
    "import numpy as np"
   ]
  },
  {
   "cell_type": "code",
   "execution_count": 26,
   "id": "68fc2a7b-abfd-4591-9ea0-39c489dbc08f",
   "metadata": {
    "scrolled": true
   },
   "outputs": [
    {
     "data": {
      "text/plain": [
       "'1.26.4'"
      ]
     },
     "execution_count": 26,
     "metadata": {},
     "output_type": "execute_result"
    }
   ],
   "source": [
    "# to check version of numpy\n",
    "np.__version__"
   ]
  },
  {
   "cell_type": "code",
   "execution_count": 27,
   "id": "f7400720-ae53-410f-9ac7-b83dc95bbc14",
   "metadata": {
    "scrolled": true
   },
   "outputs": [
    {
     "data": {
      "text/plain": [
       "array([1, 2, 3, 4, 5])"
      ]
     },
     "execution_count": 27,
     "metadata": {},
     "output_type": "execute_result"
    }
   ],
   "source": [
    "# creating a 1D array\n",
    "a = np.array([1,2,3,4,5])\n",
    "a"
   ]
  },
  {
   "cell_type": "code",
   "execution_count": 29,
   "id": "d5b85bc3-03af-46b5-a984-760ac310c95b",
   "metadata": {
    "scrolled": true
   },
   "outputs": [
    {
     "data": {
      "text/plain": [
       "numpy.ndarray"
      ]
     },
     "execution_count": 29,
     "metadata": {},
     "output_type": "execute_result"
    }
   ],
   "source": [
    "# type()\n",
    "type(a)"
   ]
  },
  {
   "cell_type": "code",
   "execution_count": 30,
   "id": "7f292c1d-3863-4086-af45-0b3ca0d6e348",
   "metadata": {
    "scrolled": true
   },
   "outputs": [
    {
     "data": {
      "text/plain": [
       "array([1, 2, 3, 4, 5, 6])"
      ]
     },
     "execution_count": 30,
     "metadata": {},
     "output_type": "execute_result"
    }
   ],
   "source": [
    "# Creating an array from tuple : \n",
    "tup = (1,2,3,4,5,6)\n",
    "b = np.array(tup)\n",
    "b"
   ]
  },
  {
   "cell_type": "code",
   "execution_count": 31,
   "id": "3496979c-cfe9-47e6-a93f-7a8a6bfb6777",
   "metadata": {
    "scrolled": true
   },
   "outputs": [
    {
     "data": {
      "text/plain": [
       "array(['1', '2', '3', '4', '5', '6', 'apple'], dtype='<U11')"
      ]
     },
     "execution_count": 31,
     "metadata": {},
     "output_type": "execute_result"
    }
   ],
   "source": [
    "c = np.array((1,2,3,4,5,6,'apple'))\n",
    "c"
   ]
  },
  {
   "cell_type": "code",
   "execution_count": 33,
   "id": "8244724d-6df8-4856-8ea5-abfa3dd2e570",
   "metadata": {
    "scrolled": true
   },
   "outputs": [
    {
     "data": {
      "text/plain": [
       "array({1: 'a', 2: 'b', 3: 'c'}, dtype=object)"
      ]
     },
     "execution_count": 33,
     "metadata": {},
     "output_type": "execute_result"
    }
   ],
   "source": [
    "# Creating array from a dictionary\n",
    "d = {1:'a',2:'b',3:'c'}\n",
    "x = np.array(d)\n",
    "x\n",
    "# in Numpy string value are declared using 'object' datatype"
   ]
  },
  {
   "cell_type": "code",
   "execution_count": 34,
   "id": "8b104fab-72aa-4e80-8d3a-bc9856bba994",
   "metadata": {
    "scrolled": true
   },
   "outputs": [
    {
     "data": {
      "text/plain": [
       "array([[1, 2, 3, 4],\n",
       "       [3, 4, 5, 6],\n",
       "       [6, 7, 8, 9]])"
      ]
     },
     "execution_count": 34,
     "metadata": {},
     "output_type": "execute_result"
    }
   ],
   "source": [
    "# Creating a 2D array :\n",
    "# while working with a 2D array the elements are placed row-wise.\n",
    "x = np.array([[1,2,3,4],[3,4,5,6],[6,7,8,9]])\n",
    "x"
   ]
  },
  {
   "cell_type": "code",
   "execution_count": 35,
   "id": "f22c8216-8455-43c0-abf0-03970940e624",
   "metadata": {
    "scrolled": true
   },
   "outputs": [
    {
     "data": {
      "text/plain": [
       "array([[1, 2, 3],\n",
       "       [4, 5, 6],\n",
       "       [7, 8, 9]])"
      ]
     },
     "execution_count": 35,
     "metadata": {},
     "output_type": "execute_result"
    }
   ],
   "source": [
    "# 3x3 matrix using tuple:\n",
    "x = np.array([(1,2,3),(4,5,6),(7,8,9)])\n",
    "x"
   ]
  },
  {
   "cell_type": "code",
   "execution_count": 37,
   "id": "99c1dee0-892e-42b4-8329-f8d51c9b6d29",
   "metadata": {
    "scrolled": true
   },
   "outputs": [
    {
     "data": {
      "text/plain": [
       "array([[1, 2, 3],\n",
       "       [4, 5, 6]])"
      ]
     },
     "execution_count": 37,
     "metadata": {},
     "output_type": "execute_result"
    }
   ],
   "source": [
    "np.array([(1,2,3),[4,5,6]])"
   ]
  },
  {
   "cell_type": "code",
   "execution_count": 38,
   "id": "5a4b0a1f-e801-42ae-b05f-376df4922c04",
   "metadata": {
    "scrolled": true
   },
   "outputs": [
    {
     "data": {
      "text/plain": [
       "(2, 3)"
      ]
     },
     "execution_count": 38,
     "metadata": {},
     "output_type": "execute_result"
    }
   ],
   "source": [
    "# Array Attributes:-\n",
    "# to find the shape:\n",
    "x = np.array([[1,2,3],[4,5,6]])\n",
    "x.shape"
   ]
  },
  {
   "cell_type": "code",
   "execution_count": 39,
   "id": "06dfe621-7295-43b7-a1fb-6268cdffd839",
   "metadata": {
    "scrolled": true
   },
   "outputs": [
    {
     "data": {
      "text/plain": [
       "6"
      ]
     },
     "execution_count": 39,
     "metadata": {},
     "output_type": "execute_result"
    }
   ],
   "source": [
    "# to find the size of an array:\n",
    "x = np.array([[1,2,3],[4,5,6]])\n",
    "x.size"
   ]
  },
  {
   "cell_type": "code",
   "execution_count": 40,
   "id": "36868afd-c1da-41a6-8908-8446957df4a1",
   "metadata": {
    "scrolled": true
   },
   "outputs": [
    {
     "data": {
      "text/plain": [
       "2"
      ]
     },
     "execution_count": 40,
     "metadata": {},
     "output_type": "execute_result"
    }
   ],
   "source": [
    "# to find the dimension of an array:\n",
    "x = np.array([[1,2,3],[4,5,6]])\n",
    "x.ndim"
   ]
  },
  {
   "cell_type": "code",
   "execution_count": 41,
   "id": "e1ac2a22-a250-4a1e-9818-df4d4f0bc149",
   "metadata": {
    "scrolled": true
   },
   "outputs": [
    {
     "ename": "ValueError",
     "evalue": "setting an array element with a sequence. The requested array has an inhomogeneous shape after 1 dimensions. The detected shape was (3,) + inhomogeneous part.",
     "output_type": "error",
     "traceback": [
      "\u001b[1;31m---------------------------------------------------------------------------\u001b[0m",
      "\u001b[1;31mValueError\u001b[0m                                Traceback (most recent call last)",
      "Cell \u001b[1;32mIn[41], line 2\u001b[0m\n\u001b[0;32m      1\u001b[0m \u001b[38;5;66;03m# Creating an array of different lenghths.\u001b[39;00m\n\u001b[1;32m----> 2\u001b[0m np\u001b[38;5;241m.\u001b[39marray([[\u001b[38;5;241m1\u001b[39m,\u001b[38;5;241m2\u001b[39m,\u001b[38;5;241m3\u001b[39m,\u001b[38;5;241m4\u001b[39m],[\u001b[38;5;241m5\u001b[39m,\u001b[38;5;241m6\u001b[39m,\u001b[38;5;241m7\u001b[39m,\u001b[38;5;241m8\u001b[39m],[\u001b[38;5;241m7\u001b[39m,\u001b[38;5;241m8\u001b[39m,\u001b[38;5;241m9\u001b[39m]])\n",
      "\u001b[1;31mValueError\u001b[0m: setting an array element with a sequence. The requested array has an inhomogeneous shape after 1 dimensions. The detected shape was (3,) + inhomogeneous part."
     ]
    }
   ],
   "source": [
    "# Creating an array of different lenghths.\n",
    "np.array([[1,2,3,4],[5,6,7,8],[7,8,9]])"
   ]
  },
  {
   "cell_type": "code",
   "execution_count": 42,
   "id": "af27052d-33b1-4b01-ba0f-be5abe3f691e",
   "metadata": {
    "scrolled": true
   },
   "outputs": [
    {
     "data": {
      "text/plain": [
       "array([ 1,  2,  3,  4,  5,  6,  7,  8,  9, 10])"
      ]
     },
     "execution_count": 42,
     "metadata": {},
     "output_type": "execute_result"
    }
   ],
   "source": [
    "# arange(): generates numbers between the given intervals.\n",
    "np.arange(1,11)"
   ]
  },
  {
   "cell_type": "code",
   "execution_count": 43,
   "id": "65f87294-368d-4f45-a04b-cac61cceffb1",
   "metadata": {
    "scrolled": true
   },
   "outputs": [
    {
     "data": {
      "text/plain": [
       "array([[0, 0],\n",
       "       [0, 0],\n",
       "       [0, 0]])"
      ]
     },
     "execution_count": 43,
     "metadata": {},
     "output_type": "execute_result"
    }
   ],
   "source": [
    "# Create an array of 3x2 where all values are 0.\n",
    "np.array([[0,0],[0,0],[0,0]])"
   ]
  },
  {
   "cell_type": "code",
   "execution_count": 45,
   "id": "1ec5882f-720d-4104-86f9-4188cd65a6f6",
   "metadata": {
    "scrolled": true
   },
   "outputs": [
    {
     "data": {
      "text/plain": [
       "array([0., 0., 0., 0., 0.])"
      ]
     },
     "execution_count": 45,
     "metadata": {},
     "output_type": "execute_result"
    }
   ],
   "source": [
    "# np.zeros: generates a 0's array.\n",
    "np.zeros(5)"
   ]
  },
  {
   "cell_type": "code",
   "execution_count": 47,
   "id": "937c6814-e57d-4ab5-9a48-7335f556d3eb",
   "metadata": {
    "scrolled": true
   },
   "outputs": [
    {
     "data": {
      "text/plain": [
       "array([[0., 0., 0., 0., 0.],\n",
       "       [0., 0., 0., 0., 0.],\n",
       "       [0., 0., 0., 0., 0.],\n",
       "       [0., 0., 0., 0., 0.]])"
      ]
     },
     "execution_count": 47,
     "metadata": {},
     "output_type": "execute_result"
    }
   ],
   "source": [
    "np.zeros((4,5))\n",
    "# 0. represents the 0's are in float(default value)"
   ]
  },
  {
   "cell_type": "code",
   "execution_count": 5,
   "id": "3c3de397-6d1c-4b64-9b8c-7a8ceae6fa0a",
   "metadata": {
    "scrolled": true
   },
   "outputs": [
    {
     "data": {
      "text/plain": [
       "array([[0., 0., 0., 0., 0.],\n",
       "       [0., 0., 0., 0., 0.],\n",
       "       [0., 0., 0., 0., 0.],\n",
       "       [0., 0., 0., 0., 0.]])"
      ]
     },
     "execution_count": 5,
     "metadata": {},
     "output_type": "execute_result"
    }
   ],
   "source": [
    "z = np.zeros((4,5))\n",
    "z"
   ]
  },
  {
   "cell_type": "code",
   "execution_count": 6,
   "id": "dd149bd1-fac8-4a68-8ed0-cf61bb5f76dc",
   "metadata": {},
   "outputs": [
    {
     "data": {
      "text/plain": [
       "dtype('float64')"
      ]
     },
     "execution_count": 6,
     "metadata": {},
     "output_type": "execute_result"
    }
   ],
   "source": [
    "z.dtype"
   ]
  },
  {
   "cell_type": "code",
   "execution_count": 55,
   "id": "236f058e-47a8-4e95-a403-95929694f891",
   "metadata": {
    "scrolled": true
   },
   "outputs": [
    {
     "data": {
      "text/plain": [
       "array([[0, 0, 0, 0, 0],\n",
       "       [0, 0, 0, 0, 0],\n",
       "       [0, 0, 0, 0, 0],\n",
       "       [0, 0, 0, 0, 0]])"
      ]
     },
     "execution_count": 55,
     "metadata": {},
     "output_type": "execute_result"
    }
   ],
   "source": [
    " np.zeros((4,5),dtype=int)"
   ]
  },
  {
   "cell_type": "code",
   "execution_count": 61,
   "id": "289be524-78e1-4e3a-84d6-7e4e4acf1ee8",
   "metadata": {
    "scrolled": true
   },
   "outputs": [
    {
     "data": {
      "text/plain": [
       "array([[1., 1., 1., 1., 1., 1.],\n",
       "       [1., 1., 1., 1., 1., 1.],\n",
       "       [1., 1., 1., 1., 1., 1.],\n",
       "       [1., 1., 1., 1., 1., 1.]])"
      ]
     },
     "execution_count": 61,
     "metadata": {},
     "output_type": "execute_result"
    }
   ],
   "source": [
    "# ones : creating an array with all values 1.\n",
    "np.ones((4,6))"
   ]
  },
  {
   "cell_type": "code",
   "execution_count": 62,
   "id": "cf4d44a2-08f9-41a5-ad30-4ac6155a677e",
   "metadata": {
    "scrolled": true
   },
   "outputs": [
    {
     "data": {
      "text/plain": [
       "array([[1, 1, 1, 1, 1, 1],\n",
       "       [1, 1, 1, 1, 1, 1],\n",
       "       [1, 1, 1, 1, 1, 1],\n",
       "       [1, 1, 1, 1, 1, 1]])"
      ]
     },
     "execution_count": 62,
     "metadata": {},
     "output_type": "execute_result"
    }
   ],
   "source": [
    "np.ones((4,6),dtype=int)"
   ]
  },
  {
   "cell_type": "code",
   "execution_count": 63,
   "id": "4e87fe80-07d5-43a6-bd4c-6d8ed7af668a",
   "metadata": {
    "scrolled": true
   },
   "outputs": [
    {
     "data": {
      "text/plain": [
       "array([[2, 2, 2, 2, 2],\n",
       "       [2, 2, 2, 2, 2],\n",
       "       [2, 2, 2, 2, 2],\n",
       "       [2, 2, 2, 2, 2],\n",
       "       [2, 2, 2, 2, 2]])"
      ]
     },
     "execution_count": 63,
     "metadata": {},
     "output_type": "execute_result"
    }
   ],
   "source": [
    "# full : it will help to create an array where all values are specific.\n",
    "np.full((5,5),2)"
   ]
  },
  {
   "cell_type": "code",
   "execution_count": 67,
   "id": "5b953f54-1070-4113-9916-c51673d1e5f9",
   "metadata": {
    "scrolled": true
   },
   "outputs": [
    {
     "data": {
      "text/plain": [
       "array([  1.        ,   6.04040404,  11.08080808,  16.12121212,\n",
       "        21.16161616,  26.2020202 ,  31.24242424,  36.28282828,\n",
       "        41.32323232,  46.36363636,  51.4040404 ,  56.44444444,\n",
       "        61.48484848,  66.52525253,  71.56565657,  76.60606061,\n",
       "        81.64646465,  86.68686869,  91.72727273,  96.76767677,\n",
       "       101.80808081, 106.84848485, 111.88888889, 116.92929293,\n",
       "       121.96969697, 127.01010101, 132.05050505, 137.09090909,\n",
       "       142.13131313, 147.17171717, 152.21212121, 157.25252525,\n",
       "       162.29292929, 167.33333333, 172.37373737, 177.41414141,\n",
       "       182.45454545, 187.49494949, 192.53535354, 197.57575758,\n",
       "       202.61616162, 207.65656566, 212.6969697 , 217.73737374,\n",
       "       222.77777778, 227.81818182, 232.85858586, 237.8989899 ,\n",
       "       242.93939394, 247.97979798, 253.02020202, 258.06060606,\n",
       "       263.1010101 , 268.14141414, 273.18181818, 278.22222222,\n",
       "       283.26262626, 288.3030303 , 293.34343434, 298.38383838,\n",
       "       303.42424242, 308.46464646, 313.50505051, 318.54545455,\n",
       "       323.58585859, 328.62626263, 333.66666667, 338.70707071,\n",
       "       343.74747475, 348.78787879, 353.82828283, 358.86868687,\n",
       "       363.90909091, 368.94949495, 373.98989899, 379.03030303,\n",
       "       384.07070707, 389.11111111, 394.15151515, 399.19191919,\n",
       "       404.23232323, 409.27272727, 414.31313131, 419.35353535,\n",
       "       424.39393939, 429.43434343, 434.47474747, 439.51515152,\n",
       "       444.55555556, 449.5959596 , 454.63636364, 459.67676768,\n",
       "       464.71717172, 469.75757576, 474.7979798 , 479.83838384,\n",
       "       484.87878788, 489.91919192, 494.95959596, 500.        ])"
      ]
     },
     "execution_count": 67,
     "metadata": {},
     "output_type": "execute_result"
    }
   ],
   "source": [
    "# linspace(start_range , end_range , no. of values) : generates equally disrtributed values.\n",
    "np.linspace(1,500,100)"
   ]
  },
  {
   "cell_type": "code",
   "execution_count": 68,
   "id": "c27d8f78-5dbe-4ed0-a0db-6a2837d9e828",
   "metadata": {
    "scrolled": true
   },
   "outputs": [
    {
     "data": {
      "text/plain": [
       "array([[1, 0, 0, 0, 0, 0],\n",
       "       [0, 1, 0, 0, 0, 0],\n",
       "       [0, 0, 1, 0, 0, 0],\n",
       "       [0, 0, 0, 1, 0, 0],\n",
       "       [0, 0, 0, 0, 1, 0],\n",
       "       [0, 0, 0, 0, 0, 1]])"
      ]
     },
     "execution_count": 68,
     "metadata": {},
     "output_type": "execute_result"
    }
   ],
   "source": [
    "# identity matrix:\n",
    "np.eye(6,dtype='int')"
   ]
  },
  {
   "cell_type": "code",
   "execution_count": 69,
   "id": "6089be6d-e545-4ba0-b4f0-25c6a251aaf9",
   "metadata": {
    "scrolled": true
   },
   "outputs": [
    {
     "data": {
      "text/plain": [
       "array([[1, 0, 0, 0, 0, 0],\n",
       "       [0, 1, 0, 0, 0, 0],\n",
       "       [0, 0, 1, 0, 0, 0],\n",
       "       [0, 0, 0, 1, 0, 0],\n",
       "       [0, 0, 0, 0, 1, 0],\n",
       "       [0, 0, 0, 0, 0, 1]])"
      ]
     },
     "execution_count": 69,
     "metadata": {},
     "output_type": "execute_result"
    }
   ],
   "source": [
    "# identity matrix:\n",
    "np.identity(6,dtype='int')"
   ]
  },
  {
   "cell_type": "code",
   "execution_count": 70,
   "id": "5205f9d3-f0ca-493e-a979-9290144e9ee3",
   "metadata": {
    "scrolled": true
   },
   "outputs": [
    {
     "data": {
      "text/plain": [
       "0.6409395189207165"
      ]
     },
     "execution_count": 70,
     "metadata": {},
     "output_type": "execute_result"
    }
   ],
   "source": [
    "# Random Numbers in an array.\n",
    "# random.rand() : generates a random number betweenb 0~1.\n",
    "np.random.rand()"
   ]
  },
  {
   "cell_type": "code",
   "execution_count": 72,
   "id": "17742d3d-3b8b-4e85-90f2-836dd155ecc3",
   "metadata": {
    "scrolled": true
   },
   "outputs": [
    {
     "data": {
      "text/plain": [
       "array([0.11313914, 0.4794835 , 0.44241363, 0.15162809, 0.84344596,\n",
       "       0.93287554])"
      ]
     },
     "execution_count": 72,
     "metadata": {},
     "output_type": "execute_result"
    }
   ],
   "source": [
    "# creating a 1D array with random numbers.\n",
    "np.random.rand(6)"
   ]
  },
  {
   "cell_type": "code",
   "execution_count": 73,
   "id": "b82d243f-34c2-4dcc-8f25-c45026da5d91",
   "metadata": {
    "scrolled": true
   },
   "outputs": [
    {
     "data": {
      "text/plain": [
       "array([[0.14045833, 0.13820213, 0.81554329],\n",
       "       [0.40873629, 0.98717819, 0.06847434],\n",
       "       [0.75548329, 0.41560455, 0.36432059]])"
      ]
     },
     "execution_count": 73,
     "metadata": {},
     "output_type": "execute_result"
    }
   ],
   "source": [
    "np.random.rand(3,3)"
   ]
  },
  {
   "cell_type": "code",
   "execution_count": 75,
   "id": "bd361c0b-d311-4ae7-aba4-42c0b0b927c0",
   "metadata": {
    "scrolled": true
   },
   "outputs": [
    {
     "data": {
      "text/plain": [
       "2"
      ]
     },
     "execution_count": 75,
     "metadata": {},
     "output_type": "execute_result"
    }
   ],
   "source": [
    "# random.randint() : generates random integer value.\n",
    "np.random.randint(1,20)"
   ]
  },
  {
   "cell_type": "code",
   "execution_count": 77,
   "id": "fe5e7939-4523-4690-a60a-51f9fddebb6e",
   "metadata": {
    "scrolled": true
   },
   "outputs": [
    {
     "data": {
      "text/plain": [
       "array([[ 4, 18, 14,  2, 18],\n",
       "       [19,  4,  2, 19, 18],\n",
       "       [ 6,  7, 14, 15,  2],\n",
       "       [ 1,  2,  8, 19,  4]])"
      ]
     },
     "execution_count": 77,
     "metadata": {},
     "output_type": "execute_result"
    }
   ],
   "source": [
    "np.random.randint(1,20,(4,5))"
   ]
  },
  {
   "cell_type": "code",
   "execution_count": 78,
   "id": "b5718ac6-5701-4fa9-8a5c-68c73e3839b1",
   "metadata": {
    "scrolled": true
   },
   "outputs": [
    {
     "name": "stdout",
     "output_type": "stream",
     "text": [
      "[1 2 3 4]\n",
      "[5 6 7 8]\n"
     ]
    }
   ],
   "source": [
    "# Mathematical operations on arrays \n",
    "a = np.array([1,2,3,4])\n",
    "b = np.array([5,6,7,8])\n",
    "print(a)\n",
    "print(b)"
   ]
  },
  {
   "cell_type": "code",
   "execution_count": 79,
   "id": "4787dabc-41ed-4b94-ad48-356e65467cb4",
   "metadata": {
    "scrolled": true
   },
   "outputs": [
    {
     "data": {
      "text/plain": [
       "array([ 6,  8, 10, 12])"
      ]
     },
     "execution_count": 79,
     "metadata": {},
     "output_type": "execute_result"
    }
   ],
   "source": [
    "# add() :\n",
    "np.add(a,b)"
   ]
  },
  {
   "cell_type": "code",
   "execution_count": 80,
   "id": "97fbe399-a64d-405e-a7a9-1b294beb2133",
   "metadata": {
    "scrolled": true
   },
   "outputs": [
    {
     "data": {
      "text/plain": [
       "array([-4, -4, -4, -4])"
      ]
     },
     "execution_count": 80,
     "metadata": {},
     "output_type": "execute_result"
    }
   ],
   "source": [
    "# subtract() : \n",
    "np.subtract(a,b)"
   ]
  },
  {
   "cell_type": "code",
   "execution_count": 85,
   "id": "d23c148e-30ee-4c84-95e5-25526f5e13ae",
   "metadata": {
    "scrolled": true
   },
   "outputs": [
    {
     "data": {
      "text/plain": [
       "array([ 5, 12, 21, 32])"
      ]
     },
     "execution_count": 85,
     "metadata": {},
     "output_type": "execute_result"
    }
   ],
   "source": [
    "# multiply(): \n",
    "a = np.array([1,2,3,4])\n",
    "b = np.array([5,6,7,8])\n",
    "np.multiply(a,b)"
   ]
  },
  {
   "cell_type": "code",
   "execution_count": 86,
   "id": "4f3d7d37-7fb2-402b-a2e2-1a78cc0e9b6e",
   "metadata": {
    "scrolled": true
   },
   "outputs": [
    {
     "data": {
      "text/plain": [
       "array([0.2       , 0.33333333, 0.42857143, 0.5       ])"
      ]
     },
     "execution_count": 86,
     "metadata": {},
     "output_type": "execute_result"
    }
   ],
   "source": [
    "# divide() : returns quotient with decimal values.\n",
    "np.divide(a,b)"
   ]
  },
  {
   "cell_type": "code",
   "execution_count": 87,
   "id": "abcdb394-8270-4a62-804d-c26d2c9f0d7e",
   "metadata": {
    "scrolled": true
   },
   "outputs": [
    {
     "data": {
      "text/plain": [
       "array([0, 0, 0, 0])"
      ]
     },
     "execution_count": 87,
     "metadata": {},
     "output_type": "execute_result"
    }
   ],
   "source": [
    "# floor_divide(): \n",
    "np.floor_divide(a,b)"
   ]
  },
  {
   "cell_type": "code",
   "execution_count": 88,
   "id": "451691a7-01dd-4774-80d7-6c7e0cad5a4c",
   "metadata": {
    "scrolled": true
   },
   "outputs": [
    {
     "data": {
      "text/plain": [
       "array([1, 2, 3, 4])"
      ]
     },
     "execution_count": 88,
     "metadata": {},
     "output_type": "execute_result"
    }
   ],
   "source": [
    "# mod():\n",
    "np.mod(a,b)"
   ]
  },
  {
   "cell_type": "code",
   "execution_count": 89,
   "id": "6f789efb-c9c1-4165-bc3a-a712f772d174",
   "metadata": {
    "scrolled": true
   },
   "outputs": [
    {
     "data": {
      "text/plain": [
       "(array([0, 0, 0, 0]), array([1, 2, 3, 4]))"
      ]
     },
     "execution_count": 89,
     "metadata": {},
     "output_type": "execute_result"
    }
   ],
   "source": [
    "# divmod() : \n",
    "np.divmod(a,b)"
   ]
  },
  {
   "cell_type": "code",
   "execution_count": 90,
   "id": "d0d44773-807a-4f9d-ab4b-07053cda3ad9",
   "metadata": {
    "scrolled": true
   },
   "outputs": [
    {
     "data": {
      "text/plain": [
       "array([1.        , 1.41421356, 1.73205081, 2.        ])"
      ]
     },
     "execution_count": 90,
     "metadata": {},
     "output_type": "execute_result"
    }
   ],
   "source": [
    "# sqrt(): \n",
    "np.sqrt(a)"
   ]
  },
  {
   "cell_type": "code",
   "execution_count": 92,
   "id": "dd311336-6375-4de6-ba03-a9d88a5fac53",
   "metadata": {
    "scrolled": true
   },
   "outputs": [
    {
     "data": {
      "text/plain": [
       "array([25, 36, 49, 64], dtype=int32)"
      ]
     },
     "execution_count": 92,
     "metadata": {},
     "output_type": "execute_result"
    }
   ],
   "source": [
    "# power(array,expo): \n",
    "np.power(b,2)"
   ]
  },
  {
   "cell_type": "code",
   "execution_count": 93,
   "id": "828b71fd-b2db-46a0-b87d-d6749de77090",
   "metadata": {
    "scrolled": true
   },
   "outputs": [
    {
     "data": {
      "text/plain": [
       "array([0.        , 0.69314718, 1.09861229, 1.38629436])"
      ]
     },
     "execution_count": 93,
     "metadata": {},
     "output_type": "execute_result"
    }
   ],
   "source": [
    "# log() : \n",
    "np.log(a)"
   ]
  },
  {
   "cell_type": "code",
   "execution_count": 94,
   "id": "0c8cdd6c-eabf-494e-b1d2-1c665effbcc1",
   "metadata": {
    "scrolled": true
   },
   "outputs": [
    {
     "data": {
      "text/plain": [
       "array([-0.95892427, -0.2794155 ,  0.6569866 ,  0.98935825])"
      ]
     },
     "execution_count": 94,
     "metadata": {},
     "output_type": "execute_result"
    }
   ],
   "source": [
    "# sin() :\n",
    "np.sin(b)"
   ]
  },
  {
   "cell_type": "code",
   "execution_count": 95,
   "id": "a403d615-4f8d-499e-a15a-09d42d07693a",
   "metadata": {
    "scrolled": true
   },
   "outputs": [
    {
     "data": {
      "text/plain": [
       "array([ 2.71828183,  7.3890561 , 20.08553692, 54.59815003])"
      ]
     },
     "execution_count": 95,
     "metadata": {},
     "output_type": "execute_result"
    }
   ],
   "source": [
    "# exp() : \n",
    "np.exp(a)"
   ]
  },
  {
   "cell_type": "code",
   "execution_count": 84,
   "id": "2ec2619c-002e-46cf-b05f-aeb72f94997f",
   "metadata": {
    "scrolled": true
   },
   "outputs": [
    {
     "ename": "ValueError",
     "evalue": "operands could not be broadcast together with shapes (4,) (3,) ",
     "output_type": "error",
     "traceback": [
      "\u001b[1;31m---------------------------------------------------------------------------\u001b[0m",
      "\u001b[1;31mValueError\u001b[0m                                Traceback (most recent call last)",
      "Cell \u001b[1;32mIn[84], line 4\u001b[0m\n\u001b[0;32m      2\u001b[0m c \u001b[38;5;241m=\u001b[39m np\u001b[38;5;241m.\u001b[39marray([\u001b[38;5;241m1\u001b[39m,\u001b[38;5;241m2\u001b[39m,\u001b[38;5;241m3\u001b[39m,\u001b[38;5;241m4\u001b[39m])\n\u001b[0;32m      3\u001b[0m d \u001b[38;5;241m=\u001b[39m np\u001b[38;5;241m.\u001b[39marray([\u001b[38;5;241m5\u001b[39m,\u001b[38;5;241m6\u001b[39m,\u001b[38;5;241m7\u001b[39m])\n\u001b[1;32m----> 4\u001b[0m np\u001b[38;5;241m.\u001b[39madd(c,d)\n",
      "\u001b[1;31mValueError\u001b[0m: operands could not be broadcast together with shapes (4,) (3,) "
     ]
    }
   ],
   "source": [
    "# cannot perform any operation as arrays have dfferent lengths.\n",
    "c = np.array([1,2,3,4])\n",
    "d = np.array([5,6,7])\n",
    "np.add(c,d)"
   ]
  },
  {
   "cell_type": "code",
   "execution_count": 96,
   "id": "493c8994-b1b5-4f86-98b9-d0cd6b06bbe6",
   "metadata": {
    "scrolled": true
   },
   "outputs": [
    {
     "data": {
      "text/plain": [
       "array([23, 24, 58, 95, 64])"
      ]
     },
     "execution_count": 96,
     "metadata": {},
     "output_type": "execute_result"
    }
   ],
   "source": [
    "# Statistical operations in an array.\n",
    "b = np.array([23,24,58,95,64])\n",
    "b"
   ]
  },
  {
   "cell_type": "code",
   "execution_count": 97,
   "id": "2de2d733-5d66-4601-82dd-31de55f10edf",
   "metadata": {
    "scrolled": true
   },
   "outputs": [
    {
     "data": {
      "text/plain": [
       "95"
      ]
     },
     "execution_count": 97,
     "metadata": {},
     "output_type": "execute_result"
    }
   ],
   "source": [
    "# max():\n",
    "np.max(b)"
   ]
  },
  {
   "cell_type": "code",
   "execution_count": 98,
   "id": "8c3d9d5c-5156-423d-9ddb-1d39eb7c9a45",
   "metadata": {
    "scrolled": true
   },
   "outputs": [
    {
     "data": {
      "text/plain": [
       "23"
      ]
     },
     "execution_count": 98,
     "metadata": {},
     "output_type": "execute_result"
    }
   ],
   "source": [
    "# min():\n",
    "np.min(b)"
   ]
  },
  {
   "cell_type": "code",
   "execution_count": 99,
   "id": "b0b6b94f-e255-4de2-9eab-8d166c092b63",
   "metadata": {
    "scrolled": true
   },
   "outputs": [
    {
     "data": {
      "text/plain": [
       "52.8"
      ]
     },
     "execution_count": 99,
     "metadata": {},
     "output_type": "execute_result"
    }
   ],
   "source": [
    "# mean(): average\n",
    "np.mean(b)"
   ]
  },
  {
   "cell_type": "code",
   "execution_count": 100,
   "id": "efe07bc6-32eb-4cee-afe1-5c3372d48826",
   "metadata": {
    "scrolled": true
   },
   "outputs": [
    {
     "data": {
      "text/plain": [
       "58.0"
      ]
     },
     "execution_count": 100,
     "metadata": {},
     "output_type": "execute_result"
    }
   ],
   "source": [
    "# median():\n",
    "np.median(b)"
   ]
  },
  {
   "cell_type": "code",
   "execution_count": 101,
   "id": "0f7eeef8-6db7-4c4f-82d0-ffa64bd5d3d6",
   "metadata": {
    "scrolled": true
   },
   "outputs": [
    {
     "data": {
      "text/plain": [
       "3"
      ]
     },
     "execution_count": 101,
     "metadata": {},
     "output_type": "execute_result"
    }
   ],
   "source": [
    "# argmax(): returns the index of maximum value\n",
    "np.argmax(b)"
   ]
  },
  {
   "cell_type": "code",
   "execution_count": 102,
   "id": "a0d0a387-676c-473c-b5f9-abc5811052ff",
   "metadata": {
    "scrolled": true
   },
   "outputs": [
    {
     "data": {
      "text/plain": [
       "0"
      ]
     },
     "execution_count": 102,
     "metadata": {},
     "output_type": "execute_result"
    }
   ],
   "source": [
    "# argmin(): returns the index of minimum value\n",
    "np.argmin(b)"
   ]
  },
  {
   "cell_type": "code",
   "execution_count": 103,
   "id": "74103367-8b1a-4d07-8462-7f98a018600a",
   "metadata": {
    "scrolled": true
   },
   "outputs": [
    {
     "data": {
      "text/plain": [
       "27.021472942828265"
      ]
     },
     "execution_count": 103,
     "metadata": {},
     "output_type": "execute_result"
    }
   ],
   "source": [
    "# std(): standard deviation value\n",
    "np.std(b)"
   ]
  },
  {
   "cell_type": "code",
   "execution_count": 107,
   "id": "f8bcd400-3cd4-4e0d-8d0d-683b95e5ad37",
   "metadata": {
    "scrolled": true
   },
   "outputs": [
    {
     "data": {
      "text/plain": [
       "array([ 23,  47, 105, 200, 264])"
      ]
     },
     "execution_count": 107,
     "metadata": {},
     "output_type": "execute_result"
    }
   ],
   "source": [
    "# cumsum(): Cummulative Summation\n",
    "b = np.array([23,24,58,95,64])\n",
    "np.cumsum(b)"
   ]
  },
  {
   "cell_type": "code",
   "execution_count": 108,
   "id": "56ed2a8f-51a0-4c3a-80e3-ffecc886f5a8",
   "metadata": {
    "scrolled": true
   },
   "outputs": [
    {
     "data": {
      "text/plain": [
       "array([       23,       552,     32016,   3041520, 194657280])"
      ]
     },
     "execution_count": 108,
     "metadata": {},
     "output_type": "execute_result"
    }
   ],
   "source": [
    "# cumprod(): Cummulative Product\n",
    "b = np.array([23,24,58,95,64])\n",
    "np.cumprod(b)"
   ]
  },
  {
   "cell_type": "code",
   "execution_count": 110,
   "id": "ef08691f-35bf-4640-a064-f108845d476c",
   "metadata": {
    "scrolled": true
   },
   "outputs": [
    {
     "data": {
      "text/plain": [
       "array([       23,       552,     32016,   3041520, 194657280])"
      ]
     },
     "execution_count": 110,
     "metadata": {},
     "output_type": "execute_result"
    }
   ],
   "source": [
    "# cumproduct(): Cummulative Product\n",
    "b = np.array([23,24,58,95,64])\n",
    "np.cumproduct(b)"
   ]
  },
  {
   "cell_type": "code",
   "execution_count": 114,
   "id": "70a1533f-67a4-4411-a74d-4c267e298341",
   "metadata": {
    "scrolled": true
   },
   "outputs": [
    {
     "data": {
      "text/plain": [
       "array([23, 23, 23, 23, 23, 24, 24, 24, 24, 24, 58, 58, 58, 58, 58, 95, 95,\n",
       "       95, 95, 95, 64, 64, 64, 64, 64])"
      ]
     },
     "execution_count": 114,
     "metadata": {},
     "output_type": "execute_result"
    }
   ],
   "source": [
    "# repeat() :\n",
    "np.repeat(b,5)"
   ]
  },
  {
   "cell_type": "code",
   "execution_count": 111,
   "id": "717bc1c9-b6d4-4884-b111-90a958831e19",
   "metadata": {
    "scrolled": true
   },
   "outputs": [
    {
     "data": {
      "text/plain": [
       "array([23, 23, 23, 24, 24, 24, 58, 58, 58, 95, 95, 95, 64, 64, 64])"
      ]
     },
     "execution_count": 111,
     "metadata": {},
     "output_type": "execute_result"
    }
   ],
   "source": [
    "# repeates each element for a given number of times\n",
    "np.repeat(b,3)"
   ]
  },
  {
   "cell_type": "code",
   "execution_count": 113,
   "id": "79364e61-78dd-40eb-a322-28f5e2358b4a",
   "metadata": {
    "scrolled": true
   },
   "outputs": [
    {
     "data": {
      "text/plain": [
       "array([23, 24, 58, 95, 64, 23, 24, 58, 95, 64, 23, 24, 58, 95, 64])"
      ]
     },
     "execution_count": 113,
     "metadata": {},
     "output_type": "execute_result"
    }
   ],
   "source": [
    "# tile(): repeates the whole sequence for a given no of times \n",
    "np.tile(b,3)"
   ]
  },
  {
   "cell_type": "code",
   "execution_count": 116,
   "id": "3b609ac5-e942-4d27-9130-62e9203771a3",
   "metadata": {
    "scrolled": true
   },
   "outputs": [
    {
     "data": {
      "text/plain": [
       "(array([ 3,  8, 10, 12], dtype=int64),)"
      ]
     },
     "execution_count": 116,
     "metadata": {},
     "output_type": "execute_result"
    }
   ],
   "source": [
    "# where() : returns the index position of specific elemnt.\n",
    "x = np.array([1,2,34,3,5,4,5,4,3,7,3,8,3,9])\n",
    "np.where(x==3)"
   ]
  }
 ],
 "metadata": {
  "kernelspec": {
   "display_name": "Python [conda env:base] *",
   "language": "python",
   "name": "conda-base-py"
  },
  "language_info": {
   "codemirror_mode": {
    "name": "ipython",
    "version": 3
   },
   "file_extension": ".py",
   "mimetype": "text/x-python",
   "name": "python",
   "nbconvert_exporter": "python",
   "pygments_lexer": "ipython3",
   "version": "3.12.7"
  }
 },
 "nbformat": 4,
 "nbformat_minor": 5
}
