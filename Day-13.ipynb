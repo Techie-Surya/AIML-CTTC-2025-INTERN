{
 "cells": [
  {
   "cell_type": "code",
   "execution_count": 1,
   "id": "dc8c3612-7680-4047-9824-f54759ad6f83",
   "metadata": {},
   "outputs": [
    {
     "name": "stdout",
     "output_type": "stream",
     "text": [
      "Collecting pywhatkit\n",
      "  Downloading pywhatkit-5.4-py3-none-any.whl.metadata (5.5 kB)\n",
      "Requirement already satisfied: Pillow in c:\\anaconda\\lib\\site-packages (from pywhatkit) (10.4.0)\n",
      "Collecting pyautogui (from pywhatkit)\n",
      "  Downloading PyAutoGUI-0.9.54.tar.gz (61 kB)\n",
      "  Installing build dependencies: started\n",
      "  Installing build dependencies: finished with status 'done'\n",
      "  Getting requirements to build wheel: started\n",
      "  Getting requirements to build wheel: finished with status 'done'\n",
      "  Preparing metadata (pyproject.toml): started\n",
      "  Preparing metadata (pyproject.toml): finished with status 'done'\n",
      "Requirement already satisfied: requests in c:\\anaconda\\lib\\site-packages (from pywhatkit) (2.32.3)\n",
      "Collecting wikipedia (from pywhatkit)\n",
      "  Downloading wikipedia-1.4.0.tar.gz (27 kB)\n",
      "  Preparing metadata (setup.py): started\n",
      "  Preparing metadata (setup.py): finished with status 'done'\n",
      "Requirement already satisfied: Flask in c:\\anaconda\\lib\\site-packages (from pywhatkit) (3.0.3)\n",
      "Requirement already satisfied: Werkzeug>=3.0.0 in c:\\anaconda\\lib\\site-packages (from Flask->pywhatkit) (3.0.3)\n",
      "Requirement already satisfied: Jinja2>=3.1.2 in c:\\anaconda\\lib\\site-packages (from Flask->pywhatkit) (3.1.4)\n",
      "Requirement already satisfied: itsdangerous>=2.1.2 in c:\\anaconda\\lib\\site-packages (from Flask->pywhatkit) (2.2.0)\n",
      "Requirement already satisfied: click>=8.1.3 in c:\\anaconda\\lib\\site-packages (from Flask->pywhatkit) (8.1.7)\n",
      "Requirement already satisfied: blinker>=1.6.2 in c:\\anaconda\\lib\\site-packages (from Flask->pywhatkit) (1.6.2)\n",
      "Collecting pymsgbox (from pyautogui->pywhatkit)\n",
      "  Downloading PyMsgBox-1.0.9.tar.gz (18 kB)\n",
      "  Installing build dependencies: started\n",
      "  Installing build dependencies: finished with status 'done'\n",
      "  Getting requirements to build wheel: started\n",
      "  Getting requirements to build wheel: finished with status 'done'\n",
      "  Preparing metadata (pyproject.toml): started\n",
      "  Preparing metadata (pyproject.toml): finished with status 'done'\n",
      "Collecting pytweening>=1.0.4 (from pyautogui->pywhatkit)\n",
      "  Downloading pytweening-1.2.0.tar.gz (171 kB)\n",
      "  Preparing metadata (setup.py): started\n",
      "  Preparing metadata (setup.py): finished with status 'done'\n",
      "Collecting pyscreeze>=0.1.21 (from pyautogui->pywhatkit)\n",
      "  Downloading pyscreeze-1.0.1.tar.gz (27 kB)\n",
      "  Installing build dependencies: started\n",
      "  Installing build dependencies: finished with status 'done'\n",
      "  Getting requirements to build wheel: started\n",
      "  Getting requirements to build wheel: finished with status 'done'\n",
      "  Preparing metadata (pyproject.toml): started\n",
      "  Preparing metadata (pyproject.toml): finished with status 'done'\n",
      "Collecting pygetwindow>=0.0.5 (from pyautogui->pywhatkit)\n",
      "  Downloading PyGetWindow-0.0.9.tar.gz (9.7 kB)\n",
      "  Preparing metadata (setup.py): started\n",
      "  Preparing metadata (setup.py): finished with status 'done'\n",
      "Collecting mouseinfo (from pyautogui->pywhatkit)\n",
      "  Downloading MouseInfo-0.1.3.tar.gz (10 kB)\n",
      "  Preparing metadata (setup.py): started\n",
      "  Preparing metadata (setup.py): finished with status 'done'\n",
      "Requirement already satisfied: charset-normalizer<4,>=2 in c:\\anaconda\\lib\\site-packages (from requests->pywhatkit) (3.3.2)\n",
      "Requirement already satisfied: idna<4,>=2.5 in c:\\anaconda\\lib\\site-packages (from requests->pywhatkit) (3.7)\n",
      "Requirement already satisfied: urllib3<3,>=1.21.1 in c:\\anaconda\\lib\\site-packages (from requests->pywhatkit) (2.2.3)\n",
      "Requirement already satisfied: certifi>=2017.4.17 in c:\\anaconda\\lib\\site-packages (from requests->pywhatkit) (2025.4.26)\n",
      "Requirement already satisfied: beautifulsoup4 in c:\\anaconda\\lib\\site-packages (from wikipedia->pywhatkit) (4.12.3)\n",
      "Requirement already satisfied: colorama in c:\\anaconda\\lib\\site-packages (from click>=8.1.3->Flask->pywhatkit) (0.4.6)\n",
      "Requirement already satisfied: MarkupSafe>=2.0 in c:\\anaconda\\lib\\site-packages (from Jinja2>=3.1.2->Flask->pywhatkit) (2.1.3)\n",
      "Collecting pyrect (from pygetwindow>=0.0.5->pyautogui->pywhatkit)\n",
      "  Downloading PyRect-0.2.0.tar.gz (17 kB)\n",
      "  Preparing metadata (setup.py): started\n",
      "  Preparing metadata (setup.py): finished with status 'done'\n",
      "Requirement already satisfied: soupsieve>1.2 in c:\\anaconda\\lib\\site-packages (from beautifulsoup4->wikipedia->pywhatkit) (2.5)\n",
      "Collecting pyperclip (from mouseinfo->pyautogui->pywhatkit)\n",
      "  Downloading pyperclip-1.9.0.tar.gz (20 kB)\n",
      "  Preparing metadata (setup.py): started\n",
      "  Preparing metadata (setup.py): finished with status 'done'\n",
      "Downloading pywhatkit-5.4-py3-none-any.whl (15 kB)\n",
      "Building wheels for collected packages: pyautogui, wikipedia, pygetwindow, pyscreeze, pytweening, mouseinfo, pymsgbox, pyperclip, pyrect\n",
      "  Building wheel for pyautogui (pyproject.toml): started\n",
      "  Building wheel for pyautogui (pyproject.toml): finished with status 'done'\n",
      "  Created wheel for pyautogui: filename=pyautogui-0.9.54-py3-none-any.whl size=37707 sha256=67c98aaf401ffc75f421ab557120b477e6beabc55b0740317bfe9927a6af5eec\n",
      "  Stored in directory: c:\\users\\surya\\appdata\\local\\pip\\cache\\wheels\\d9\\d6\\47\\04075995b093ecc87c212c9a3dbd34e59456c6fe504d65c3e4\n",
      "  Building wheel for wikipedia (setup.py): started\n",
      "  Building wheel for wikipedia (setup.py): finished with status 'done'\n",
      "  Created wheel for wikipedia: filename=wikipedia-1.4.0-py3-none-any.whl size=11705 sha256=a57a78cfdfb52a75857af849987f59f7ad95dee2ef96a225cccdaad64ffad041\n",
      "  Stored in directory: c:\\users\\surya\\appdata\\local\\pip\\cache\\wheels\\63\\47\\7c\\a9688349aa74d228ce0a9023229c6c0ac52ca2a40fe87679b8\n",
      "  Building wheel for pygetwindow (setup.py): started\n",
      "  Building wheel for pygetwindow (setup.py): finished with status 'done'\n",
      "  Created wheel for pygetwindow: filename=PyGetWindow-0.0.9-py3-none-any.whl size=11081 sha256=99944f21c80b52cd12fdf411c4815dfd5a61f651f3de0725eda45e34f88c18c4\n",
      "  Stored in directory: c:\\users\\surya\\appdata\\local\\pip\\cache\\wheels\\b3\\39\\81\\34dd7a2eca5f885f1f6e2796761970daf66a2d98ac1904f5f4\n",
      "  Building wheel for pyscreeze (pyproject.toml): started\n",
      "  Building wheel for pyscreeze (pyproject.toml): finished with status 'done'\n",
      "  Created wheel for pyscreeze: filename=pyscreeze-1.0.1-py3-none-any.whl size=14481 sha256=885513831318e0c4707f83c3c85d6171fae30136031eb5aa7e3b4c0fd129f716\n",
      "  Stored in directory: c:\\users\\surya\\appdata\\local\\pip\\cache\\wheels\\cd\\3a\\c2\\7f2839239a069aa3c9564f6777cbb29d733720ef673f104f0d\n",
      "  Building wheel for pytweening (setup.py): started\n",
      "  Building wheel for pytweening (setup.py): finished with status 'done'\n",
      "  Created wheel for pytweening: filename=pytweening-1.2.0-py3-none-any.whl size=8029 sha256=5f632a3c839e84790bc0212878d404ed0dcde998cc6c446480df15e2903b05d3\n",
      "  Stored in directory: c:\\users\\surya\\appdata\\local\\pip\\cache\\wheels\\23\\d5\\13\\4e9bdadbfe3c78e47c675e7410c0eed2fbb63c5ea6cf1b40e7\n",
      "  Building wheel for mouseinfo (setup.py): started\n",
      "  Building wheel for mouseinfo (setup.py): finished with status 'done'\n",
      "  Created wheel for mouseinfo: filename=MouseInfo-0.1.3-py3-none-any.whl size=10903 sha256=e6c09828ecf06454d545883f3f30a7ba15389843d746f0defa6c93cd636e585e\n",
      "  Stored in directory: c:\\users\\surya\\appdata\\local\\pip\\cache\\wheels\\b1\\9b\\f3\\08650eb7f00af32f07789f3c6a101e0d7fc762b9891ae843bb\n",
      "  Building wheel for pymsgbox (pyproject.toml): started\n",
      "  Building wheel for pymsgbox (pyproject.toml): finished with status 'done'\n",
      "  Created wheel for pymsgbox: filename=pymsgbox-1.0.9-py3-none-any.whl size=7467 sha256=9d9205d66127155c6cf0eea18e91d38d875f941fb0f0b4fb36febb32a9d20ef6\n",
      "  Stored in directory: c:\\users\\surya\\appdata\\local\\pip\\cache\\wheels\\55\\e7\\aa\\239163543708d1e15c3d9a1b89dbfe3954b0929a6df2951b83\n",
      "  Building wheel for pyperclip (setup.py): started\n",
      "  Building wheel for pyperclip (setup.py): finished with status 'done'\n",
      "  Created wheel for pyperclip: filename=pyperclip-1.9.0-py3-none-any.whl size=11019 sha256=5140f0d2f9c5d6b5af6dddc0ae1518fde57787451eb7e34b89f6d4aaf2cfbd3e\n",
      "  Stored in directory: c:\\users\\surya\\appdata\\local\\pip\\cache\\wheels\\e0\\e8\\fc\\8ab8aa326e33bc066ccd5f3ca9646eab4299881af933f94f09\n",
      "  Building wheel for pyrect (setup.py): started\n",
      "  Building wheel for pyrect (setup.py): finished with status 'done'\n",
      "  Created wheel for pyrect: filename=PyRect-0.2.0-py2.py3-none-any.whl size=11207 sha256=b9bb3fdef3f697989a5b702d3a39d7663a381f8b614fd18299f8c6882f03f0cf\n",
      "  Stored in directory: c:\\users\\surya\\appdata\\local\\pip\\cache\\wheels\\0b\\1e\\d7\\0c74bd8f60b39c14d84e307398786002aa7ddc905927cc03c5\n",
      "Successfully built pyautogui wikipedia pygetwindow pyscreeze pytweening mouseinfo pymsgbox pyperclip pyrect\n",
      "Installing collected packages: pytweening, pyscreeze, pyrect, pyperclip, pymsgbox, pygetwindow, mouseinfo, wikipedia, pyautogui, pywhatkit\n",
      "Successfully installed mouseinfo-0.1.3 pyautogui-0.9.54 pygetwindow-0.0.9 pymsgbox-1.0.9 pyperclip-1.9.0 pyrect-0.2.0 pyscreeze-1.0.1 pytweening-1.2.0 pywhatkit-5.4 wikipedia-1.4.0\n"
     ]
    }
   ],
   "source": [
    "!pip install pywhatkit"
   ]
  },
  {
   "cell_type": "code",
   "execution_count": 2,
   "id": "6877a8bc-77a8-4198-b98b-9dd426ff008c",
   "metadata": {},
   "outputs": [],
   "source": [
    "import pywhatkit as kit"
   ]
  },
  {
   "cell_type": "code",
   "execution_count": 3,
   "id": "1121c763-3de0-4748-a0a4-82fbea51b9d4",
   "metadata": {},
   "outputs": [
    {
     "data": {
      "text/plain": [
       "'https://www.youtube.com/watch?v=JgDNFQ2RaLQ\\\\\\\\u0026list=RDJgDNFQ2RaLQ\\\\\\\\u0026start_radio=1\\\\\\\\u0026pp=ygUIU2FwcGhpcmWgBwE%3D'"
      ]
     },
     "execution_count": 3,
     "metadata": {},
     "output_type": "execute_result"
    }
   ],
   "source": [
    "kit.playonyt(\"Sapphire\")"
   ]
  },
  {
   "cell_type": "code",
   "execution_count": 5,
   "id": "52b83cf8-7b2b-4c0a-b99b-b09a67a5a8fa",
   "metadata": {},
   "outputs": [],
   "source": [
    "kit.search(\"Ind vs Eng\")"
   ]
  },
  {
   "cell_type": "code",
   "execution_count": 10,
   "id": "a9673a74-e72c-48e0-87cb-9c5f2c6164ae",
   "metadata": {},
   "outputs": [],
   "source": [
    "import calendar"
   ]
  },
  {
   "cell_type": "code",
   "execution_count": 11,
   "id": "c161ee5f-1b41-4faa-98a5-2bbcbc52e8d2",
   "metadata": {},
   "outputs": [
    {
     "name": "stdout",
     "output_type": "stream",
     "text": [
      "                                  2025\n",
      "\n",
      "      January                   February                   March\n",
      "Mo Tu We Th Fr Sa Su      Mo Tu We Th Fr Sa Su      Mo Tu We Th Fr Sa Su\n",
      "       1  2  3  4  5                      1  2                      1  2\n",
      " 6  7  8  9 10 11 12       3  4  5  6  7  8  9       3  4  5  6  7  8  9\n",
      "13 14 15 16 17 18 19      10 11 12 13 14 15 16      10 11 12 13 14 15 16\n",
      "20 21 22 23 24 25 26      17 18 19 20 21 22 23      17 18 19 20 21 22 23\n",
      "27 28 29 30 31            24 25 26 27 28            24 25 26 27 28 29 30\n",
      "                                                    31\n",
      "\n",
      "       April                      May                       June\n",
      "Mo Tu We Th Fr Sa Su      Mo Tu We Th Fr Sa Su      Mo Tu We Th Fr Sa Su\n",
      "    1  2  3  4  5  6                1  2  3  4                         1\n",
      " 7  8  9 10 11 12 13       5  6  7  8  9 10 11       2  3  4  5  6  7  8\n",
      "14 15 16 17 18 19 20      12 13 14 15 16 17 18       9 10 11 12 13 14 15\n",
      "21 22 23 24 25 26 27      19 20 21 22 23 24 25      16 17 18 19 20 21 22\n",
      "28 29 30                  26 27 28 29 30 31         23 24 25 26 27 28 29\n",
      "                                                    30\n",
      "\n",
      "        July                     August                  September\n",
      "Mo Tu We Th Fr Sa Su      Mo Tu We Th Fr Sa Su      Mo Tu We Th Fr Sa Su\n",
      "    1  2  3  4  5  6                   1  2  3       1  2  3  4  5  6  7\n",
      " 7  8  9 10 11 12 13       4  5  6  7  8  9 10       8  9 10 11 12 13 14\n",
      "14 15 16 17 18 19 20      11 12 13 14 15 16 17      15 16 17 18 19 20 21\n",
      "21 22 23 24 25 26 27      18 19 20 21 22 23 24      22 23 24 25 26 27 28\n",
      "28 29 30 31               25 26 27 28 29 30 31      29 30\n",
      "\n",
      "      October                   November                  December\n",
      "Mo Tu We Th Fr Sa Su      Mo Tu We Th Fr Sa Su      Mo Tu We Th Fr Sa Su\n",
      "       1  2  3  4  5                      1  2       1  2  3  4  5  6  7\n",
      " 6  7  8  9 10 11 12       3  4  5  6  7  8  9       8  9 10 11 12 13 14\n",
      "13 14 15 16 17 18 19      10 11 12 13 14 15 16      15 16 17 18 19 20 21\n",
      "20 21 22 23 24 25 26      17 18 19 20 21 22 23      22 23 24 25 26 27 28\n",
      "27 28 29 30 31            24 25 26 27 28 29 30      29 30 31\n",
      "\n"
     ]
    }
   ],
   "source": [
    "print(calendar.calendar(2025))"
   ]
  },
  {
   "cell_type": "code",
   "execution_count": 13,
   "id": "46a22a06-3089-4299-9cc8-50e224b29b7e",
   "metadata": {},
   "outputs": [
    {
     "data": {
      "text/plain": [
       "datetime.datetime(2025, 6, 20, 9, 0, 53, 95185)"
      ]
     },
     "execution_count": 13,
     "metadata": {},
     "output_type": "execute_result"
    }
   ],
   "source": [
    "# to find the time now\n",
    "import datetime\n",
    "datetime.datetime.now()"
   ]
  },
  {
   "cell_type": "code",
   "execution_count": 14,
   "id": "c9fecf10-16ee-45ee-b039-a6d1cf1f218c",
   "metadata": {},
   "outputs": [],
   "source": [
    "# to find your age\n",
    "td = datetime.datetime.now()\n",
    "dob = datetime.datetime(1970,12,25,3,45)"
   ]
  },
  {
   "cell_type": "code",
   "execution_count": 15,
   "id": "3dc0f522-0f0a-4da2-8679-c96e0254c257",
   "metadata": {},
   "outputs": [
    {
     "data": {
      "text/plain": [
       "54"
      ]
     },
     "execution_count": 15,
     "metadata": {},
     "output_type": "execute_result"
    }
   ],
   "source": [
    "a = td - dob\n",
    "b = a/365.25\n",
    "b.days"
   ]
  },
  {
   "cell_type": "code",
   "execution_count": 16,
   "id": "4cdba9ae-d250-4761-8982-c7a589fc6bdd",
   "metadata": {
    "scrolled": true
   },
   "outputs": [
    {
     "name": "stdout",
     "output_type": "stream",
     "text": [
      "Collecting pygame\n",
      "  Downloading pygame-2.6.1-cp312-cp312-win_amd64.whl.metadata (13 kB)\n",
      "Downloading pygame-2.6.1-cp312-cp312-win_amd64.whl (10.6 MB)\n",
      "   ---------------------------------------- 0.0/10.6 MB ? eta -:--:--\n",
      "   ---------------------------------------- 0.0/10.6 MB ? eta -:--:--\n",
      "    --------------------------------------- 0.3/10.6 MB ? eta -:--:--\n",
      "   - -------------------------------------- 0.5/10.6 MB 989.2 kB/s eta 0:00:11\n",
      "   - -------------------------------------- 0.5/10.6 MB 989.2 kB/s eta 0:00:11\n",
      "   -- ------------------------------------- 0.8/10.6 MB 958.5 kB/s eta 0:00:11\n",
      "   --- ------------------------------------ 1.0/10.6 MB 883.6 kB/s eta 0:00:11\n",
      "   --- ------------------------------------ 1.0/10.6 MB 883.6 kB/s eta 0:00:11\n",
      "   ---- ----------------------------------- 1.3/10.6 MB 860.2 kB/s eta 0:00:11\n",
      "   ---- ----------------------------------- 1.3/10.6 MB 860.2 kB/s eta 0:00:11\n",
      "   ----- ---------------------------------- 1.6/10.6 MB 814.6 kB/s eta 0:00:12\n",
      "   ------ --------------------------------- 1.8/10.6 MB 812.0 kB/s eta 0:00:11\n",
      "   ------ --------------------------------- 1.8/10.6 MB 812.0 kB/s eta 0:00:11\n",
      "   ------- -------------------------------- 2.1/10.6 MB 827.0 kB/s eta 0:00:11\n",
      "   -------- ------------------------------- 2.4/10.6 MB 844.3 kB/s eta 0:00:10\n",
      "   -------- ------------------------------- 2.4/10.6 MB 844.3 kB/s eta 0:00:10\n",
      "   ---------- ----------------------------- 2.9/10.6 MB 869.5 kB/s eta 0:00:09\n",
      "   ---------- ----------------------------- 2.9/10.6 MB 869.5 kB/s eta 0:00:09\n",
      "   ----------- ---------------------------- 3.1/10.6 MB 878.9 kB/s eta 0:00:09\n",
      "   ----------- ---------------------------- 3.1/10.6 MB 878.9 kB/s eta 0:00:09\n",
      "   ------------ --------------------------- 3.4/10.6 MB 845.9 kB/s eta 0:00:09\n",
      "   ------------ --------------------------- 3.4/10.6 MB 845.9 kB/s eta 0:00:09\n",
      "   -------------- ------------------------- 3.9/10.6 MB 860.5 kB/s eta 0:00:08\n",
      "   -------------- ------------------------- 3.9/10.6 MB 860.5 kB/s eta 0:00:08\n",
      "   --------------- ------------------------ 4.2/10.6 MB 864.8 kB/s eta 0:00:08\n",
      "   --------------- ------------------------ 4.2/10.6 MB 864.8 kB/s eta 0:00:08\n",
      "   ---------------- ----------------------- 4.5/10.6 MB 852.2 kB/s eta 0:00:08\n",
      "   ----------------- ---------------------- 4.7/10.6 MB 867.0 kB/s eta 0:00:07\n",
      "   ----------------- ---------------------- 4.7/10.6 MB 867.0 kB/s eta 0:00:07\n",
      "   ----------------- ---------------------- 4.7/10.6 MB 867.0 kB/s eta 0:00:07\n",
      "   ----------------- ---------------------- 4.7/10.6 MB 867.0 kB/s eta 0:00:07\n",
      "   ------------------ --------------------- 5.0/10.6 MB 790.5 kB/s eta 0:00:08\n",
      "   ------------------ --------------------- 5.0/10.6 MB 790.5 kB/s eta 0:00:08\n",
      "   ------------------- -------------------- 5.2/10.6 MB 762.6 kB/s eta 0:00:08\n",
      "   ------------------- -------------------- 5.2/10.6 MB 762.6 kB/s eta 0:00:08\n",
      "   ------------------- -------------------- 5.2/10.6 MB 762.6 kB/s eta 0:00:08\n",
      "   -------------------- ------------------- 5.5/10.6 MB 727.9 kB/s eta 0:00:08\n",
      "   -------------------- ------------------- 5.5/10.6 MB 727.9 kB/s eta 0:00:08\n",
      "   -------------------- ------------------- 5.5/10.6 MB 727.9 kB/s eta 0:00:08\n",
      "   --------------------- ------------------ 5.8/10.6 MB 709.0 kB/s eta 0:00:07\n",
      "   --------------------- ------------------ 5.8/10.6 MB 709.0 kB/s eta 0:00:07\n",
      "   --------------------- ------------------ 5.8/10.6 MB 709.0 kB/s eta 0:00:07\n",
      "   --------------------- ------------------ 5.8/10.6 MB 709.0 kB/s eta 0:00:07\n",
      "   ---------------------- ----------------- 6.0/10.6 MB 676.0 kB/s eta 0:00:07\n",
      "   ---------------------- ----------------- 6.0/10.6 MB 676.0 kB/s eta 0:00:07\n",
      "   ---------------------- ----------------- 6.0/10.6 MB 676.0 kB/s eta 0:00:07\n",
      "   ----------------------- ---------------- 6.3/10.6 MB 665.3 kB/s eta 0:00:07\n",
      "   ----------------------- ---------------- 6.3/10.6 MB 665.3 kB/s eta 0:00:07\n",
      "   ------------------------ --------------- 6.6/10.6 MB 660.1 kB/s eta 0:00:07\n",
      "   ------------------------ --------------- 6.6/10.6 MB 660.1 kB/s eta 0:00:07\n",
      "   ------------------------- -------------- 6.8/10.6 MB 651.3 kB/s eta 0:00:06\n",
      "   ------------------------- -------------- 6.8/10.6 MB 651.3 kB/s eta 0:00:06\n",
      "   -------------------------- ------------- 7.1/10.6 MB 656.9 kB/s eta 0:00:06\n",
      "   --------------------------- ------------ 7.3/10.6 MB 663.2 kB/s eta 0:00:05\n",
      "   --------------------------- ------------ 7.3/10.6 MB 663.2 kB/s eta 0:00:05\n",
      "   ---------------------------- ----------- 7.6/10.6 MB 664.4 kB/s eta 0:00:05\n",
      "   ----------------------------- ---------- 7.9/10.6 MB 670.1 kB/s eta 0:00:05\n",
      "   ----------------------------- ---------- 7.9/10.6 MB 670.1 kB/s eta 0:00:05\n",
      "   ----------------------------- ---------- 7.9/10.6 MB 670.1 kB/s eta 0:00:05\n",
      "   ------------------------------ --------- 8.1/10.6 MB 666.6 kB/s eta 0:00:04\n",
      "   ------------------------------- -------- 8.4/10.6 MB 674.6 kB/s eta 0:00:04\n",
      "   -------------------------------- ------- 8.7/10.6 MB 680.5 kB/s eta 0:00:03\n",
      "   --------------------------------- ------ 8.9/10.6 MB 686.9 kB/s eta 0:00:03\n",
      "   --------------------------------- ------ 8.9/10.6 MB 686.9 kB/s eta 0:00:03\n",
      "   ---------------------------------- ----- 9.2/10.6 MB 692.3 kB/s eta 0:00:03\n",
      "   ----------------------------------- ---- 9.4/10.6 MB 695.8 kB/s eta 0:00:02\n",
      "   ------------------------------------ --- 9.7/10.6 MB 701.5 kB/s eta 0:00:02\n",
      "   ------------------------------------- -- 10.0/10.6 MB 709.4 kB/s eta 0:00:01\n",
      "   ------------------------------------- -- 10.0/10.6 MB 709.4 kB/s eta 0:00:01\n",
      "   -------------------------------------- - 10.2/10.6 MB 713.1 kB/s eta 0:00:01\n",
      "   -------------------------------------- - 10.2/10.6 MB 713.1 kB/s eta 0:00:01\n",
      "   ---------------------------------------  10.5/10.6 MB 713.5 kB/s eta 0:00:01\n",
      "   ---------------------------------------- 10.6/10.6 MB 709.3 kB/s eta 0:00:00\n",
      "Installing collected packages: pygame\n",
      "Successfully installed pygame-2.6.1\n"
     ]
    }
   ],
   "source": [
    "!pip install pygame"
   ]
  },
  {
   "cell_type": "code",
   "execution_count": 17,
   "id": "58959f9b-6633-4bf9-86c4-8a397b8c8840",
   "metadata": {},
   "outputs": [
    {
     "name": "stdout",
     "output_type": "stream",
     "text": [
      "pygame 2.6.1 (SDL 2.28.4, Python 3.12.7)\n",
      "Hello from the pygame community. https://www.pygame.org/contribute.html\n"
     ]
    },
    {
     "ename": "error",
     "evalue": "display Surface quit",
     "output_type": "error",
     "traceback": [
      "\u001b[1;31m---------------------------------------------------------------------------\u001b[0m",
      "\u001b[1;31merror\u001b[0m                                     Traceback (most recent call last)",
      "Cell \u001b[1;32mIn[17], line 121\u001b[0m\n\u001b[0;32m    118\u001b[0m     quit()\n\u001b[0;32m    120\u001b[0m \u001b[38;5;66;03m# Run the game\u001b[39;00m\n\u001b[1;32m--> 121\u001b[0m gameLoop()\n",
      "Cell \u001b[1;32mIn[17], line 58\u001b[0m, in \u001b[0;36mgameLoop\u001b[1;34m()\u001b[0m\n\u001b[0;32m     55\u001b[0m \u001b[38;5;28;01mwhile\u001b[39;00m \u001b[38;5;129;01mnot\u001b[39;00m game_over:\n\u001b[0;32m     57\u001b[0m     \u001b[38;5;28;01mwhile\u001b[39;00m game_close:\n\u001b[1;32m---> 58\u001b[0m         window\u001b[38;5;241m.\u001b[39mfill(blue)\n\u001b[0;32m     59\u001b[0m         message(\u001b[38;5;124m\"\u001b[39m\u001b[38;5;124mYou lost! Press Q-Quit or C-Play Again\u001b[39m\u001b[38;5;124m\"\u001b[39m, red)\n\u001b[0;32m     60\u001b[0m         your_score(Length_of_snake \u001b[38;5;241m-\u001b[39m \u001b[38;5;241m1\u001b[39m)\n",
      "\u001b[1;31merror\u001b[0m: display Surface quit"
     ]
    }
   ],
   "source": [
    "import pygame\n",
    "import time\n",
    "import random\n",
    "from IPython.display import display, clear_output\n",
    "\n",
    "# Initialize pygame\n",
    "pygame.init()\n",
    "\n",
    "# Set up display\n",
    "width, height = 600, 400\n",
    "window = pygame.display.set_mode((width, height))\n",
    "pygame.display.set_caption(\"Snake Game\")\n",
    "\n",
    "# Colors\n",
    "black = (0, 0, 0)\n",
    "red = (255, 0, 0)\n",
    "green = (0, 255, 0)\n",
    "blue = (50, 153, 213)\n",
    "white = (255, 255, 255)\n",
    "\n",
    "# Snake and Food settings\n",
    "block_size = 20\n",
    "clock = pygame.time.Clock()\n",
    "font_style = pygame.font.SysFont(\"bahnschrift\", 25)\n",
    "score_font = pygame.font.SysFont(\"comicsansms\", 35)\n",
    "\n",
    "def your_score(score):\n",
    "    value = score_font.render(\"Score: \" + str(score), True, red)\n",
    "    window.blit(value, [0, 0])\n",
    "\n",
    "def draw_snake(snake_block, snake_list):\n",
    "    for x in snake_list:\n",
    "        pygame.draw.rect(window, green, [x[0], x[1], snake_block, snake_block])\n",
    "\n",
    "def message(msg, color):\n",
    "    mesg = font_style.render(msg, True, color)\n",
    "    window.blit(mesg, [width / 6, height / 3])\n",
    "\n",
    "def gameLoop():\n",
    "    game_over = False\n",
    "    game_close = False\n",
    "\n",
    "    x1 = width / 2\n",
    "    y1 = height / 2\n",
    "\n",
    "    x1_change = 0\n",
    "    y1_change = 0\n",
    "\n",
    "    snake_List = []\n",
    "    Length_of_snake = 1\n",
    "\n",
    "    foodx = round(random.randrange(0, width - block_size) / 20.0) * 20.0\n",
    "    foody = round(random.randrange(0, height - block_size) / 20.0) * 20.0\n",
    "\n",
    "    while not game_over:\n",
    "\n",
    "        while game_close:\n",
    "            window.fill(blue)\n",
    "            message(\"You lost! Press Q-Quit or C-Play Again\", red)\n",
    "            your_score(Length_of_snake - 1)\n",
    "            pygame.display.update()\n",
    "\n",
    "            for event in pygame.event.get():\n",
    "                if event.type == pygame.KEYDOWN:\n",
    "                    if event.key == pygame.K_q:\n",
    "                        game_over = True\n",
    "                        game_close = False\n",
    "                    if event.key == pygame.K_c:\n",
    "                        gameLoop()\n",
    "\n",
    "        for event in pygame.event.get():\n",
    "            if event.type == pygame.QUIT:\n",
    "                game_over = True\n",
    "            if event.type == pygame.KEYDOWN:\n",
    "                if event.key == pygame.K_LEFT:\n",
    "                    x1_change = -block_size\n",
    "                    y1_change = 0\n",
    "                elif event.key == pygame.K_RIGHT:\n",
    "                    x1_change = block_size\n",
    "                    y1_change = 0\n",
    "                elif event.key == pygame.K_UP:\n",
    "                    y1_change = -block_size\n",
    "                    x1_change = 0\n",
    "                elif event.key == pygame.K_DOWN:\n",
    "                    y1_change = block_size\n",
    "                    x1_change = 0\n",
    "\n",
    "        if x1 >= width or x1 < 0 or y1 >= height or y1 < 0:\n",
    "            game_close = True\n",
    "        x1 += x1_change\n",
    "        y1 += y1_change\n",
    "        window.fill(blue)\n",
    "        pygame.draw.rect(window, white, [foodx, foody, block_size, block_size])\n",
    "        snake_Head = []\n",
    "        snake_Head.append(x1)\n",
    "        snake_Head.append(y1)\n",
    "        snake_List.append(snake_Head)\n",
    "        if len(snake_List) > Length_of_snake:\n",
    "            del snake_List[0]\n",
    "\n",
    "        for x in snake_List[:-1]:\n",
    "            if x == snake_Head:\n",
    "                game_close = True\n",
    "\n",
    "        draw_snake(block_size, snake_List)\n",
    "        your_score(Length_of_snake - 1)\n",
    "\n",
    "        pygame.display.update()\n",
    "\n",
    "        if x1 == foodx and y1 == foody:\n",
    "            foodx = round(random.randrange(0, width - block_size) / 20.0) * 20.0\n",
    "            foody = round(random.randrange(0, height - block_size) / 20.0) * 20.0\n",
    "            Length_of_snake += 1\n",
    "\n",
    "        clock.tick(15)\n",
    "\n",
    "    pygame.quit()\n",
    "    quit()\n",
    "\n",
    "# Run the game\n",
    "gameLoop()"
   ]
  },
  {
   "cell_type": "code",
   "execution_count": null,
   "id": "60b8b6ac-44ed-4105-bf4d-fe81f894de23",
   "metadata": {},
   "outputs": [],
   "source": []
  }
 ],
 "metadata": {
  "kernelspec": {
   "display_name": "Python [conda env:base] *",
   "language": "python",
   "name": "conda-base-py"
  },
  "language_info": {
   "codemirror_mode": {
    "name": "ipython",
    "version": 3
   },
   "file_extension": ".py",
   "mimetype": "text/x-python",
   "name": "python",
   "nbconvert_exporter": "python",
   "pygments_lexer": "ipython3",
   "version": "3.12.7"
  }
 },
 "nbformat": 4,
 "nbformat_minor": 5
}
