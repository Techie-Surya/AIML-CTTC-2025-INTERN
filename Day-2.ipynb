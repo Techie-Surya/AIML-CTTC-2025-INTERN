{
 "cells": [
  {
   "cell_type": "markdown",
   "id": "052d13c7-cb42-445e-a194-0798680df3c2",
   "metadata": {},
   "source": [
    "### String"
   ]
  },
  {
   "cell_type": "code",
   "execution_count": 2,
   "id": "7164cb44-7c0c-46f5-92a9-891d3747cf3c",
   "metadata": {},
   "outputs": [
    {
     "name": "stdout",
     "output_type": "stream",
     "text": [
      "a balloon is red\n"
     ]
    },
    {
     "data": {
      "text/plain": [
       "str"
      ]
     },
     "execution_count": 2,
     "metadata": {},
     "output_type": "execute_result"
    }
   ],
   "source": [
    "a = \"a balloon is red\"\n",
    "print(a)\n",
    "type(a)"
   ]
  },
  {
   "cell_type": "code",
   "execution_count": 4,
   "id": "837d900e-7cee-48c7-adf2-480c63611caa",
   "metadata": {},
   "outputs": [
    {
     "data": {
      "text/plain": [
       "'a'"
      ]
     },
     "execution_count": 4,
     "metadata": {},
     "output_type": "execute_result"
    }
   ],
   "source": [
    "a = \"aeroplane\"\n",
    "a[6]"
   ]
  },
  {
   "cell_type": "code",
   "execution_count": 5,
   "id": "6c7f5ab2-c96f-4ae0-94f6-3c43c43c8a5b",
   "metadata": {},
   "outputs": [
    {
     "data": {
      "text/plain": [
       "'plane'"
      ]
     },
     "execution_count": 5,
     "metadata": {},
     "output_type": "execute_result"
    }
   ],
   "source": [
    "a = \"aeroplane\"\n",
    "a[4:9:1]"
   ]
  },
  {
   "cell_type": "code",
   "execution_count": 6,
   "id": "2f8d953f-62c1-4aee-9bfe-4de89a79eb65",
   "metadata": {},
   "outputs": [
    {
     "data": {
      "text/plain": [
       "'pae'"
      ]
     },
     "execution_count": 6,
     "metadata": {},
     "output_type": "execute_result"
    }
   ],
   "source": [
    "a = \"aeroplane\"\n",
    "a[4:9:2]"
   ]
  },
  {
   "cell_type": "code",
   "execution_count": 7,
   "id": "1a938c83-c0e0-4013-9c83-ccb52b8377ec",
   "metadata": {},
   "outputs": [
    {
     "data": {
      "text/plain": [
       "'plane'"
      ]
     },
     "execution_count": 7,
     "metadata": {},
     "output_type": "execute_result"
    }
   ],
   "source": [
    "a = \"aeroplane\"\n",
    "a[4:9]"
   ]
  },
  {
   "cell_type": "code",
   "execution_count": 8,
   "id": "bb65ee82-1b20-47e7-b0c8-5f457aee7e07",
   "metadata": {},
   "outputs": [
    {
     "data": {
      "text/plain": [
       "'arpae'"
      ]
     },
     "execution_count": 8,
     "metadata": {},
     "output_type": "execute_result"
    }
   ],
   "source": [
    "a = \"aeroplane\"\n",
    "a[0:9:2]"
   ]
  },
  {
   "cell_type": "code",
   "execution_count": 9,
   "id": "3bb3340d-ec68-4551-8bb6-5c95c248da94",
   "metadata": {},
   "outputs": [
    {
     "data": {
      "text/plain": [
       "'enalporea'"
      ]
     },
     "execution_count": 9,
     "metadata": {},
     "output_type": "execute_result"
    }
   ],
   "source": [
    "#'enalporea'\n",
    "a = \"aeroplane\"\n",
    "a[-1:-10:-1]"
   ]
  },
  {
   "cell_type": "code",
   "execution_count": 12,
   "id": "25afe781-4671-4cbd-8b68-311f234a09bc",
   "metadata": {},
   "outputs": [
    {
     "name": "stdout",
     "output_type": "stream",
     "text": [
      "aero\n",
      "ena\n"
     ]
    }
   ],
   "source": [
    "#The default value of start index is the starting index of the string in any direction\n",
    "a = \"aeroplane\"\n",
    "print(a[:4:1])\n",
    "print(a[:-4:-1])"
   ]
  },
  {
   "cell_type": "code",
   "execution_count": 19,
   "id": "faeed00a-aa3f-479f-88f7-908ea8f7aefd",
   "metadata": {},
   "outputs": [
    {
     "name": "stdout",
     "output_type": "stream",
     "text": [
      "plane\n",
      "\n"
     ]
    }
   ],
   "source": [
    "a = \"aeroplane\"\n",
    "print(a[4:9])\n",
    "print(a[-4:-9])\n",
    "\n"
   ]
  },
  {
   "cell_type": "code",
   "execution_count": 18,
   "id": "ea93e7d8-4894-4b18-a1ee-2443b275195c",
   "metadata": {},
   "outputs": [
    {
     "name": "stdout",
     "output_type": "stream",
     "text": [
      "loet\n",
      "om lg\n",
      "golb ym ot emoclew\n"
     ]
    }
   ],
   "source": [
    "a = 'welcome to my blog'\n",
    "print(a[2:9:2])\n",
    "print(a[9:18:2])\n",
    "print(a[-1:-19:-1])"
   ]
  },
  {
   "cell_type": "code",
   "execution_count": 20,
   "id": "c89b699e-cf83-49ff-bab1-ede29e354eef",
   "metadata": {},
   "outputs": [
    {
     "data": {
      "text/plain": [
       "'SKY IS BLUE'"
      ]
     },
     "execution_count": 20,
     "metadata": {},
     "output_type": "execute_result"
    }
   ],
   "source": [
    "#upper()\n",
    "a = 'Sky is Blue'\n",
    "a.upper()"
   ]
  },
  {
   "cell_type": "code",
   "execution_count": 21,
   "id": "8527d769-a37a-483e-938d-d6a49123cf5e",
   "metadata": {},
   "outputs": [
    {
     "data": {
      "text/plain": [
       "'sky is blue'"
      ]
     },
     "execution_count": 21,
     "metadata": {},
     "output_type": "execute_result"
    }
   ],
   "source": [
    "#lower()\n",
    "a = 'Sky is Blue'\n",
    "a.lower()"
   ]
  },
  {
   "cell_type": "code",
   "execution_count": 22,
   "id": "6f93d928-0a4f-4a1c-a080-1e38e5c8c483",
   "metadata": {},
   "outputs": [
    {
     "data": {
      "text/plain": [
       "'Sky Is Blue'"
      ]
     },
     "execution_count": 22,
     "metadata": {},
     "output_type": "execute_result"
    }
   ],
   "source": [
    "#title()\n",
    "a = 'Sky is Blue'\n",
    "a.title()"
   ]
  },
  {
   "cell_type": "code",
   "execution_count": 23,
   "id": "fdb57927-d0db-4434-b8f7-61dfa5518c16",
   "metadata": {},
   "outputs": [
    {
     "data": {
      "text/plain": [
       "'Sky is blue'"
      ]
     },
     "execution_count": 23,
     "metadata": {},
     "output_type": "execute_result"
    }
   ],
   "source": [
    "#capitalize()\n",
    "a = 'Sky is Blue'\n",
    "a.capitalize()"
   ]
  },
  {
   "cell_type": "code",
   "execution_count": 24,
   "id": "26644a95-e1e3-4d5f-9b8f-0e956803bd4b",
   "metadata": {},
   "outputs": [
    {
     "data": {
      "text/plain": [
       "'sKY IS bLUE'"
      ]
     },
     "execution_count": 24,
     "metadata": {},
     "output_type": "execute_result"
    }
   ],
   "source": [
    "#swapcase()\n",
    "a = 'Sky is Blue'\n",
    "a.swapcase()"
   ]
  },
  {
   "cell_type": "code",
   "execution_count": 28,
   "id": "09e80a8b-2b8b-442f-8375-eb9ffbe36490",
   "metadata": {},
   "outputs": [
    {
     "name": "stdout",
     "output_type": "stream",
     "text": [
      "4\n",
      "1\n"
     ]
    }
   ],
   "source": [
    "#count()\n",
    "a = 'Skyyyy is Blue'\n",
    "print(a.count('y'))\n",
    "print(a.count('Blue'))"
   ]
  },
  {
   "cell_type": "code",
   "execution_count": 29,
   "id": "ab9777cc-ec4b-43b3-b9de-fc6661c295f7",
   "metadata": {},
   "outputs": [
    {
     "data": {
      "text/plain": [
       "7"
      ]
     },
     "execution_count": 29,
     "metadata": {},
     "output_type": "execute_result"
    }
   ],
   "source": [
    "#index()\n",
    "a = 'Sky is Blue'\n",
    "a.index('B')"
   ]
  },
  {
   "cell_type": "code",
   "execution_count": 30,
   "id": "3f9c1503-dcb5-4331-b525-e676e33252ce",
   "metadata": {},
   "outputs": [
    {
     "data": {
      "text/plain": [
       "'pink'"
      ]
     },
     "execution_count": 30,
     "metadata": {},
     "output_type": "execute_result"
    }
   ],
   "source": [
    "#strip()\n",
    "a = '     pink  '\n",
    "a.strip()"
   ]
  },
  {
   "cell_type": "code",
   "execution_count": 31,
   "id": "8da266e0-6107-420e-985c-f765489fd3f7",
   "metadata": {},
   "outputs": [
    {
     "data": {
      "text/plain": [
       "'pink  '"
      ]
     },
     "execution_count": 31,
     "metadata": {},
     "output_type": "execute_result"
    }
   ],
   "source": [
    "#lstrip()\n",
    "a = '     pink  '\n",
    "a.lstrip()"
   ]
  },
  {
   "cell_type": "code",
   "execution_count": 33,
   "id": "0806fd0b-23db-47b1-b9f1-a3784a7846a8",
   "metadata": {},
   "outputs": [
    {
     "data": {
      "text/plain": [
       "'     pink'"
      ]
     },
     "execution_count": 33,
     "metadata": {},
     "output_type": "execute_result"
    }
   ],
   "source": [
    "#rstrip()\n",
    "a = '     pink  '\n",
    "a.rstrip()"
   ]
  },
  {
   "cell_type": "code",
   "execution_count": 34,
   "id": "05459b24-2896-4305-b0dc-a267e74d628a",
   "metadata": {},
   "outputs": [
    {
     "data": {
      "text/plain": [
       "'hello'"
      ]
     },
     "execution_count": 34,
     "metadata": {},
     "output_type": "execute_result"
    }
   ],
   "source": [
    "#strip()\n",
    "a = '*******%%%%**hello%%**%**'\n",
    "a.strip('*%')"
   ]
  },
  {
   "cell_type": "code",
   "execution_count": 25,
   "id": "e40b4187-ac06-4222-b088-5b8fc81f2dde",
   "metadata": {},
   "outputs": [
    {
     "data": {
      "text/plain": [
       "'🐶🐶🐶🐶🐶🐶🐶🐶🐶🐶🐶🐶🐶🐶🐶🐶🐶🐶🐶🐶🐶🐶🐶🐶🐶🐶🐶suman🐶🐶🐶🐶🐶🐶🐶🐶🐶🐶🐶🐶🐶🐶🐶🐶🐶🐶🐶🐶🐶🐶🐶🐶🐶🐶🐶🐶'"
      ]
     },
     "execution_count": 25,
     "metadata": {},
     "output_type": "execute_result"
    }
   ],
   "source": [
    "#center()\n",
    "a = 'suman'\n",
    "a.center(60,'🐶')"
   ]
  },
  {
   "cell_type": "code",
   "execution_count": 37,
   "id": "89b33b32-0a36-422a-b3e3-ba3cd486e1ae",
   "metadata": {},
   "outputs": [
    {
     "data": {
      "text/plain": [
       "'rose  *  lily  *  lotus'"
      ]
     },
     "execution_count": 37,
     "metadata": {},
     "output_type": "execute_result"
    }
   ],
   "source": [
    "a = ['rose','lily','lotus']\n",
    "'  *  '.join(a)"
   ]
  },
  {
   "cell_type": "code",
   "execution_count": 40,
   "id": "24438cc9-8db7-42c5-9e2e-884a4f79d8b9",
   "metadata": {},
   "outputs": [
    {
     "data": {
      "text/plain": [
       "['lily', '*', 'rose', '*', 'lotus']"
      ]
     },
     "execution_count": 40,
     "metadata": {},
     "output_type": "execute_result"
    }
   ],
   "source": [
    "#split()\n",
    "a = 'lily * rose * lotus'\n",
    "a.split()"
   ]
  },
  {
   "cell_type": "code",
   "execution_count": 41,
   "id": "f9a55182-710c-45cd-aa0b-e11590827e79",
   "metadata": {},
   "outputs": [
    {
     "data": {
      "text/plain": [
       "False"
      ]
     },
     "execution_count": 41,
     "metadata": {},
     "output_type": "execute_result"
    }
   ],
   "source": [
    "#isupper()\n",
    "a = 'Hello'\n",
    "a.isupper()"
   ]
  },
  {
   "cell_type": "code",
   "execution_count": 42,
   "id": "adbe1aa6-5272-4d09-b6e9-75f78e9a8256",
   "metadata": {},
   "outputs": [
    {
     "data": {
      "text/plain": [
       "False"
      ]
     },
     "execution_count": 42,
     "metadata": {},
     "output_type": "execute_result"
    }
   ],
   "source": [
    "#islower()\n",
    "a = 'Hello'\n",
    "a.islower()"
   ]
  },
  {
   "cell_type": "code",
   "execution_count": 6,
   "id": "d08876eb-badd-44e7-9894-d01e85aedfa7",
   "metadata": {},
   "outputs": [
    {
     "data": {
      "text/plain": [
       "False"
      ]
     },
     "execution_count": 6,
     "metadata": {},
     "output_type": "execute_result"
    }
   ],
   "source": [
    "#istitle()\n",
    "a = 'HEllo'\n",
    "a.istitle()"
   ]
  },
  {
   "cell_type": "code",
   "execution_count": 7,
   "id": "6145d66e-e81c-425c-ba52-2905295b9bc7",
   "metadata": {},
   "outputs": [
    {
     "data": {
      "text/plain": [
       "True"
      ]
     },
     "execution_count": 7,
     "metadata": {},
     "output_type": "execute_result"
    }
   ],
   "source": [
    "#istitle()\n",
    "a = 'Hello'\n",
    "a.istitle()"
   ]
  },
  {
   "cell_type": "code",
   "execution_count": 8,
   "id": "2945751d-339a-447f-89b3-7c72041f110e",
   "metadata": {},
   "outputs": [
    {
     "data": {
      "text/plain": [
       "True"
      ]
     },
     "execution_count": 8,
     "metadata": {},
     "output_type": "execute_result"
    }
   ],
   "source": [
    "#isalpha()\n",
    "a = 'Hello'\n",
    "a.isalpha()"
   ]
  },
  {
   "cell_type": "code",
   "execution_count": 9,
   "id": "c2f30efa-b836-49fc-b2f9-ba7b26ce0841",
   "metadata": {},
   "outputs": [
    {
     "data": {
      "text/plain": [
       "False"
      ]
     },
     "execution_count": 9,
     "metadata": {},
     "output_type": "execute_result"
    }
   ],
   "source": [
    "#isalpha()\n",
    "a = 'Hell@'\n",
    "a.isalpha()"
   ]
  },
  {
   "cell_type": "code",
   "execution_count": 10,
   "id": "f0ebab1f-967a-4d5b-91a7-35dfede88c37",
   "metadata": {},
   "outputs": [
    {
     "data": {
      "text/plain": [
       "False"
      ]
     },
     "execution_count": 10,
     "metadata": {},
     "output_type": "execute_result"
    }
   ],
   "source": [
    "#isnumeric()\n",
    "a = 'Hello'\n",
    "a.isnumeric()"
   ]
  },
  {
   "cell_type": "code",
   "execution_count": 11,
   "id": "92cad5c3-8232-4bbb-802a-1bb622039d8d",
   "metadata": {},
   "outputs": [
    {
     "data": {
      "text/plain": [
       "True"
      ]
     },
     "execution_count": 11,
     "metadata": {},
     "output_type": "execute_result"
    }
   ],
   "source": [
    "#isnumeric()\n",
    "a = '12365'\n",
    "a.isnumeric()"
   ]
  },
  {
   "cell_type": "code",
   "execution_count": 13,
   "id": "1b29bca2-f40e-466c-a702-4e39f8d97d4f",
   "metadata": {},
   "outputs": [
    {
     "data": {
      "text/plain": [
       "True"
      ]
     },
     "execution_count": 13,
     "metadata": {},
     "output_type": "execute_result"
    }
   ],
   "source": [
    "#isalnum()\n",
    "a = '54123'\n",
    "a.isalnum()"
   ]
  },
  {
   "cell_type": "code",
   "execution_count": 14,
   "id": "b7501af2-376c-4fe0-8625-ff0c9279a02a",
   "metadata": {},
   "outputs": [
    {
     "data": {
      "text/plain": [
       "True"
      ]
     },
     "execution_count": 14,
     "metadata": {},
     "output_type": "execute_result"
    }
   ],
   "source": [
    "#isalnum()\n",
    "a = '541hello'\n",
    "a.isalnum()"
   ]
  },
  {
   "cell_type": "code",
   "execution_count": 16,
   "id": "b3136bf8-c04b-446e-bf90-fef9dbf7bacb",
   "metadata": {},
   "outputs": [
    {
     "data": {
      "text/plain": [
       "False"
      ]
     },
     "execution_count": 16,
     "metadata": {},
     "output_type": "execute_result"
    }
   ],
   "source": [
    "#isidentifier\n",
    "a = 'var@123'\n",
    "a.isidentifier()"
   ]
  },
  {
   "cell_type": "code",
   "execution_count": 17,
   "id": "8f0032db-c7a7-4e50-9872-5edfc70ce4d0",
   "metadata": {},
   "outputs": [
    {
     "data": {
      "text/plain": [
       "True"
      ]
     },
     "execution_count": 17,
     "metadata": {},
     "output_type": "execute_result"
    }
   ],
   "source": [
    "#isidentifier\n",
    "a = 'var_123'\n",
    "a.isidentifier()"
   ]
  },
  {
   "cell_type": "markdown",
   "id": "151d6151-58ba-42cd-a05b-17d5c729b1e0",
   "metadata": {},
   "source": [
    "### List"
   ]
  },
  {
   "cell_type": "code",
   "execution_count": 45,
   "id": "63332d35-bcef-4948-b564-bdea908aef2d",
   "metadata": {},
   "outputs": [
    {
     "data": {
      "text/plain": [
       "'apple'"
      ]
     },
     "execution_count": 45,
     "metadata": {},
     "output_type": "execute_result"
    }
   ],
   "source": [
    "#list indexing\n",
    "x = [10 , 20  , 'apple' , 'mango']\n",
    "x[2]"
   ]
  },
  {
   "cell_type": "code",
   "execution_count": 46,
   "id": "8a5c2dbc-9446-4366-8c33-f98655eee736",
   "metadata": {},
   "outputs": [
    {
     "data": {
      "text/plain": [
       "20"
      ]
     },
     "execution_count": 46,
     "metadata": {},
     "output_type": "execute_result"
    }
   ],
   "source": [
    "#list indexing\n",
    "x = [10 , 20  , 'apple' , 'mango']\n",
    "x[-3]"
   ]
  },
  {
   "cell_type": "code",
   "execution_count": 45,
   "id": "05ae085b-7c65-4cf7-aca1-5ba108698854",
   "metadata": {},
   "outputs": [
    {
     "data": {
      "text/plain": [
       "['surya', 99, 56]"
      ]
     },
     "execution_count": 45,
     "metadata": {},
     "output_type": "execute_result"
    }
   ],
   "source": [
    "#list slicing\n",
    "x = [56,99,'surya']\n",
    "x[::-1]"
   ]
  },
  {
   "cell_type": "code",
   "execution_count": 19,
   "id": "d832252f-e098-41d9-a706-fc33a8e92aae",
   "metadata": {},
   "outputs": [
    {
     "data": {
      "text/plain": [
       "[56, 99, 'surya']"
      ]
     },
     "execution_count": 19,
     "metadata": {},
     "output_type": "execute_result"
    }
   ],
   "source": [
    "#list slicing\n",
    "x = [56,99,'surya']\n",
    "x[::]"
   ]
  },
  {
   "cell_type": "code",
   "execution_count": 23,
   "id": "b078dd9d-6698-4503-a58a-9bb659d563b5",
   "metadata": {},
   "outputs": [
    {
     "name": "stdout",
     "output_type": "stream",
     "text": [
      "[56, 99, 'surya', 'suman']\n"
     ]
    }
   ],
   "source": [
    "#append (new_elememnt)\n",
    "x = [56,99,'surya']\n",
    "x.append('suman')\n",
    "print(x)"
   ]
  },
  {
   "cell_type": "code",
   "execution_count": 44,
   "id": "9e6e9747-6eda-4fd4-9718-de66ead19288",
   "metadata": {},
   "outputs": [
    {
     "data": {
      "text/plain": [
       "[56, 'suman', 99, 'surya']"
      ]
     },
     "execution_count": 44,
     "metadata": {},
     "output_type": "execute_result"
    }
   ],
   "source": [
    "#insert(index_position,new_element)\n",
    "x = [56,99,'surya']\n",
    "x.insert(1,'suman')\n",
    "x"
   ]
  },
  {
   "cell_type": "code",
   "execution_count": 27,
   "id": "b895832b-2f0e-46d7-81ae-d82fd3735adb",
   "metadata": {},
   "outputs": [
    {
     "data": {
      "text/plain": [
       "[56, 99, 'surya', 'suman', 'dog']"
      ]
     },
     "execution_count": 27,
     "metadata": {},
     "output_type": "execute_result"
    }
   ],
   "source": [
    "#extend([list of elements])\n",
    "x = [56,99,'surya']\n",
    "x.extend(['suman','dog'])\n",
    "x"
   ]
  },
  {
   "cell_type": "code",
   "execution_count": 28,
   "id": "dba12a0c-ed12-4bf1-b33f-b4c2ff7adff8",
   "metadata": {},
   "outputs": [
    {
     "data": {
      "text/plain": [
       "[56, 'surya']"
      ]
     },
     "execution_count": 28,
     "metadata": {},
     "output_type": "execute_result"
    }
   ],
   "source": [
    "#remove(element)\n",
    "x = [56,99,'surya']\n",
    "x.remove(99)\n",
    "x"
   ]
  },
  {
   "cell_type": "code",
   "execution_count": 29,
   "id": "dbc02ece-8baf-41b5-b96c-f9b31317daa4",
   "metadata": {},
   "outputs": [
    {
     "data": {
      "text/plain": [
       "[56, 99, 'suman']"
      ]
     },
     "execution_count": 29,
     "metadata": {},
     "output_type": "execute_result"
    }
   ],
   "source": [
    "#pop(index_position)\n",
    "x = [56,99,'surya','suman']\n",
    "x.pop(2)\n",
    "x"
   ]
  },
  {
   "cell_type": "code",
   "execution_count": 31,
   "id": "3011ab45-f411-493e-929e-db300955fa8b",
   "metadata": {},
   "outputs": [
    {
     "data": {
      "text/plain": [
       "[]"
      ]
     },
     "execution_count": 31,
     "metadata": {},
     "output_type": "execute_result"
    }
   ],
   "source": [
    "#clear()\n",
    "x = [56,99,'surya','suman']\n",
    "x.clear()\n",
    "x"
   ]
  },
  {
   "cell_type": "code",
   "execution_count": 33,
   "id": "3eed4fd5-57bf-4368-9440-7efce9af75b4",
   "metadata": {},
   "outputs": [
    {
     "data": {
      "text/plain": [
       "2"
      ]
     },
     "execution_count": 33,
     "metadata": {},
     "output_type": "execute_result"
    }
   ],
   "source": [
    "#count()\n",
    "x = [56,99,'surya','suman','surya']\n",
    "x.count('surya')"
   ]
  },
  {
   "cell_type": "code",
   "execution_count": 43,
   "id": "67572a80-bbe9-4d60-9bea-512e08aa53d6",
   "metadata": {},
   "outputs": [
    {
     "data": {
      "text/plain": [
       "['suman', 'surya', 99, 56]"
      ]
     },
     "execution_count": 43,
     "metadata": {},
     "output_type": "execute_result"
    }
   ],
   "source": [
    "#reverse()\n",
    "x = [56,99,'surya','suman']\n",
    "x.reverse()\n",
    "x"
   ]
  },
  {
   "cell_type": "code",
   "execution_count": 47,
   "id": "aa5383a6-ef49-416a-aa4f-9e4e7bd79857",
   "metadata": {},
   "outputs": [
    {
     "data": {
      "text/plain": [
       "[2, 5, 6, 7, 8, 9]"
      ]
     },
     "execution_count": 47,
     "metadata": {},
     "output_type": "execute_result"
    }
   ],
   "source": [
    "#sort()\n",
    "x = [8,6,5,9,7,2]\n",
    "x.sort()\n",
    "x"
   ]
  },
  {
   "cell_type": "code",
   "execution_count": 48,
   "id": "8c16d583-f3e7-4355-9142-5b032fdea4af",
   "metadata": {},
   "outputs": [
    {
     "data": {
      "text/plain": [
       "[9, 8, 7, 6, 5, 2]"
      ]
     },
     "execution_count": 48,
     "metadata": {},
     "output_type": "execute_result"
    }
   ],
   "source": [
    "#sort(reverse=True)\n",
    "x = [8,6,5,9,7,2]\n",
    "x.sort(reverse=True)\n",
    "x"
   ]
  },
  {
   "cell_type": "code",
   "execution_count": 49,
   "id": "ffe2bbb5-c78d-4f68-b21a-084e14b111c6",
   "metadata": {},
   "outputs": [
    {
     "data": {
      "text/plain": [
       "[11, 10, 9, 8, 7, 6, 5, 2]"
      ]
     },
     "execution_count": 49,
     "metadata": {},
     "output_type": "execute_result"
    }
   ],
   "source": [
    "#important\n",
    "#sort()\n",
    "x = [8,6,5,9,7,2,10,11]\n",
    "x.sort(reverse=4)\n",
    "x"
   ]
  },
  {
   "cell_type": "code",
   "execution_count": 50,
   "id": "264cd895-e994-4711-9a76-6f7734ee829e",
   "metadata": {},
   "outputs": [
    {
     "data": {
      "text/plain": [
       "[2, 5, 6, 7, 8, 9]"
      ]
     },
     "execution_count": 50,
     "metadata": {},
     "output_type": "execute_result"
    }
   ],
   "source": [
    "#important\n",
    "#sort()\n",
    "x = [8,6,5,9,7,2]\n",
    "x.sort(reverse=0)\n",
    "x"
   ]
  },
  {
   "cell_type": "markdown",
   "id": "9daf9982-8607-4f5a-9d34-9bb59c752e23",
   "metadata": {},
   "source": [
    "### Tuple"
   ]
  },
  {
   "cell_type": "code",
   "execution_count": 51,
   "id": "0a707b92-0f81-4ee7-bff3-153a93397fb8",
   "metadata": {},
   "outputs": [
    {
     "data": {
      "text/plain": [
       "'snow'"
      ]
     },
     "execution_count": 51,
     "metadata": {},
     "output_type": "execute_result"
    }
   ],
   "source": [
    "#indexing\n",
    "a = (12,89,'ice','snow')\n",
    "a[3]"
   ]
  },
  {
   "cell_type": "code",
   "execution_count": 52,
   "id": "d9d6bc12-d50e-4e31-8be9-1a90ca24315f",
   "metadata": {},
   "outputs": [
    {
     "data": {
      "text/plain": [
       "'snow'"
      ]
     },
     "execution_count": 52,
     "metadata": {},
     "output_type": "execute_result"
    }
   ],
   "source": [
    "#indexing\n",
    "a = (12,89,'ice','snow')\n",
    "a[-1]"
   ]
  },
  {
   "cell_type": "code",
   "execution_count": 53,
   "id": "cf83d1c5-dd43-4dab-8928-c99f9c43464c",
   "metadata": {},
   "outputs": [
    {
     "data": {
      "text/plain": [
       "(12, 'ice')"
      ]
     },
     "execution_count": 53,
     "metadata": {},
     "output_type": "execute_result"
    }
   ],
   "source": [
    "#slicing\n",
    "a = (12,89,'ice','snow')\n",
    "a[::2]"
   ]
  },
  {
   "cell_type": "code",
   "execution_count": 55,
   "id": "670b4083-5d24-4197-8181-92200b6eebb4",
   "metadata": {},
   "outputs": [
    {
     "data": {
      "text/plain": [
       "('snow', 'ice', 89, 12)"
      ]
     },
     "execution_count": 55,
     "metadata": {},
     "output_type": "execute_result"
    }
   ],
   "source": [
    "#slicing\n",
    "a = (12,89,'ice','snow')\n",
    "a[::-1]"
   ]
  },
  {
   "cell_type": "code",
   "execution_count": 56,
   "id": "72b21cab-b9dd-431c-b8b3-c12a85a4d7c7",
   "metadata": {},
   "outputs": [
    {
     "data": {
      "text/plain": [
       "4"
      ]
     },
     "execution_count": 56,
     "metadata": {},
     "output_type": "execute_result"
    }
   ],
   "source": [
    "#count()\n",
    "a = (12,89,'ice',89,'snow',89,89)\n",
    "a.count(89)"
   ]
  },
  {
   "cell_type": "code",
   "execution_count": 58,
   "id": "99ff6223-f589-4cba-b601-86a1fd37b6ea",
   "metadata": {},
   "outputs": [
    {
     "data": {
      "text/plain": [
       "1"
      ]
     },
     "execution_count": 58,
     "metadata": {},
     "output_type": "execute_result"
    }
   ],
   "source": [
    "#index()\n",
    "a = (12,89,'ice',89,'snow',89,89)\n",
    "a.index(89)"
   ]
  },
  {
   "cell_type": "markdown",
   "id": "04a7a62f-5eca-4f7e-871f-6699fda701c7",
   "metadata": {},
   "source": [
    "### Set"
   ]
  },
  {
   "cell_type": "code",
   "execution_count": 61,
   "id": "4603c1ba-060d-4070-9b07-9ee02fba62dd",
   "metadata": {},
   "outputs": [
    {
     "name": "stdout",
     "output_type": "stream",
     "text": [
      "{56, 'suman', 'surya', 87}\n"
     ]
    }
   ],
   "source": [
    "s = {56,87,'surya','suman'}\n",
    "print(s)"
   ]
  },
  {
   "cell_type": "code",
   "execution_count": 62,
   "id": "4a658c3d-5821-4c95-809f-3983a13fa193",
   "metadata": {},
   "outputs": [
    {
     "name": "stdout",
     "output_type": "stream",
     "text": [
      "{56, 'suman', 'surya', 87}\n"
     ]
    }
   ],
   "source": [
    "s = {56,87,56,87,'surya','suman',87,'surya'}\n",
    "print(s)"
   ]
  },
  {
   "cell_type": "code",
   "execution_count": 64,
   "id": "6df1971d-53c8-4d42-a47e-0547bb0a3cba",
   "metadata": {},
   "outputs": [
    {
     "name": "stdout",
     "output_type": "stream",
     "text": [
      "{1, 2, 3, 7, 8, 9}\n"
     ]
    }
   ],
   "source": [
    "#union()\n",
    "s1 = {1,2,3}\n",
    "s2 = {7,8,9}\n",
    "print(s1.union(s2))"
   ]
  },
  {
   "cell_type": "code",
   "execution_count": 65,
   "id": "d533eae4-390f-4f46-a58a-5287acafdf74",
   "metadata": {},
   "outputs": [
    {
     "name": "stdout",
     "output_type": "stream",
     "text": [
      "{4, 6}\n"
     ]
    }
   ],
   "source": [
    "#intersection()\n",
    "s1 = {1,2,3,4,5,6}\n",
    "s2 = {4,7,8,6}\n",
    "print(s2.intersection(s1))"
   ]
  },
  {
   "cell_type": "code",
   "execution_count": 66,
   "id": "19121601-2fd3-4631-9eb2-6834c6c0daa5",
   "metadata": {},
   "outputs": [
    {
     "name": "stdout",
     "output_type": "stream",
     "text": [
      "{1, 2, 3, 5}\n"
     ]
    }
   ],
   "source": [
    "#difference()\n",
    "s1 = {1,2,3,4,5,6}\n",
    "s2 = {4,7,8,6}\n",
    "print(s1.difference(s2))"
   ]
  },
  {
   "cell_type": "code",
   "execution_count": 67,
   "id": "fa7ef99a-fa4e-4b61-8ae3-ccac7471ef7c",
   "metadata": {},
   "outputs": [
    {
     "data": {
      "text/plain": [
       "False"
      ]
     },
     "execution_count": 67,
     "metadata": {},
     "output_type": "execute_result"
    }
   ],
   "source": [
    "#isdisjoint()\n",
    "s1 = {1,2,3}\n",
    "s2 = {2,3}\n",
    "s1.isdisjoint(s2)"
   ]
  },
  {
   "cell_type": "code",
   "execution_count": 68,
   "id": "4a3f59b4-091f-497b-af1e-25455d4b5e43",
   "metadata": {},
   "outputs": [
    {
     "data": {
      "text/plain": [
       "True"
      ]
     },
     "execution_count": 68,
     "metadata": {},
     "output_type": "execute_result"
    }
   ],
   "source": [
    "#isdisjoint()\n",
    "s1 = {1,2,3}\n",
    "s2 = {5,8}\n",
    "s1.isdisjoint(s2)"
   ]
  },
  {
   "cell_type": "code",
   "execution_count": 69,
   "id": "06fbbb8a-d206-412a-ba1d-5f84b4ee198a",
   "metadata": {},
   "outputs": [
    {
     "data": {
      "text/plain": [
       "True"
      ]
     },
     "execution_count": 69,
     "metadata": {},
     "output_type": "execute_result"
    }
   ],
   "source": [
    "#issubset\n",
    "s1 = {1,2,3,4,5,6}\n",
    "s2 = {4,5,6}\n",
    "s2.issubset(s1)"
   ]
  },
  {
   "cell_type": "code",
   "execution_count": 70,
   "id": "5b9fc686-0d88-4c43-a373-00a2f244aa6d",
   "metadata": {},
   "outputs": [
    {
     "data": {
      "text/plain": [
       "False"
      ]
     },
     "execution_count": 70,
     "metadata": {},
     "output_type": "execute_result"
    }
   ],
   "source": [
    "#issubset\n",
    "s1 = {1,2,3,4,5,6}\n",
    "s2 = {4,5,7}\n",
    "s2.issubset(s1)"
   ]
  },
  {
   "cell_type": "code",
   "execution_count": 72,
   "id": "bb0f50a7-ec91-44ef-8f32-5337743e23c4",
   "metadata": {},
   "outputs": [
    {
     "data": {
      "text/plain": [
       "False"
      ]
     },
     "execution_count": 72,
     "metadata": {},
     "output_type": "execute_result"
    }
   ],
   "source": [
    "#issuperset()\n",
    "s1 = {1,2,3,4,5,6}\n",
    "s2 = {5,6,7}\n",
    "s1.issuperset(s2)"
   ]
  },
  {
   "cell_type": "code",
   "execution_count": 73,
   "id": "66b27672-cd1e-415d-9d80-930cd6c3c57b",
   "metadata": {},
   "outputs": [
    {
     "data": {
      "text/plain": [
       "True"
      ]
     },
     "execution_count": 73,
     "metadata": {},
     "output_type": "execute_result"
    }
   ],
   "source": [
    "#issuperset()\n",
    "s1 = {1,2,3,4,5,6}\n",
    "s2 = {5,6,}\n",
    "s1.issuperset(s2)"
   ]
  },
  {
   "cell_type": "code",
   "execution_count": 74,
   "id": "51701bbe-d90a-41b0-b0c8-98e334c6b3e7",
   "metadata": {},
   "outputs": [
    {
     "data": {
      "text/plain": [
       "{1, 2, 3, 4, 'surya'}"
      ]
     },
     "execution_count": 74,
     "metadata": {},
     "output_type": "execute_result"
    }
   ],
   "source": [
    "#add()\n",
    "s1 = {1,2,3,4}\n",
    "s1.add('surya')\n",
    "s1"
   ]
  },
  {
   "cell_type": "code",
   "execution_count": 75,
   "id": "3622ba7d-7be4-4d4f-b62a-9db8b55ed97d",
   "metadata": {},
   "outputs": [
    {
     "data": {
      "text/plain": [
       "{1, 2, 3, 4}"
      ]
     },
     "execution_count": 75,
     "metadata": {},
     "output_type": "execute_result"
    }
   ],
   "source": [
    "#remove()\n",
    "s1 = {1,2,3,4,'surya'}\n",
    "s1.remove('surya')\n",
    "s1"
   ]
  },
  {
   "cell_type": "code",
   "execution_count": 77,
   "id": "a69cdaed-1164-4f9c-a733-ad275603653b",
   "metadata": {},
   "outputs": [
    {
     "data": {
      "text/plain": [
       "{2, 3, 4, 'surya'}"
      ]
     },
     "execution_count": 77,
     "metadata": {},
     "output_type": "execute_result"
    }
   ],
   "source": [
    "#remove()\n",
    "s1 = {1,2,3,4,'surya'}\n",
    "s1.pop()\n",
    "s1"
   ]
  },
  {
   "cell_type": "code",
   "execution_count": 78,
   "id": "1bca8420-0cb4-4a95-97eb-01a1af2f7c41",
   "metadata": {},
   "outputs": [
    {
     "data": {
      "text/plain": [
       "set()"
      ]
     },
     "execution_count": 78,
     "metadata": {},
     "output_type": "execute_result"
    }
   ],
   "source": [
    "#clear()\n",
    "s1 = {1,2,3,4,'surya'}\n",
    "s1.clear()\n",
    "s1"
   ]
  }
 ],
 "metadata": {
  "kernelspec": {
   "display_name": "Python [conda env:base] *",
   "language": "python",
   "name": "conda-base-py"
  },
  "language_info": {
   "codemirror_mode": {
    "name": "ipython",
    "version": 3
   },
   "file_extension": ".py",
   "mimetype": "text/x-python",
   "name": "python",
   "nbconvert_exporter": "python",
   "pygments_lexer": "ipython3",
   "version": "3.12.7"
  }
 },
 "nbformat": 4,
 "nbformat_minor": 5
}
