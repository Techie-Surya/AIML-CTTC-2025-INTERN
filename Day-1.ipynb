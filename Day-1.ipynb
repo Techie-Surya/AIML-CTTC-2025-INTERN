{
 "cells": [
  {
   "cell_type": "code",
   "execution_count": null,
   "id": "4ca962fd-6663-4e91-af90-d613166aa764",
   "metadata": {},
   "outputs": [],
   "source": []
  },
  {
   "cell_type": "code",
   "execution_count": 11,
   "id": "ed8fc979-b1ae-4270-b4ba-f4838540de01",
   "metadata": {},
   "outputs": [
    {
     "name": "stdout",
     "output_type": "stream",
     "text": [
      "surya\n"
     ]
    }
   ],
   "source": [
    "print('surya')\n"
   ]
  },
  {
   "cell_type": "markdown",
   "id": "63faee5f-ab9b-4303-aa41-e534bd7fedd7",
   "metadata": {},
   "source": [
    "#h1\n",
    "##h2\n",
    "###h3\n",
    "####h4\n",
    "#####h5"
   ]
  },
  {
   "cell_type": "markdown",
   "id": "0ed8fe4e-4ad7-4871-a628-466fe732bd1d",
   "metadata": {},
   "source": [
    "# h1\n",
    "## h2\n",
    "### h3 \n",
    "#### h4 \n",
    "##### h5"
   ]
  },
  {
   "cell_type": "code",
   "execution_count": 12,
   "id": "879dda54-ad33-4300-aa65-2ebe60170a47",
   "metadata": {},
   "outputs": [],
   "source": [
    "# this is a single line comment"
   ]
  },
  {
   "cell_type": "code",
   "execution_count": 13,
   "id": "df31f16e-bc6e-4bfd-b031-764f3b105685",
   "metadata": {},
   "outputs": [
    {
     "data": {
      "text/plain": [
       "' this \\nis a\\nmulti line comment\\n'"
      ]
     },
     "execution_count": 13,
     "metadata": {},
     "output_type": "execute_result"
    }
   ],
   "source": [
    "''' this \n",
    "is a\n",
    "multi line comment\n",
    "'''"
   ]
  },
  {
   "cell_type": "markdown",
   "id": "10a7b1f8-eae6-4d8f-a1ee-afe81884d6a2",
   "metadata": {},
   "source": [
    "# keywords\n",
    "\n",
    "### there are 35+ keywords in python"
   ]
  },
  {
   "cell_type": "code",
   "execution_count": 3,
   "id": "885ebe2e-486e-4449-a4dc-764fe2552f22",
   "metadata": {},
   "outputs": [
    {
     "name": "stdout",
     "output_type": "stream",
     "text": [
      "\n",
      "Here is a list of the Python keywords.  Enter any keyword to get more help.\n",
      "\n",
      "False               class               from                or\n",
      "None                continue            global              pass\n",
      "True                def                 if                  raise\n",
      "and                 del                 import              return\n",
      "as                  elif                in                  try\n",
      "assert              else                is                  while\n",
      "async               except              lambda              with\n",
      "await               finally             nonlocal            yield\n",
      "break               for                 not                 \n",
      "\n"
     ]
    }
   ],
   "source": [
    "help('keywords')"
   ]
  },
  {
   "cell_type": "code",
   "execution_count": 4,
   "id": "3e54b61b-a320-426f-a627-c256dfc81fa8",
   "metadata": {},
   "outputs": [
    {
     "name": "stdout",
     "output_type": "stream",
     "text": [
      "No Python documentation found for 'datatypes'.\n",
      "Use help() to get the interactive help utility.\n",
      "Use help(str) for help on the str class.\n",
      "\n"
     ]
    }
   ],
   "source": [
    "help(\"datatypes\")"
   ]
  },
  {
   "cell_type": "code",
   "execution_count": 5,
   "id": "6b3779f2-2a73-46f8-9189-2d2bbe92ba64",
   "metadata": {},
   "outputs": [
    {
     "name": "stdout",
     "output_type": "stream",
     "text": [
      "No Python documentation found for 'datatypes'.\n",
      "Use help() to get the interactive help utility.\n",
      "Use help(str) for help on the str class.\n",
      "\n"
     ]
    }
   ],
   "source": [
    "help('datatypes')"
   ]
  },
  {
   "cell_type": "code",
   "execution_count": 5,
   "id": "dc96313f-9b07-4e8f-bb7b-86fd1c2efd83",
   "metadata": {},
   "outputs": [
    {
     "name": "stdin",
     "output_type": "stream",
     "text": [
      "Enter 1st number:  5\n",
      "Enter 2nd number:  5\n"
     ]
    },
    {
     "name": "stdout",
     "output_type": "stream",
     "text": [
      "10\n"
     ]
    }
   ],
   "source": [
    "a = int(input(\"Enter 1st number: \"))\n",
    "b = int(input(\"Enter 2nd number: \"))\n",
    "print(a+b) "
   ]
  },
  {
   "cell_type": "code",
   "execution_count": null,
   "id": "4c552a06-9e9f-4645-ac3e-3486dca73fdb",
   "metadata": {},
   "outputs": [],
   "source": []
  }
 ],
 "metadata": {
  "kernelspec": {
   "display_name": "Python [conda env:base] *",
   "language": "python",
   "name": "conda-base-py"
  },
  "language_info": {
   "codemirror_mode": {
    "name": "ipython",
    "version": 3
   },
   "file_extension": ".py",
   "mimetype": "text/x-python",
   "name": "python",
   "nbconvert_exporter": "python",
   "pygments_lexer": "ipython3",
   "version": "3.12.7"
  }
 },
 "nbformat": 4,
 "nbformat_minor": 5
}
