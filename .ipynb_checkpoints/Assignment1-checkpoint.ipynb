{
 "cells": [
  {
   "cell_type": "code",
   "execution_count": 1,
   "id": "b01fa639-add4-49b1-bd6a-3a51ef22a9b9",
   "metadata": {},
   "outputs": [],
   "source": [
    "import numpy as np\n",
    "import pandas as pd"
   ]
  },
  {
   "cell_type": "markdown",
   "id": "0f8f745f-7f0b-45b3-915b-1ff0e55275c3",
   "metadata": {},
   "source": [
    "#### Mobile Price Prediction"
   ]
  },
  {
   "cell_type": "code",
   "execution_count": 2,
   "id": "e2ae5aee-4ebd-4bd4-a3da-c602b4824ad0",
   "metadata": {},
   "outputs": [
    {
     "data": {
      "text/html": [
       "<div>\n",
       "<style scoped>\n",
       "    .dataframe tbody tr th:only-of-type {\n",
       "        vertical-align: middle;\n",
       "    }\n",
       "\n",
       "    .dataframe tbody tr th {\n",
       "        vertical-align: top;\n",
       "    }\n",
       "\n",
       "    .dataframe thead th {\n",
       "        text-align: right;\n",
       "    }\n",
       "</style>\n",
       "<table border=\"1\" class=\"dataframe\">\n",
       "  <thead>\n",
       "    <tr style=\"text-align: right;\">\n",
       "      <th></th>\n",
       "      <th>Screen Size (inches)</th>\n",
       "      <th>RAM (GB)</th>\n",
       "      <th>Storage (GB)</th>\n",
       "      <th>Battery Capacity (mAh)</th>\n",
       "      <th>Camera Quality (MP)</th>\n",
       "      <th>Price ($)</th>\n",
       "    </tr>\n",
       "  </thead>\n",
       "  <tbody>\n",
       "    <tr>\n",
       "      <th>0</th>\n",
       "      <td>6.2</td>\n",
       "      <td>4</td>\n",
       "      <td>64</td>\n",
       "      <td>4000</td>\n",
       "      <td>48</td>\n",
       "      <td>500</td>\n",
       "    </tr>\n",
       "    <tr>\n",
       "      <th>1</th>\n",
       "      <td>6.1</td>\n",
       "      <td>3</td>\n",
       "      <td>128</td>\n",
       "      <td>3110</td>\n",
       "      <td>12</td>\n",
       "      <td>800</td>\n",
       "    </tr>\n",
       "    <tr>\n",
       "      <th>2</th>\n",
       "      <td>6.5</td>\n",
       "      <td>6</td>\n",
       "      <td>256</td>\n",
       "      <td>4500</td>\n",
       "      <td>64</td>\n",
       "      <td>600</td>\n",
       "    </tr>\n",
       "    <tr>\n",
       "      <th>3</th>\n",
       "      <td>6.7</td>\n",
       "      <td>8</td>\n",
       "      <td>128</td>\n",
       "      <td>4300</td>\n",
       "      <td>48</td>\n",
       "      <td>700</td>\n",
       "    </tr>\n",
       "    <tr>\n",
       "      <th>4</th>\n",
       "      <td>6.4</td>\n",
       "      <td>6</td>\n",
       "      <td>128</td>\n",
       "      <td>4200</td>\n",
       "      <td>40</td>\n",
       "      <td>550</td>\n",
       "    </tr>\n",
       "    <tr>\n",
       "      <th>...</th>\n",
       "      <td>...</td>\n",
       "      <td>...</td>\n",
       "      <td>...</td>\n",
       "      <td>...</td>\n",
       "      <td>...</td>\n",
       "      <td>...</td>\n",
       "    </tr>\n",
       "    <tr>\n",
       "      <th>287</th>\n",
       "      <td>6.0</td>\n",
       "      <td>6</td>\n",
       "      <td>64</td>\n",
       "      <td>3700</td>\n",
       "      <td>12</td>\n",
       "      <td>750</td>\n",
       "    </tr>\n",
       "    <tr>\n",
       "      <th>288</th>\n",
       "      <td>6.3</td>\n",
       "      <td>4</td>\n",
       "      <td>128</td>\n",
       "      <td>4025</td>\n",
       "      <td>32</td>\n",
       "      <td>450</td>\n",
       "    </tr>\n",
       "    <tr>\n",
       "      <th>289</th>\n",
       "      <td>6.6</td>\n",
       "      <td>8</td>\n",
       "      <td>256</td>\n",
       "      <td>5000</td>\n",
       "      <td>48</td>\n",
       "      <td>700</td>\n",
       "    </tr>\n",
       "    <tr>\n",
       "      <th>290</th>\n",
       "      <td>6.5</td>\n",
       "      <td>6</td>\n",
       "      <td>128</td>\n",
       "      <td>4500</td>\n",
       "      <td>64</td>\n",
       "      <td>550</td>\n",
       "    </tr>\n",
       "    <tr>\n",
       "      <th>291</th>\n",
       "      <td>6.1</td>\n",
       "      <td>4</td>\n",
       "      <td>64</td>\n",
       "      <td>3000</td>\n",
       "      <td>16</td>\n",
       "      <td>400</td>\n",
       "    </tr>\n",
       "  </tbody>\n",
       "</table>\n",
       "<p>292 rows × 6 columns</p>\n",
       "</div>"
      ],
      "text/plain": [
       "     Screen Size (inches)  RAM (GB)  Storage (GB)  Battery Capacity (mAh)  \\\n",
       "0                     6.2         4            64                    4000   \n",
       "1                     6.1         3           128                    3110   \n",
       "2                     6.5         6           256                    4500   \n",
       "3                     6.7         8           128                    4300   \n",
       "4                     6.4         6           128                    4200   \n",
       "..                    ...       ...           ...                     ...   \n",
       "287                   6.0         6            64                    3700   \n",
       "288                   6.3         4           128                    4025   \n",
       "289                   6.6         8           256                    5000   \n",
       "290                   6.5         6           128                    4500   \n",
       "291                   6.1         4            64                    3000   \n",
       "\n",
       "     Camera Quality (MP)  Price ($)  \n",
       "0                     48        500  \n",
       "1                     12        800  \n",
       "2                     64        600  \n",
       "3                     48        700  \n",
       "4                     40        550  \n",
       "..                   ...        ...  \n",
       "287                   12        750  \n",
       "288                   32        450  \n",
       "289                   48        700  \n",
       "290                   64        550  \n",
       "291                   16        400  \n",
       "\n",
       "[292 rows x 6 columns]"
      ]
     },
     "execution_count": 2,
     "metadata": {},
     "output_type": "execute_result"
    }
   ],
   "source": [
    "mobile = pd.read_csv(r\"C:\\Users\\surya\\OneDrive\\Desktop\\AIML_CTTC\\NOTES\\Mobile_Price.csv\")\n",
    "mobile"
   ]
  },
  {
   "cell_type": "code",
   "execution_count": 3,
   "id": "ca0fadd9-3761-4278-8240-b8e4e474a92b",
   "metadata": {},
   "outputs": [
    {
     "data": {
      "text/plain": [
       "Screen Size (inches)      0\n",
       "RAM (GB)                  0\n",
       "Storage (GB)              0\n",
       "Battery Capacity (mAh)    0\n",
       "Camera Quality (MP)       0\n",
       "Price ($)                 0\n",
       "dtype: int64"
      ]
     },
     "execution_count": 3,
     "metadata": {},
     "output_type": "execute_result"
    }
   ],
   "source": [
    "mobile.isnull().sum()"
   ]
  },
  {
   "cell_type": "code",
   "execution_count": 4,
   "id": "883efe6f-da4d-4bf6-96ed-21569f3ea4bb",
   "metadata": {},
   "outputs": [
    {
     "name": "stdout",
     "output_type": "stream",
     "text": [
      "<class 'pandas.core.frame.DataFrame'>\n",
      "RangeIndex: 292 entries, 0 to 291\n",
      "Data columns (total 6 columns):\n",
      " #   Column                  Non-Null Count  Dtype  \n",
      "---  ------                  --------------  -----  \n",
      " 0   Screen Size (inches)    292 non-null    float64\n",
      " 1   RAM (GB)                292 non-null    int64  \n",
      " 2   Storage (GB)            292 non-null    int64  \n",
      " 3   Battery Capacity (mAh)  292 non-null    int64  \n",
      " 4   Camera Quality (MP)     292 non-null    int64  \n",
      " 5   Price ($)               292 non-null    int64  \n",
      "dtypes: float64(1), int64(5)\n",
      "memory usage: 13.8 KB\n"
     ]
    }
   ],
   "source": [
    "mobile.info()"
   ]
  },
  {
   "cell_type": "code",
   "execution_count": 5,
   "id": "b6dfbc50-1006-4689-a2ad-f8a5672d5770",
   "metadata": {},
   "outputs": [
    {
     "data": {
      "text/plain": [
       "Screen Size (inches)      float64\n",
       "RAM (GB)                    int64\n",
       "Storage (GB)                int64\n",
       "Battery Capacity (mAh)      int64\n",
       "Camera Quality (MP)         int64\n",
       "Price ($)                   int64\n",
       "dtype: object"
      ]
     },
     "execution_count": 5,
     "metadata": {},
     "output_type": "execute_result"
    }
   ],
   "source": [
    "mobile.dtypes"
   ]
  },
  {
   "cell_type": "code",
   "execution_count": 6,
   "id": "5d6f2d44-978e-4b6a-b15e-49cb2f45a4b9",
   "metadata": {},
   "outputs": [
    {
     "name": "stdout",
     "output_type": "stream",
     "text": [
      "Screen Size (inches): \n",
      " [6.2 6.1 6.5 6.7 6.4 6.  6.3 6.6 5.8 5.7 5.9 6.8 6.9]\n",
      "\n",
      "RAM (GB): \n",
      " [4 3 6 8]\n",
      "\n",
      "Storage (GB): \n",
      " [ 64 128 256  32]\n",
      "\n",
      "Battery Capacity (mAh): \n",
      " [4000 3110 4500 4300 4200 3700 4025 5000 3000 3500 3800 4100 4400 3100\n",
      " 4600 4700]\n",
      "\n",
      "Camera Quality (MP): \n",
      " [48 12 64 40 32 16 24 20]\n",
      "\n",
      "Price ($): \n",
      " [500 800 600 700 550 750 450 400 650 900]\n",
      "\n"
     ]
    }
   ],
   "source": [
    "for i in mobile.columns:\n",
    "     print(f\"{i}: \\n {mobile[i].unique()}\\n\")"
   ]
  },
  {
   "cell_type": "markdown",
   "id": "8e238bfa-4e5f-44ac-9493-f1a9397ae86e",
   "metadata": {},
   "source": [
    "#### Student Marks Prediction"
   ]
  },
  {
   "cell_type": "code",
   "execution_count": 7,
   "id": "798c85a8-5bb7-4e74-b8f3-6b7e87053355",
   "metadata": {},
   "outputs": [
    {
     "data": {
      "text/html": [
       "<div>\n",
       "<style scoped>\n",
       "    .dataframe tbody tr th:only-of-type {\n",
       "        vertical-align: middle;\n",
       "    }\n",
       "\n",
       "    .dataframe tbody tr th {\n",
       "        vertical-align: top;\n",
       "    }\n",
       "\n",
       "    .dataframe thead th {\n",
       "        text-align: right;\n",
       "    }\n",
       "</style>\n",
       "<table border=\"1\" class=\"dataframe\">\n",
       "  <thead>\n",
       "    <tr style=\"text-align: right;\">\n",
       "      <th></th>\n",
       "      <th>number_courses</th>\n",
       "      <th>time_study</th>\n",
       "      <th>Marks</th>\n",
       "    </tr>\n",
       "  </thead>\n",
       "  <tbody>\n",
       "    <tr>\n",
       "      <th>0</th>\n",
       "      <td>3</td>\n",
       "      <td>4.508</td>\n",
       "      <td>19.202</td>\n",
       "    </tr>\n",
       "    <tr>\n",
       "      <th>1</th>\n",
       "      <td>4</td>\n",
       "      <td>0.096</td>\n",
       "      <td>7.734</td>\n",
       "    </tr>\n",
       "    <tr>\n",
       "      <th>2</th>\n",
       "      <td>4</td>\n",
       "      <td>3.133</td>\n",
       "      <td>13.811</td>\n",
       "    </tr>\n",
       "    <tr>\n",
       "      <th>3</th>\n",
       "      <td>6</td>\n",
       "      <td>7.909</td>\n",
       "      <td>53.018</td>\n",
       "    </tr>\n",
       "    <tr>\n",
       "      <th>4</th>\n",
       "      <td>8</td>\n",
       "      <td>7.811</td>\n",
       "      <td>55.299</td>\n",
       "    </tr>\n",
       "    <tr>\n",
       "      <th>...</th>\n",
       "      <td>...</td>\n",
       "      <td>...</td>\n",
       "      <td>...</td>\n",
       "    </tr>\n",
       "    <tr>\n",
       "      <th>95</th>\n",
       "      <td>6</td>\n",
       "      <td>3.561</td>\n",
       "      <td>19.128</td>\n",
       "    </tr>\n",
       "    <tr>\n",
       "      <th>96</th>\n",
       "      <td>3</td>\n",
       "      <td>0.301</td>\n",
       "      <td>5.609</td>\n",
       "    </tr>\n",
       "    <tr>\n",
       "      <th>97</th>\n",
       "      <td>4</td>\n",
       "      <td>7.163</td>\n",
       "      <td>41.444</td>\n",
       "    </tr>\n",
       "    <tr>\n",
       "      <th>98</th>\n",
       "      <td>7</td>\n",
       "      <td>0.309</td>\n",
       "      <td>12.027</td>\n",
       "    </tr>\n",
       "    <tr>\n",
       "      <th>99</th>\n",
       "      <td>3</td>\n",
       "      <td>6.335</td>\n",
       "      <td>32.357</td>\n",
       "    </tr>\n",
       "  </tbody>\n",
       "</table>\n",
       "<p>100 rows × 3 columns</p>\n",
       "</div>"
      ],
      "text/plain": [
       "    number_courses  time_study   Marks\n",
       "0                3       4.508  19.202\n",
       "1                4       0.096   7.734\n",
       "2                4       3.133  13.811\n",
       "3                6       7.909  53.018\n",
       "4                8       7.811  55.299\n",
       "..             ...         ...     ...\n",
       "95               6       3.561  19.128\n",
       "96               3       0.301   5.609\n",
       "97               4       7.163  41.444\n",
       "98               7       0.309  12.027\n",
       "99               3       6.335  32.357\n",
       "\n",
       "[100 rows x 3 columns]"
      ]
     },
     "execution_count": 7,
     "metadata": {},
     "output_type": "execute_result"
    }
   ],
   "source": [
    "mark = pd.read_csv(r\"C:\\Users\\surya\\OneDrive\\Desktop\\AIML_CTTC\\NOTES\\Student_Marks.csv\")\n",
    "mark"
   ]
  },
  {
   "cell_type": "code",
   "execution_count": 8,
   "id": "1bdcb0f4-2478-4de8-a592-bcd0d487721c",
   "metadata": {},
   "outputs": [
    {
     "data": {
      "text/plain": [
       "number_courses    0\n",
       "time_study        0\n",
       "Marks             0\n",
       "dtype: int64"
      ]
     },
     "execution_count": 8,
     "metadata": {},
     "output_type": "execute_result"
    }
   ],
   "source": [
    "mark.isnull().sum()"
   ]
  },
  {
   "cell_type": "code",
   "execution_count": 9,
   "id": "c89c7fb5-8e7d-4c09-8b33-07c677862256",
   "metadata": {},
   "outputs": [
    {
     "data": {
      "text/plain": [
       "number_courses      int64\n",
       "time_study        float64\n",
       "Marks             float64\n",
       "dtype: object"
      ]
     },
     "execution_count": 9,
     "metadata": {},
     "output_type": "execute_result"
    }
   ],
   "source": [
    "mark.dtypes"
   ]
  },
  {
   "cell_type": "code",
   "execution_count": 10,
   "id": "7796a3aa-ac2b-442b-afec-2663a06b4ef1",
   "metadata": {},
   "outputs": [
    {
     "name": "stdout",
     "output_type": "stream",
     "text": [
      "<class 'pandas.core.frame.DataFrame'>\n",
      "RangeIndex: 100 entries, 0 to 99\n",
      "Data columns (total 3 columns):\n",
      " #   Column          Non-Null Count  Dtype  \n",
      "---  ------          --------------  -----  \n",
      " 0   number_courses  100 non-null    int64  \n",
      " 1   time_study      100 non-null    float64\n",
      " 2   Marks           100 non-null    float64\n",
      "dtypes: float64(2), int64(1)\n",
      "memory usage: 2.5 KB\n"
     ]
    }
   ],
   "source": [
    "mark.info()"
   ]
  },
  {
   "cell_type": "code",
   "execution_count": 11,
   "id": "3bdaa1bc-0bca-43f8-bcd6-74d4a4bb4532",
   "metadata": {},
   "outputs": [
    {
     "name": "stdout",
     "output_type": "stream",
     "text": [
      "number_courses: \n",
      " [3 4 6 8 5 7]\n",
      "\n",
      "time_study: \n",
      " [4.508 0.096 3.133 7.909 7.811 3.211 6.063 3.413 4.41  6.173 7.353 0.423\n",
      " 4.218 4.274 2.908 4.26  5.719 6.08  7.711 3.977 4.733 6.126 2.051 4.875\n",
      " 3.635 1.407 0.508 4.378 0.156 1.299 3.864 1.923 0.932 6.594 4.083 7.543\n",
      " 2.966 7.283 6.533 7.775 0.14  2.754 3.591 1.557 1.954 2.061 3.797 4.779\n",
      " 5.635 3.913 6.703 4.13  0.771 6.049 7.591 2.913 7.641 7.649 6.198 7.468\n",
      " 0.376 2.438 3.606 4.869 0.13  2.142 5.473 0.55  1.395 3.948 3.736 2.518\n",
      " 4.633 1.629 6.954 0.803 6.379 5.985 7.451 0.805 7.957 2.262 7.41  3.197\n",
      " 1.982 6.201 4.067 1.033 1.803 6.376 4.182 2.73  5.027 6.471 3.919 3.561\n",
      " 0.301 7.163 0.309 6.335]\n",
      "\n",
      "Marks: \n",
      " [19.202  7.734 13.811 53.018 55.299 17.822 29.889 17.264 20.348 30.862\n",
      " 42.036 12.132 24.318 17.672 11.397 19.466 30.548 38.49  50.986 25.133\n",
      " 22.073 35.939 12.209 28.043 16.517  6.623 12.647 26.532  9.333  8.837\n",
      " 24.172  8.1   15.038 39.965 17.171 43.978 13.119 46.453 41.358 51.142\n",
      "  7.336 15.725 19.771 10.429  9.742  8.924 16.703 22.701 26.882 19.106\n",
      " 40.602 22.184  7.892 36.653 53.158 18.238 53.359 51.583 31.236 51.343\n",
      " 10.522 10.844 19.59  21.379 12.591 13.562 27.569  6.185  8.92  21.4\n",
      " 16.606 13.416 20.398  7.014 39.952  6.217 36.746 38.278 49.544  6.349\n",
      " 54.321 17.705 44.099 16.106 16.461 39.957 23.149  6.053 11.253 40.024\n",
      " 24.394 19.564 23.916 42.426 24.451 19.128  5.609 41.444 12.027 32.357]\n",
      "\n"
     ]
    }
   ],
   "source": [
    "for i in mark.columns:\n",
    "    print(f\"{i}: \\n {mark[i].unique()}\\n\")"
   ]
  },
  {
   "cell_type": "code",
   "execution_count": null,
   "id": "8c9e3afb-e9c0-403c-a84f-d07b6eadcc5f",
   "metadata": {},
   "outputs": [],
   "source": []
  }
 ],
 "metadata": {
  "kernelspec": {
   "display_name": "Python [conda env:base] *",
   "language": "python",
   "name": "conda-base-py"
  },
  "language_info": {
   "codemirror_mode": {
    "name": "ipython",
    "version": 3
   },
   "file_extension": ".py",
   "mimetype": "text/x-python",
   "name": "python",
   "nbconvert_exporter": "python",
   "pygments_lexer": "ipython3",
   "version": "3.12.7"
  }
 },
 "nbformat": 4,
 "nbformat_minor": 5
}
