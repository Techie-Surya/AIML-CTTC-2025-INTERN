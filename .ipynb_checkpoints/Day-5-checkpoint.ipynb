{
 "cells": [
  {
   "cell_type": "markdown",
   "id": "8a4bf092-de53-43b2-9dc6-97485cba73e7",
   "metadata": {},
   "source": [
    "## Loop\n",
    "### Something that repeats continuosly."
   ]
  },
  {
   "cell_type": "markdown",
   "id": "4b3379d5-56de-414e-9a9b-5c8bb813b6a2",
   "metadata": {},
   "source": [
    "## While Loop : \n",
    "##### Python while loop is used to run a block code until a certain condition is met."
   ]
  },
  {
   "cell_type": "code",
   "execution_count": 1,
   "id": "8b4b800e-9023-48e7-9427-b064eb67b5d4",
   "metadata": {
    "scrolled": true
   },
   "outputs": [
    {
     "name": "stdout",
     "output_type": "stream",
     "text": [
      "1\n",
      "2\n",
      "3\n",
      "4\n",
      "5\n",
      "6\n",
      "7\n",
      "8\n",
      "9\n",
      "10\n"
     ]
    }
   ],
   "source": [
    "x = 1\n",
    "while x <= 10:\n",
    "    print(x)\n",
    "    x += 1"
   ]
  },
  {
   "cell_type": "code",
   "execution_count": 3,
   "id": "b5788efc-6a2d-4008-b162-7d384b14a748",
   "metadata": {
    "scrolled": true
   },
   "outputs": [
    {
     "name": "stdout",
     "output_type": "stream",
     "text": [
      "1,2,3,4,5,6,7,8,9,10,"
     ]
    }
   ],
   "source": [
    "x = 1\n",
    "while x <= 10:\n",
    "    print(x,end= \",\")\n",
    "    x += 1"
   ]
  },
  {
   "cell_type": "markdown",
   "id": "a95bb73b-2541-4bca-9557-317178fa3977",
   "metadata": {},
   "source": [
    "##### Print all numbers from 50 to 1."
   ]
  },
  {
   "cell_type": "code",
   "execution_count": 5,
   "id": "311ccdb2-c87c-4372-93a8-d2858cd43f1e",
   "metadata": {
    "scrolled": true
   },
   "outputs": [
    {
     "name": "stdout",
     "output_type": "stream",
     "text": [
      "50 49 48 47 46 45 44 43 42 41 40 39 38 37 36 35 34 33 32 31 30 29 28 27 26 25 24 23 22 21 20 19 18 17 16 15 14 13 12 11 10 9 8 7 6 5 4 3 2 1 "
     ]
    }
   ],
   "source": [
    "x = 50\n",
    "while x > 0:\n",
    "    print (x,end=\" \")\n",
    "    x -= 1"
   ]
  },
  {
   "cell_type": "markdown",
   "id": "e683880d-bc29-4064-9e7e-23aab6eabb81",
   "metadata": {},
   "source": [
    "##### Wapp to print all even numbers from 1 to 200."
   ]
  },
  {
   "cell_type": "code",
   "execution_count": 1,
   "id": "39c15e69-6325-4a53-9ab6-c89b7f727e86",
   "metadata": {
    "scrolled": true
   },
   "outputs": [
    {
     "name": "stdout",
     "output_type": "stream",
     "text": [
      "2 4 6 8 10 12 14 16 18 20 22 24 26 28 30 32 34 36 38 40 42 44 46 48 50 52 54 56 58 60 62 64 66 68 70 72 74 76 78 80 82 84 86 88 90 92 94 96 98 100 102 104 106 108 110 112 114 116 118 120 122 124 126 128 130 132 134 136 138 140 142 144 146 148 150 152 154 156 158 160 162 164 166 168 170 172 174 176 178 180 182 184 186 188 190 192 194 196 198 200 "
     ]
    }
   ],
   "source": [
    "x = 1\n",
    "while x <= 200:\n",
    "    if x%2==0:\n",
    "        print(x,end=\" \")\n",
    "    x +=1"
   ]
  },
  {
   "cell_type": "markdown",
   "id": "56eb90ca-b06c-4461-b295-1f74027143ce",
   "metadata": {},
   "source": [
    "##### Wapp to print the value if an user enters 'rock','paper' or 'scissor',Otherwise if an user enters any  value other than 'rock','paper' or 'scissor' it should ask for input again."
   ]
  },
  {
   "cell_type": "code",
   "execution_count": 1,
   "id": "d0d060f6-eb32-4063-a3c1-33c5680b4332",
   "metadata": {
    "scrolled": true
   },
   "outputs": [
    {
     "name": "stdin",
     "output_type": "stream",
     "text": [
      "enter the word:  sciSSOR\n"
     ]
    },
    {
     "name": "stdout",
     "output_type": "stream",
     "text": [
      "Your word is:  sciSSOR\n"
     ]
    }
   ],
   "source": [
    "x = 'none'\n",
    "while x.lower() not in ['rock','paper','scissor']:\n",
    "    x = input(\"enter the word: \")\n",
    "print(\"Your word is: \",x)"
   ]
  },
  {
   "cell_type": "markdown",
   "id": "1b7e3640-b88f-4dbb-a332-6511b2c8e566",
   "metadata": {},
   "source": [
    "## For Loop :"
   ]
  },
  {
   "cell_type": "markdown",
   "id": "9f9b59a7-ea89-4aa0-be89-67763dd7c27e",
   "metadata": {},
   "source": [
    "##### It is used to iterate over any sequential data."
   ]
  },
  {
   "cell_type": "code",
   "execution_count": 2,
   "id": "3967d554-ae8b-431b-ab3d-0636e61012cc",
   "metadata": {
    "scrolled": true
   },
   "outputs": [
    {
     "name": "stdout",
     "output_type": "stream",
     "text": [
      "12\n",
      "34\n",
      "67\n",
      "879\n",
      "34\n",
      "89\n",
      "66\n",
      "42\n"
     ]
    }
   ],
   "source": [
    "num = [12,34,67,879,34,89,66,42]\n",
    "for i in num:\n",
    "    print (i)"
   ]
  },
  {
   "cell_type": "code",
   "execution_count": 4,
   "id": "fac0f298-a100-4492-80f0-0663871e9c9d",
   "metadata": {
    "scrolled": true
   },
   "outputs": [
    {
     "name": "stdout",
     "output_type": "stream",
     "text": [
      "12 34 34 66 42 "
     ]
    }
   ],
   "source": [
    "# for only even numbers in num\n",
    "num = [12,34,67,879,34,89,66,42]\n",
    "for i in num:\n",
    "    if i % 2 == 0:\n",
    "        print (i,end=\" \")"
   ]
  },
  {
   "cell_type": "code",
   "execution_count": 5,
   "id": "ebd74bd9-3bb8-4495-8f86-6430b198746d",
   "metadata": {
    "scrolled": true
   },
   "outputs": [
    {
     "name": "stdout",
     "output_type": "stream",
     "text": [
      "A E R O P L A N E "
     ]
    }
   ],
   "source": [
    "for char in 'AEROPLANE':\n",
    "    print (char,end=\" \")"
   ]
  },
  {
   "cell_type": "markdown",
   "id": "620b1d37-a6d6-43fd-b9cf-2c80576b4a7f",
   "metadata": {},
   "source": [
    "#### range() :\n",
    "##### It is a built in function that generates a sequence of integers between any given inerval."
   ]
  },
  {
   "cell_type": "code",
   "execution_count": 6,
   "id": "da335280-96a7-4315-afbc-245c7cf3fc08",
   "metadata": {
    "scrolled": true
   },
   "outputs": [
    {
     "name": "stdout",
     "output_type": "stream",
     "text": [
      "1 2 3 4 5 6 7 8 9 10 "
     ]
    }
   ],
   "source": [
    "for i in range(1,11):\n",
    "    print(i,end=\" \")"
   ]
  },
  {
   "cell_type": "code",
   "execution_count": 7,
   "id": "691641e0-1c83-4f15-8da5-317c123643e5",
   "metadata": {
    "scrolled": true
   },
   "outputs": [
    {
     "name": "stdout",
     "output_type": "stream",
     "text": [
      "500 499 498 497 496 495 494 493 492 491 490 489 488 487 486 485 484 483 482 481 480 479 478 477 476 475 474 473 472 471 470 469 468 467 466 465 464 463 462 461 460 459 458 457 456 455 454 453 452 451 450 449 448 447 446 445 444 443 442 441 440 439 438 437 436 435 434 433 432 431 430 429 428 427 426 425 424 423 422 421 420 419 418 417 416 415 414 413 412 411 410 409 408 407 406 405 404 403 402 401 400 399 398 397 396 395 394 393 392 391 390 389 388 387 386 385 384 383 382 381 380 379 378 377 376 375 374 373 372 371 370 369 368 367 366 365 364 363 362 361 360 359 358 357 356 355 354 353 352 351 350 349 348 347 346 345 344 343 342 341 340 339 338 337 336 335 334 333 332 331 330 329 328 327 326 325 324 323 322 321 320 319 318 317 316 315 314 313 312 311 310 309 308 307 306 305 304 303 302 301 300 299 298 297 296 295 294 293 292 291 290 289 288 287 286 285 284 283 282 281 280 279 278 277 276 275 274 273 272 271 270 269 268 267 266 265 264 263 262 261 260 259 258 257 256 255 254 253 252 251 250 249 248 247 246 245 244 243 242 241 240 239 238 237 236 235 234 233 232 231 230 229 228 227 226 225 224 223 222 221 220 219 218 217 216 215 214 213 212 211 210 209 208 207 206 205 204 203 202 201 200 "
     ]
    }
   ],
   "source": [
    "#Reverse numbers from 500 to 200.\n",
    "for i in range(500,199,-1):\n",
    "    print(i,end=\" \")"
   ]
  },
  {
   "cell_type": "markdown",
   "id": "fec51d44-4d90-4339-8717-5cff1cbbd489",
   "metadata": {},
   "source": [
    "##### Wapp to print the multiplication table of any entered number."
   ]
  },
  {
   "cell_type": "code",
   "execution_count": 8,
   "id": "e641d724-3276-420f-9be9-bebcfc8fbb3d",
   "metadata": {
    "scrolled": true
   },
   "outputs": [
    {
     "name": "stdin",
     "output_type": "stream",
     "text": [
      "Enter a number:  5\n"
     ]
    },
    {
     "name": "stdout",
     "output_type": "stream",
     "text": [
      "5 X 1 = 5\n",
      "5 X 2 = 10\n",
      "5 X 3 = 15\n",
      "5 X 4 = 20\n",
      "5 X 5 = 25\n",
      "5 X 6 = 30\n",
      "5 X 7 = 35\n",
      "5 X 8 = 40\n",
      "5 X 9 = 45\n",
      "5 X 10 = 50\n"
     ]
    }
   ],
   "source": [
    "x = int(input(\"Enter a number: \"))\n",
    "for i in range(1,11,1):\n",
    "    print (x,'X',i,'=',x*i)"
   ]
  },
  {
   "cell_type": "markdown",
   "id": "b448e9f3-e537-4298-9165-fa3271b5adb7",
   "metadata": {},
   "source": [
    "##### Wapp to print only the vowels from any entered string value."
   ]
  },
  {
   "cell_type": "code",
   "execution_count": 10,
   "id": "58c4f98e-b005-4d06-81af-8432dbcc9d52",
   "metadata": {
    "scrolled": true
   },
   "outputs": [
    {
     "name": "stdin",
     "output_type": "stream",
     "text": [
      "Enter a word:  kunal\n"
     ]
    },
    {
     "name": "stdout",
     "output_type": "stream",
     "text": [
      "u a "
     ]
    }
   ],
   "source": [
    "x = input(\"Enter a word: \")\n",
    "for i in x:\n",
    "    if i in 'aeiouAEIOU':\n",
    "        print(i,end=\" \")\n"
   ]
  },
  {
   "cell_type": "markdown",
   "id": "e9a6ba80-2b04-46db-b656-aba6fa8f16b5",
   "metadata": {},
   "source": [
    "### Jump Statements : "
   ]
  },
  {
   "cell_type": "markdown",
   "id": "8c0aa5b7-d706-47b9-933d-900b04e9d016",
   "metadata": {},
   "source": [
    "##### a jump statement is used to break the normal form of the program\n",
    "#### Break :\n",
    "##### Used to terminate or break the loop."
   ]
  },
  {
   "cell_type": "code",
   "execution_count": 11,
   "id": "e9df202c-2a49-4107-827b-6f0bf5cecece",
   "metadata": {
    "scrolled": true
   },
   "outputs": [
    {
     "name": "stdout",
     "output_type": "stream",
     "text": [
      "p\n"
     ]
    }
   ],
   "source": [
    "for i in 'python':\n",
    "    print(i)\n",
    "    break"
   ]
  },
  {
   "cell_type": "code",
   "execution_count": 13,
   "id": "92995c9a-9ba5-450a-8ca0-54615c3bfa34",
   "metadata": {
    "scrolled": true
   },
   "outputs": [
    {
     "name": "stdout",
     "output_type": "stream",
     "text": [
      "p\n",
      "y\n",
      "t\n"
     ]
    }
   ],
   "source": [
    "for i in 'python':\n",
    "    if i == 'h':\n",
    "        break\n",
    "    print(i)"
   ]
  },
  {
   "cell_type": "markdown",
   "id": "e4249c1e-741d-400c-b94c-f36db19bd7b2",
   "metadata": {},
   "source": [
    "#### Continue statement :\n",
    "##### Continue statement is used to skip the current iteration and takes the control to the next iteration."
   ]
  },
  {
   "cell_type": "code",
   "execution_count": 14,
   "id": "0fe91bfa-5f14-4623-88c0-c8da0c47cc73",
   "metadata": {
    "scrolled": true
   },
   "outputs": [
    {
     "name": "stdout",
     "output_type": "stream",
     "text": [
      "p\n",
      "y\n",
      "t\n",
      "h\n",
      "o\n",
      "n\n"
     ]
    }
   ],
   "source": [
    "for i in 'python':\n",
    "    print(i)\n",
    "    continue"
   ]
  },
  {
   "cell_type": "code",
   "execution_count": 15,
   "id": "84c4ca62-16e0-4716-8480-021020efb805",
   "metadata": {},
   "outputs": [],
   "source": [
    "for i in 'python':\n",
    "    continue\n",
    "    print(i)"
   ]
  },
  {
   "cell_type": "code",
   "execution_count": 17,
   "id": "89d0eb82-d6b5-4c97-9e47-ea1c0ec19276",
   "metadata": {
    "scrolled": true
   },
   "outputs": [
    {
     "name": "stdout",
     "output_type": "stream",
     "text": [
      "p\n",
      "y\n",
      "t\n",
      "h\n",
      "n\n"
     ]
    }
   ],
   "source": [
    "for i in 'python':\n",
    "    if i == 'o':\n",
    "        continue\n",
    "    print(i)"
   ]
  },
  {
   "cell_type": "markdown",
   "id": "64d7c032-a8bb-4356-bea1-c8546d1e0c52",
   "metadata": {},
   "source": [
    "#### Pass Statements : \n",
    "##### Helps to write empty loops.\n",
    "##### Used for control statements, functions and classes."
   ]
  },
  {
   "cell_type": "code",
   "execution_count": 18,
   "id": "9a18b724-2568-428b-bfd7-864bde9ae04c",
   "metadata": {},
   "outputs": [],
   "source": [
    "for i in 'python':\n",
    "    pass"
   ]
  },
  {
   "cell_type": "code",
   "execution_count": 21,
   "id": "9c9ac5f5-8013-46d8-adcf-d46cb429a5fb",
   "metadata": {
    "scrolled": true
   },
   "outputs": [
    {
     "name": "stdout",
     "output_type": "stream",
     "text": [
      "p y t h o n "
     ]
    }
   ],
   "source": [
    "for i in 'python':\n",
    "    pass\n",
    "    print(i,end=\" \")"
   ]
  },
  {
   "cell_type": "markdown",
   "id": "75ab56f4-ca37-404d-b76d-fd52902deb82",
   "metadata": {},
   "source": [
    "## Function :\n",
    "##### A function is a pre defined piece of code\n",
    "### 2 types :\n",
    "#### User defined : A function which is declared by the user according to their need.\n",
    "#### pre defined : The functions which are already present in python's library are called Pre defined function or Built in functions.\n"
   ]
  },
  {
   "cell_type": "code",
   "execution_count": 22,
   "id": "4f4ff648-ba42-433e-b99b-ccb9a450a946",
   "metadata": {
    "scrolled": true
   },
   "outputs": [
    {
     "name": "stdout",
     "output_type": "stream",
     "text": [
      "Hello World\n"
     ]
    }
   ],
   "source": [
    "# creating a function.\n",
    "def Function1():\n",
    "    print(\"Hello World\")\n",
    "#Function call\n",
    "Function1()"
   ]
  },
  {
   "cell_type": "code",
   "execution_count": 23,
   "id": "fdaae62a-bac7-420e-b618-08bda827d22c",
   "metadata": {
    "scrolled": true
   },
   "outputs": [
    {
     "data": {
      "text/plain": [
       "'Hello'"
      ]
     },
     "execution_count": 23,
     "metadata": {},
     "output_type": "execute_result"
    }
   ],
   "source": [
    "# Function with return:\n",
    "def WithRet():\n",
    "    return \"Hello\"\n",
    "WithRet()"
   ]
  },
  {
   "cell_type": "code",
   "execution_count": 25,
   "id": "fd91f0c9-4b89-4f93-a3cb-68efd7c8ddfc",
   "metadata": {
    "scrolled": true
   },
   "outputs": [
    {
     "name": "stdout",
     "output_type": "stream",
     "text": [
      "hello\n"
     ]
    }
   ],
   "source": [
    "# Function with return :\n",
    "def WithoutRet():\n",
    "    print(\"hello\")\n",
    "WithoutRet()"
   ]
  },
  {
   "cell_type": "code",
   "execution_count": 27,
   "id": "a9748f05-c125-4458-b57b-32a5563e4456",
   "metadata": {
    "scrolled": true
   },
   "outputs": [
    {
     "data": {
      "text/plain": [
       "'Hello How are you '"
      ]
     },
     "execution_count": 27,
     "metadata": {},
     "output_type": "execute_result"
    }
   ],
   "source": [
    "WithRet() + ' How are you '"
   ]
  },
  {
   "cell_type": "code",
   "execution_count": 28,
   "id": "0b8ef55c-8aa7-4510-8ece-9162abda5c1e",
   "metadata": {},
   "outputs": [
    {
     "name": "stdout",
     "output_type": "stream",
     "text": [
      "hello\n"
     ]
    },
    {
     "ename": "TypeError",
     "evalue": "unsupported operand type(s) for +: 'NoneType' and 'str'",
     "output_type": "error",
     "traceback": [
      "\u001b[1;31m---------------------------------------------------------------------------\u001b[0m",
      "\u001b[1;31mTypeError\u001b[0m                                 Traceback (most recent call last)",
      "Cell \u001b[1;32mIn[28], line 1\u001b[0m\n\u001b[1;32m----> 1\u001b[0m WithoutRet() \u001b[38;5;241m+\u001b[39m \u001b[38;5;124m'\u001b[39m\u001b[38;5;124m How are you \u001b[39m\u001b[38;5;124m'\u001b[39m\n",
      "\u001b[1;31mTypeError\u001b[0m: unsupported operand type(s) for +: 'NoneType' and 'str'"
     ]
    }
   ],
   "source": [
    "WithoutRet() + ' How are you '"
   ]
  },
  {
   "cell_type": "code",
   "execution_count": 29,
   "id": "bc844a17-c005-47bd-95c7-cc444d7ce0f1",
   "metadata": {
    "scrolled": true
   },
   "outputs": [
    {
     "name": "stdout",
     "output_type": "stream",
     "text": [
      "Value of x is 50\n"
     ]
    }
   ],
   "source": [
    "# Functions with argumenets : \n",
    "# Single argument:\n",
    "def Single(x):\n",
    "    print(f\"Value of x is {x}\")\n",
    "Single(50)"
   ]
  },
  {
   "cell_type": "code",
   "execution_count": 30,
   "id": "64d63af9-31cd-445e-ae9e-f7a39441923b",
   "metadata": {
    "scrolled": true
   },
   "outputs": [
    {
     "name": "stdout",
     "output_type": "stream",
     "text": [
      "Value of x is Apple\n"
     ]
    }
   ],
   "source": [
    "Single('Apple')"
   ]
  },
  {
   "cell_type": "code",
   "execution_count": 31,
   "id": "6a0e4d64-4484-4665-92d5-8bbd0e7f550b",
   "metadata": {
    "scrolled": true
   },
   "outputs": [
    {
     "name": "stdout",
     "output_type": "stream",
     "text": [
      "a -> 54, b -> 89\n"
     ]
    }
   ],
   "source": [
    "# Double argument :\n",
    "def Double(a,b):\n",
    "    print(f\"a -> {a}, b -> {b}\")\n",
    "Double(54,89)"
   ]
  },
  {
   "cell_type": "code",
   "execution_count": 32,
   "id": "8489b189-f66a-45f4-b21d-6f1f4e24e6cd",
   "metadata": {},
   "outputs": [],
   "source": [
    "# Multiple arguments :\n",
    "def Multi(*arg):\n",
    "    print(f'values in arg -> {arg}')"
   ]
  },
  {
   "cell_type": "code",
   "execution_count": 34,
   "id": "4ee8de5a-7a85-4454-8e32-2e09abcc7965",
   "metadata": {
    "scrolled": true
   },
   "outputs": [
    {
     "name": "stdout",
     "output_type": "stream",
     "text": [
      "values in arg -> (15,)\n"
     ]
    }
   ],
   "source": [
    "Multi(15)\n",
    "\n",
    "# always the datatype is tuple"
   ]
  },
  {
   "cell_type": "code",
   "execution_count": 36,
   "id": "e7dd9da9-459b-4dda-8748-0f86f3185c50",
   "metadata": {
    "scrolled": true
   },
   "outputs": [
    {
     "name": "stdout",
     "output_type": "stream",
     "text": [
      "values in arg -> (1, 7, 89, 65, 2)\n"
     ]
    }
   ],
   "source": [
    "Multi(1,7,89,65,2)"
   ]
  },
  {
   "cell_type": "markdown",
   "id": "b8f0294f-c2b4-4697-82e6-59b4c0e6e328",
   "metadata": {},
   "source": [
    "##### Create a function to check whether a given number is even or odd"
   ]
  },
  {
   "cell_type": "code",
   "execution_count": 37,
   "id": "cc8393a7-8425-42f9-bde2-9c26ecc733e9",
   "metadata": {
    "scrolled": true
   },
   "outputs": [
    {
     "name": "stdout",
     "output_type": "stream",
     "text": [
      "Odd\n"
     ]
    }
   ],
   "source": [
    "def EvOd(num):\n",
    "    if num%2==0:\n",
    "        print(\"Even\")\n",
    "    else:\n",
    "        print(\"Odd\")\n",
    "EvOd(5)"
   ]
  },
  {
   "cell_type": "code",
   "execution_count": 38,
   "id": "79e5692b-63a5-428a-80c2-b44e5d330961",
   "metadata": {
    "scrolled": true
   },
   "outputs": [
    {
     "name": "stdout",
     "output_type": "stream",
     "text": [
      "Even\n"
     ]
    }
   ],
   "source": [
    "EvOd(0)"
   ]
  },
  {
   "cell_type": "markdown",
   "id": "f6719997-0142-4b80-9efc-c472db128bd5",
   "metadata": {},
   "source": [
    "##### Create a function to print all the factors of an entered number."
   ]
  },
  {
   "cell_type": "code",
   "execution_count": 2,
   "id": "b59860be-60a7-4e15-ac07-151cfdb0dc39",
   "metadata": {
    "scrolled": true
   },
   "outputs": [
    {
     "name": "stdin",
     "output_type": "stream",
     "text": [
      "Enter a number:  12\n"
     ]
    },
    {
     "name": "stdout",
     "output_type": "stream",
     "text": [
      "1\n",
      "2\n",
      "3\n",
      "4\n",
      "6\n",
      "12\n"
     ]
    }
   ],
   "source": [
    "def Fact(x):\n",
    "    for i in range(1,x+1):\n",
    "        if x%i==0:\n",
    "            print(i)\n",
    "x = int(input(\"Enter a number: \"))\n",
    "Fact(x)"
   ]
  },
  {
   "cell_type": "code",
   "execution_count": 1,
   "id": "1be7c81f-3f0b-45a0-b246-1d7efbdeccb4",
   "metadata": {
    "scrolled": true
   },
   "outputs": [
    {
     "name": "stdout",
     "output_type": "stream",
     "text": [
      "asish is a  LEGEND\n"
     ]
    }
   ],
   "source": [
    "asish=\"LEGEND\"\n",
    "print(\"asish is a \",asish)"
   ]
  },
  {
   "cell_type": "code",
   "execution_count": null,
   "id": "199458db-b87d-4fd6-a108-c4ce575d964c",
   "metadata": {},
   "outputs": [],
   "source": []
  }
 ],
 "metadata": {
  "kernelspec": {
   "display_name": "Python [conda env:base] *",
   "language": "python",
   "name": "conda-base-py"
  },
  "language_info": {
   "codemirror_mode": {
    "name": "ipython",
    "version": 3
   },
   "file_extension": ".py",
   "mimetype": "text/x-python",
   "name": "python",
   "nbconvert_exporter": "python",
   "pygments_lexer": "ipython3",
   "version": "3.12.7"
  }
 },
 "nbformat": 4,
 "nbformat_minor": 5
}
