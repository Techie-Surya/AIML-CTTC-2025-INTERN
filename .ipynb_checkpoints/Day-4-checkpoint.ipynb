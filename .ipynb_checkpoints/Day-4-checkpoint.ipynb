{
 "cells": [
  {
   "cell_type": "markdown",
   "id": "5b7bcf51-dc1a-485b-a7da-1db59e9de4a6",
   "metadata": {},
   "source": [
    "### Assignment Operator"
   ]
  },
  {
   "cell_type": "code",
   "execution_count": 3,
   "id": "156736f8-b3ed-4983-b448-d2916ded22b7",
   "metadata": {},
   "outputs": [
    {
     "name": "stdout",
     "output_type": "stream",
     "text": [
      "10\n",
      "20\n",
      "30\n"
     ]
    }
   ],
   "source": [
    "# += : assignment and arithmatic operator\n",
    "a = 10 \n",
    "b = 20\n",
    "print(a)\n",
    "print(b)\n",
    "a += b   # a += b -> a = a + b\n",
    "print(a)"
   ]
  },
  {
   "cell_type": "code",
   "execution_count": 4,
   "id": "009e0198-9ab0-4600-a1e0-9f2b347453f4",
   "metadata": {},
   "outputs": [
    {
     "name": "stdout",
     "output_type": "stream",
     "text": [
      "10\n",
      "20\n",
      "-10\n"
     ]
    }
   ],
   "source": [
    "# -= :\n",
    "a = 10 \n",
    "b = 20\n",
    "print(a)\n",
    "print(b)\n",
    "a -= b   # a -= b -> a = a - b\n",
    "print(a)"
   ]
  },
  {
   "cell_type": "code",
   "execution_count": 6,
   "id": "64ac1dd4-1dcd-4852-94d0-4288643318cf",
   "metadata": {},
   "outputs": [
    {
     "name": "stdout",
     "output_type": "stream",
     "text": [
      "10\n",
      "20\n",
      "200\n"
     ]
    }
   ],
   "source": [
    "# *= : \n",
    "a = 10 \n",
    "b = 20\n",
    "print(a)\n",
    "print(b)\n",
    "a *= b   # a *= b -> a = a * b\n",
    "print(a)"
   ]
  },
  {
   "cell_type": "markdown",
   "id": "6b210be4-a64c-4ae0-8106-6c820be876c3",
   "metadata": {},
   "source": [
    "### Comparison Operators"
   ]
  },
  {
   "cell_type": "code",
   "execution_count": 7,
   "id": "ecb7a2e1-cf79-484e-981e-c5b77eed7244",
   "metadata": {},
   "outputs": [
    {
     "data": {
      "text/plain": [
       "True"
      ]
     },
     "execution_count": 7,
     "metadata": {},
     "output_type": "execute_result"
    }
   ],
   "source": [
    "100 > 66"
   ]
  },
  {
   "cell_type": "code",
   "execution_count": 8,
   "id": "6bed48bc-4619-4280-ad27-84c4b50cc8d8",
   "metadata": {},
   "outputs": [
    {
     "data": {
      "text/plain": [
       "False"
      ]
     },
     "execution_count": 8,
     "metadata": {},
     "output_type": "execute_result"
    }
   ],
   "source": [
    "100 < 55"
   ]
  },
  {
   "cell_type": "code",
   "execution_count": 9,
   "id": "675b965b-0bf4-4beb-b072-d0ad2ec8e2ea",
   "metadata": {},
   "outputs": [
    {
     "data": {
      "text/plain": [
       "True"
      ]
     },
     "execution_count": 9,
     "metadata": {},
     "output_type": "execute_result"
    }
   ],
   "source": [
    "66 == 66"
   ]
  },
  {
   "cell_type": "code",
   "execution_count": 10,
   "id": "7797b7af-5380-4ccd-aa63-63c149059455",
   "metadata": {},
   "outputs": [
    {
     "data": {
      "text/plain": [
       "True"
      ]
     },
     "execution_count": 10,
     "metadata": {},
     "output_type": "execute_result"
    }
   ],
   "source": [
    "'cat' != 'CAT'"
   ]
  },
  {
   "cell_type": "code",
   "execution_count": 11,
   "id": "516dc59e-e662-45ef-aadf-d8179947979b",
   "metadata": {},
   "outputs": [
    {
     "data": {
      "text/plain": [
       "True"
      ]
     },
     "execution_count": 11,
     "metadata": {},
     "output_type": "execute_result"
    }
   ],
   "source": [
    "100 <= 100"
   ]
  },
  {
   "cell_type": "markdown",
   "id": "20df57f9-d397-4bd0-9301-3dbacfd60303",
   "metadata": {},
   "source": [
    "### Logical Operators"
   ]
  },
  {
   "cell_type": "code",
   "execution_count": 14,
   "id": "dc2a3dc0-f0dd-43e7-8bfb-8dcef0446138",
   "metadata": {},
   "outputs": [
    {
     "data": {
      "text/plain": [
       "True"
      ]
     },
     "execution_count": 14,
     "metadata": {},
     "output_type": "execute_result"
    }
   ],
   "source": [
    "# and(&&) : if all the conditions are true then the result will be true.\n",
    "('cat' == 'cat') and ('cat' != 'dog')"
   ]
  },
  {
   "cell_type": "code",
   "execution_count": 15,
   "id": "85744ab4-4dc8-4107-9e82-eca5c8ccb2cf",
   "metadata": {},
   "outputs": [
    {
     "data": {
      "text/plain": [
       "True"
      ]
     },
     "execution_count": 15,
     "metadata": {},
     "output_type": "execute_result"
    }
   ],
   "source": [
    "# or(||) : if any of the condition is true then the result will be true.\n",
    "(15 % 5 == 0) or (14 % 5 == 0)"
   ]
  },
  {
   "cell_type": "code",
   "execution_count": 16,
   "id": "f174a95c-6918-4b69-8e44-b0b59c3a5485",
   "metadata": {},
   "outputs": [
    {
     "data": {
      "text/plain": [
       "False"
      ]
     },
     "execution_count": 16,
     "metadata": {},
     "output_type": "execute_result"
    }
   ],
   "source": [
    "# not : it is an unary operaator that result True condition as False and vice versa\n",
    "not(15 % 5 == 0)"
   ]
  },
  {
   "cell_type": "markdown",
   "id": "a75c63bf-360a-49e9-8e62-0c534d35cfa8",
   "metadata": {},
   "source": [
    "## Special Operators \n",
    "### Membership Operators : It is used to check whether an element is present in an sequence or not"
   ]
  },
  {
   "cell_type": "code",
   "execution_count": 17,
   "id": "a2b714d3-94a2-422f-82b9-a489ab5bf7c3",
   "metadata": {},
   "outputs": [
    {
     "data": {
      "text/plain": [
       "True"
      ]
     },
     "execution_count": 17,
     "metadata": {},
     "output_type": "execute_result"
    }
   ],
   "source": [
    "# in : Returns True if an element is present within the sequence.\n",
    "'A' in 'Aeroplane'"
   ]
  },
  {
   "cell_type": "code",
   "execution_count": 19,
   "id": "99375b69-2425-4406-ad12-0f63a1006fb5",
   "metadata": {},
   "outputs": [
    {
     "data": {
      "text/plain": [
       "False"
      ]
     },
     "execution_count": 19,
     "metadata": {},
     "output_type": "execute_result"
    }
   ],
   "source": [
    "# in :\n",
    "15 in [1,2,5,6,89,5]"
   ]
  },
  {
   "cell_type": "code",
   "execution_count": 21,
   "id": "ef5f4159-b05a-4893-b25e-c2763470c4b7",
   "metadata": {},
   "outputs": [
    {
     "data": {
      "text/plain": [
       "True"
      ]
     },
     "execution_count": 21,
     "metadata": {},
     "output_type": "execute_result"
    }
   ],
   "source": [
    "# not in : Returns True if an element is not present within the sequence.\n",
    "'cat' not in {'suman' , 'elephant' , 'jackal'}"
   ]
  },
  {
   "cell_type": "code",
   "execution_count": 22,
   "id": "7091b5d2-21b0-4191-b91e-d11988b71e95",
   "metadata": {},
   "outputs": [
    {
     "data": {
      "text/plain": [
       "False"
      ]
     },
     "execution_count": 22,
     "metadata": {},
     "output_type": "execute_result"
    }
   ],
   "source": [
    "# not in :\n",
    "'s' not in 'suman'"
   ]
  },
  {
   "cell_type": "markdown",
   "id": "d6d7c087-c94b-48a9-935b-281980d1ecaa",
   "metadata": {},
   "source": [
    "## Write a program return True if the character is vowel."
   ]
  },
  {
   "cell_type": "code",
   "execution_count": 28,
   "id": "3ea226bd-02e5-48e3-89c5-f5b726ecc731",
   "metadata": {},
   "outputs": [
    {
     "name": "stdin",
     "output_type": "stream",
     "text": [
      "Enter a character:  o\n"
     ]
    },
    {
     "data": {
      "text/plain": [
       "True"
      ]
     },
     "execution_count": 28,
     "metadata": {},
     "output_type": "execute_result"
    }
   ],
   "source": [
    "x = input('Enter a character: ')\n",
    "x in 'aeiouAEIOU'\n"
   ]
  },
  {
   "cell_type": "markdown",
   "id": "f0526ec9-f20a-46b7-822e-272c45033a93",
   "metadata": {},
   "source": [
    "## Identity Operator : It is used to compare the address of any variable."
   ]
  },
  {
   "cell_type": "code",
   "execution_count": 31,
   "id": "6a9d4a0d-e123-45e7-a306-ef5e1feecfa7",
   "metadata": {},
   "outputs": [
    {
     "name": "stdout",
     "output_type": "stream",
     "text": [
      "True\n",
      "140703303418200\n",
      "140703303418200\n"
     ]
    }
   ],
   "source": [
    "# is : return True if the addresses of both variables are same.\n",
    "x = 190\n",
    "y = 190\n",
    "print (x is y)\n",
    "\n",
    "# to check the address of any variable we can use id()\n",
    "print(id(x))\n",
    "print(id(y))"
   ]
  },
  {
   "cell_type": "code",
   "execution_count": 32,
   "id": "123fcac1-07e7-45b5-8ff2-009311103c11",
   "metadata": {},
   "outputs": [
    {
     "name": "stdout",
     "output_type": "stream",
     "text": [
      "True\n",
      "140703303418200\n",
      "140703303418200\n"
     ]
    }
   ],
   "source": [
    "#is :\n",
    "x = 190\n",
    "y = 190\n",
    "print (x is y)\n",
    "print(id(x))\n",
    "print(id(y))"
   ]
  },
  {
   "cell_type": "code",
   "execution_count": 35,
   "id": "6a652f61-b5ef-43e8-88d3-ef0df1d5558d",
   "metadata": {},
   "outputs": [
    {
     "name": "stdout",
     "output_type": "stream",
     "text": [
      "True\n",
      "2130119111872\n",
      "2130119099328\n"
     ]
    }
   ],
   "source": [
    "# is not : return True if addresses of both the variables are different.\n",
    "a = [1,2,3]\n",
    "b = [1,2,3]\n",
    "print(a is not b)\n",
    "print(id(a))\n",
    "print(id(b))"
   ]
  },
  {
   "cell_type": "code",
   "execution_count": 37,
   "id": "65f12baa-a9a0-436c-81d2-8b62d607a43b",
   "metadata": {},
   "outputs": [
    {
     "name": "stdout",
     "output_type": "stream",
     "text": [
      "False\n",
      "2130119208128\n",
      "2130119208128\n"
     ]
    }
   ],
   "source": [
    "# is not : \n",
    "a = [1,2,3]\n",
    "b = a\n",
    "print(a is not b)\n",
    "print(id(a))\n",
    "print(id(b))"
   ]
  },
  {
   "cell_type": "markdown",
   "id": "b05add66-9d63-4f03-a35c-f21430f3f17f",
   "metadata": {},
   "source": [
    "## Wapp to return True if a year is leap else return False."
   ]
  },
  {
   "cell_type": "code",
   "execution_count": 41,
   "id": "9ff008fd-07ec-4671-9d9e-d96004a76438",
   "metadata": {},
   "outputs": [
    {
     "name": "stdin",
     "output_type": "stream",
     "text": [
      "Enter a year:  2015\n"
     ]
    },
    {
     "data": {
      "text/plain": [
       "False"
      ]
     },
     "execution_count": 41,
     "metadata": {},
     "output_type": "execute_result"
    }
   ],
   "source": [
    "x = int(input('Enter a year: '))\n",
    "(x % 4 == 0) and (x % 100 != 0) or (x % 400 == 0) "
   ]
  },
  {
   "cell_type": "markdown",
   "id": "6d0dd060-6ab8-4b6e-87f8-89f1bb7f20c3",
   "metadata": {},
   "source": [
    "### Identation : it is one of the most important feature in python as the indicates the block of code."
   ]
  },
  {
   "cell_type": "code",
   "execution_count": 42,
   "id": "c3c3693a-2a9c-4922-969a-8143fc2edeef",
   "metadata": {},
   "outputs": [
    {
     "name": "stdout",
     "output_type": "stream",
     "text": [
      "both values are equal\n"
     ]
    }
   ],
   "source": [
    "if 'A' == 'A':\n",
    "    print(\"both values are equal\")"
   ]
  },
  {
   "cell_type": "markdown",
   "id": "7188bc56-89b5-4c18-a4cd-3730c1939962",
   "metadata": {},
   "source": [
    "### Conditional Statement or Decision Making Statement or Control Statement : \n",
    "##### 1.if\n",
    "##### 2.if-else\n",
    "##### 3.Nested if\n",
    "##### 4.if-Elif-Else"
   ]
  },
  {
   "cell_type": "code",
   "execution_count": 44,
   "id": "77059864-c61e-4004-9f85-864b2b56984f",
   "metadata": {},
   "outputs": [
    {
     "name": "stdin",
     "output_type": "stream",
     "text": [
      "Enter a character:  a\n"
     ]
    },
    {
     "name": "stdout",
     "output_type": "stream",
     "text": [
      "a is a vowel\n"
     ]
    }
   ],
   "source": [
    "# if :\n",
    "char = input('Enter a character: ')\n",
    "if char == 'a' or char == 'e' or char == 'i' or char == 'o' or char == 'u' or char == 'A' or char == 'E' or char == 'I' or char == 'O' or char == 'U':\n",
    "    print(char,\"is a vowel\")"
   ]
  },
  {
   "cell_type": "code",
   "execution_count": 47,
   "id": "aad690a2-781a-46bf-b0a0-d8982dfb6c4d",
   "metadata": {},
   "outputs": [
    {
     "name": "stdin",
     "output_type": "stream",
     "text": [
      "Enter a character:  y\n"
     ]
    },
    {
     "name": "stdout",
     "output_type": "stream",
     "text": [
      "y is not a vowel\n"
     ]
    }
   ],
   "source": [
    "# if-else :it checks the truthneess as well as the falsiness of the program.\n",
    "char = input('Enter a character: ')\n",
    "if char in 'aeiouAEIOU':\n",
    "    print(char,\"is a vowel\")\n",
    "else:\n",
    "    print(char,\"is not a vowel\")"
   ]
  },
  {
   "cell_type": "code",
   "execution_count": null,
   "id": "8de86bbf-7259-4fbc-817c-55bdc4c337dc",
   "metadata": {},
   "outputs": [],
   "source": []
  },
  {
   "cell_type": "code",
   "execution_count": 51,
   "id": "4ff6f645-ed01-46a3-98f8-a1fcb2cbd611",
   "metadata": {},
   "outputs": [
    {
     "name": "stdin",
     "output_type": "stream",
     "text": [
      "Enter 10th marks:  50\n",
      "Enter 12th marks:  100\n",
      "Enter Btech marks:  97\n"
     ]
    },
    {
     "name": "stdout",
     "output_type": "stream",
     "text": [
      "Agle janam lena scholarship\n"
     ]
    }
   ],
   "source": [
    "# Nested if : It checks more than one condition at a time.\n",
    "tenth = float(input(\"Enter 10th marks: \"))\n",
    "twelve = float(input(\"Enter 12th marks: \"))\n",
    "btech = float(input(\"Enter Btech marks: \"))\n",
    "if tenth >= 80 :\n",
    "    if twelve >= 80:\n",
    "        if btech >= 80:\n",
    "            print(\"You are eligible to get scholarship\")\n",
    "        else:\n",
    "            print (\"You are not eligible to get scholarship\")\n",
    "    else:\n",
    "        print (\"Nahi milega scholarship\")\n",
    "else:\n",
    "    print (\"Agle janam lena scholarship\")"
   ]
  },
  {
   "cell_type": "code",
   "execution_count": 54,
   "id": "c7a6fd55-165f-4bf1-b36a-bbc45a775791",
   "metadata": {},
   "outputs": [
    {
     "name": "stdin",
     "output_type": "stream",
     "text": [
      "What you wanna eat:  sushi\n"
     ]
    },
    {
     "name": "stdout",
     "output_type": "stream",
     "text": [
      "mat khaa\n"
     ]
    }
   ],
   "source": [
    "treat = input('What you wanna eat: ').lower()\n",
    "if treat == 'burger':\n",
    "    print('We will have burger party')\n",
    "elif treat == 'pizza':\n",
    "    print('We will have pizza party')\n",
    "elif treat == 'biriyani':\n",
    "    print('We will have biriyani party')\n",
    "elif treat == 'pakhal':\n",
    "    print('Ghar mein we will have pakhal party')   \n",
    "else:\n",
    "    print('mat khaa')"
   ]
  },
  {
   "cell_type": "markdown",
   "id": "3fa1ef19-4e87-4dec-b43c-dea282533b2f",
   "metadata": {},
   "source": [
    "### Wapp to check if the entered character is a alphabet,digit or special character.\n"
   ]
  },
  {
   "cell_type": "code",
   "execution_count": 58,
   "id": "e11bec10-4bdc-42c2-b2a7-3dc2852eaf75",
   "metadata": {},
   "outputs": [
    {
     "name": "stdin",
     "output_type": "stream",
     "text": [
      "Enter a character:  2\n"
     ]
    },
    {
     "name": "stdout",
     "output_type": "stream",
     "text": [
      "2 is a digit\n"
     ]
    }
   ],
   "source": [
    "a = input('Enter a character: ')\n",
    "if a.isalpha(): \n",
    "    print(a,\"is a alphabet\")\n",
    "elif a.isdigit():\n",
    "    print(a,\"is a digit\")\n",
    "elif a.isspace():\n",
    "    print(a,\"is a space\")\n",
    "else:\n",
    "    print(a,\"is a special character\")"
   ]
  },
  {
   "cell_type": "markdown",
   "id": "ed559041-6b76-4689-bdf7-3c498427300b",
   "metadata": {},
   "source": [
    "### A company decided to give 5% bonus to its employees if his/her service is more than 5 years.Ask user for their salary and year of experience and print the net bonus amount."
   ]
  },
  {
   "cell_type": "code",
   "execution_count": 57,
   "id": "ece1dcae-2e07-49e8-a6b1-6c1f4e056c1a",
   "metadata": {},
   "outputs": [
    {
     "name": "stdin",
     "output_type": "stream",
     "text": [
      "Enter your salary:  50000\n",
      "Enter your years of experience:  6\n"
     ]
    },
    {
     "name": "stdout",
     "output_type": "stream",
     "text": [
      "New bonus amount: 2500.0\n"
     ]
    }
   ],
   "source": [
    "a = int(input('Enter your salary: '))\n",
    "b = int(input('Enter your years of experience: '))\n",
    "if b > 5 :\n",
    "    print(\"New bonus amount:\",a*(5/100)) \n",
    "else :\n",
    "    print(\"No bonus amount\")"
   ]
  },
  {
   "cell_type": "code",
   "execution_count": null,
   "id": "5d8e0b23-7d7c-49a3-96f2-2f0754bb7262",
   "metadata": {},
   "outputs": [],
   "source": []
  }
 ],
 "metadata": {
  "kernelspec": {
   "display_name": "Python [conda env:base] *",
   "language": "python",
   "name": "conda-base-py"
  },
  "language_info": {
   "codemirror_mode": {
    "name": "ipython",
    "version": 3
   },
   "file_extension": ".py",
   "mimetype": "text/x-python",
   "name": "python",
   "nbconvert_exporter": "python",
   "pygments_lexer": "ipython3",
   "version": "3.12.7"
  }
 },
 "nbformat": 4,
 "nbformat_minor": 5
}
