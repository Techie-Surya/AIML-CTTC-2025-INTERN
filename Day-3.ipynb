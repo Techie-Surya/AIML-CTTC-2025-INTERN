{
 "cells": [
  {
   "cell_type": "markdown",
   "id": "179aaff6-6c5b-4a26-baed-cb784c7bc6bd",
   "metadata": {},
   "source": [
    "### Dictionary"
   ]
  },
  {
   "cell_type": "code",
   "execution_count": 4,
   "id": "e12b789b-3b64-4143-9b1b-6a0b86bdfd85",
   "metadata": {},
   "outputs": [
    {
     "data": {
      "text/plain": [
       "{'name': 'suman', 'Roll No.': 72, 'Course': 'AIML'}"
      ]
     },
     "execution_count": 4,
     "metadata": {},
     "output_type": "execute_result"
    }
   ],
   "source": [
    "dict = {'name' : 'suman' , 'Roll No.' : 72 , 'Course' : 'AIML'}\n",
    "dict"
   ]
  },
  {
   "cell_type": "code",
   "execution_count": 5,
   "id": "78238a07-ce9d-43d2-a3b6-330db262126d",
   "metadata": {},
   "outputs": [
    {
     "data": {
      "text/plain": [
       "dict_keys(['name', 'Roll No.', 'Course'])"
      ]
     },
     "execution_count": 5,
     "metadata": {},
     "output_type": "execute_result"
    }
   ],
   "source": [
    "#keys()\n",
    "dict = {'name' : 'suman' , 'Roll No.' : 72 , 'Course' : 'AIML'}\n",
    "dict.keys()"
   ]
  },
  {
   "cell_type": "code",
   "execution_count": 7,
   "id": "812ca393-8cd0-406d-9536-4d58d64561c2",
   "metadata": {},
   "outputs": [
    {
     "data": {
      "text/plain": [
       "dict_values(['suman', 72, 'AIML'])"
      ]
     },
     "execution_count": 7,
     "metadata": {},
     "output_type": "execute_result"
    }
   ],
   "source": [
    "#values()\n",
    "dict = {'name' : 'suman' , 'Roll No.' : 72 , 'Course' : 'AIML'}\n",
    "dict.values()"
   ]
  },
  {
   "cell_type": "code",
   "execution_count": 8,
   "id": "d7648357-cbbc-4c3d-85be-d611553aedae",
   "metadata": {},
   "outputs": [
    {
     "data": {
      "text/plain": [
       "dict_items([('name', 'suman'), ('Roll No.', 72), ('Course', 'AIML')])"
      ]
     },
     "execution_count": 8,
     "metadata": {},
     "output_type": "execute_result"
    }
   ],
   "source": [
    "#items \n",
    "dict = {'name' : 'suman' , 'Roll No.' : 72 , 'Course' : 'AIML'}\n",
    "dict.items()"
   ]
  },
  {
   "cell_type": "code",
   "execution_count": 10,
   "id": "6f92191c-09cf-47b9-bf19-1b206e0a71ed",
   "metadata": {},
   "outputs": [
    {
     "data": {
      "text/plain": [
       "{'name': 'suman ghosh', 'Roll No.': 72, 'Course': 'AIML'}"
      ]
     },
     "execution_count": 10,
     "metadata": {},
     "output_type": "execute_result"
    }
   ],
   "source": [
    "#update()\n",
    "dict = {'name' : 'suman' , 'Roll No.' : 72 , 'Course' : 'AIML'}\n",
    "dict.update( {'name' : 'suman ghosh'} )\n",
    "dict"
   ]
  },
  {
   "cell_type": "code",
   "execution_count": 11,
   "id": "5f083938-e0ca-4166-b524-1f2c2e3f9e30",
   "metadata": {},
   "outputs": [
    {
     "data": {
      "text/plain": [
       "{'name': 'suman', 'Roll No.': 72, 'Course': 'AIML', 'Hometown': 'Khallikote'}"
      ]
     },
     "execution_count": 11,
     "metadata": {},
     "output_type": "execute_result"
    }
   ],
   "source": [
    "#update()\n",
    "dict = {'name' : 'suman' , 'Roll No.' : 72 , 'Course' : 'AIML'}\n",
    "dict.update( {'Hometown':'Khallikote'} )\n",
    "dict"
   ]
  },
  {
   "cell_type": "code",
   "execution_count": 12,
   "id": "ab236646-2320-4f3b-8418-bc6d311e5e20",
   "metadata": {},
   "outputs": [
    {
     "data": {
      "text/plain": [
       "'suman'"
      ]
     },
     "execution_count": 12,
     "metadata": {},
     "output_type": "execute_result"
    }
   ],
   "source": [
    "#get()\n",
    "dict = {'name' : 'suman' , 'Roll No.' : 72 , 'Course' : 'AIML'}\n",
    "dict.get('name')"
   ]
  },
  {
   "cell_type": "code",
   "execution_count": 21,
   "id": "c5b7aac4-5c7a-4eab-9d39-2c82152c478d",
   "metadata": {},
   "outputs": [
    {
     "data": {
      "text/plain": [
       "'AIML'"
      ]
     },
     "execution_count": 21,
     "metadata": {},
     "output_type": "execute_result"
    }
   ],
   "source": [
    "#pop()\n",
    "#update()\n",
    "dict = {'name' : 'suman' , 'Roll No.' : 72 , 'Course' : 'AIML'}\n",
    "dict.pop('Course')"
   ]
  },
  {
   "cell_type": "code",
   "execution_count": 22,
   "id": "dafce38c-58e5-4133-b617-20e942661269",
   "metadata": {},
   "outputs": [
    {
     "data": {
      "text/plain": [
       "{'name': 'suman', 'Roll No.': 72}"
      ]
     },
     "execution_count": 22,
     "metadata": {},
     "output_type": "execute_result"
    }
   ],
   "source": [
    "dict"
   ]
  },
  {
   "cell_type": "markdown",
   "id": "7b349d45-444a-4177-a84f-8707d7088400",
   "metadata": {},
   "source": [
    "### Questions"
   ]
  },
  {
   "cell_type": "code",
   "execution_count": 23,
   "id": "416195ab-632a-45d0-a22b-6dc9235cab7c",
   "metadata": {},
   "outputs": [
    {
     "data": {
      "text/plain": [
       "'LOPE'"
      ]
     },
     "execution_count": 23,
     "metadata": {},
     "output_type": "execute_result"
    }
   ],
   "source": [
    "a = 'ENCYCLOPEDIA'\n",
    "a[5:9:1]"
   ]
  },
  {
   "cell_type": "code",
   "execution_count": 27,
   "id": "7d8328fc-0c7d-4960-8706-42e477a72a14",
   "metadata": {},
   "outputs": [
    {
     "data": {
      "text/plain": [
       "'DEPOL'"
      ]
     },
     "execution_count": 27,
     "metadata": {},
     "output_type": "execute_result"
    }
   ],
   "source": [
    "a = 'ENCYCLOPEDIA'\n",
    "a[-3:-8:-1]"
   ]
  },
  {
   "cell_type": "code",
   "execution_count": 28,
   "id": "6b797274-bd37-4a82-860d-4a4040352200",
   "metadata": {},
   "outputs": [
    {
     "data": {
      "text/plain": [
       "'ADPLYN'"
      ]
     },
     "execution_count": 28,
     "metadata": {},
     "output_type": "execute_result"
    }
   ],
   "source": [
    "a = 'ENCYCLOPEDIA'\n",
    "a[-1:-12:-2]"
   ]
  },
  {
   "cell_type": "code",
   "execution_count": 29,
   "id": "bfa33b09-d9c0-44a7-bc9e-487d8338e2c5",
   "metadata": {},
   "outputs": [
    {
     "data": {
      "text/plain": [
       "'OYE'"
      ]
     },
     "execution_count": 29,
     "metadata": {},
     "output_type": "execute_result"
    }
   ],
   "source": [
    "a = 'ENCYCLOPEDIA'\n",
    "a[-6:-13:-3]"
   ]
  },
  {
   "cell_type": "code",
   "execution_count": 30,
   "id": "a0936752-adfe-4318-b047-02fb04ff7b7d",
   "metadata": {},
   "outputs": [
    {
     "data": {
      "text/plain": [
       "'GRAM'"
      ]
     },
     "execution_count": 30,
     "metadata": {},
     "output_type": "execute_result"
    }
   ],
   "source": [
    "a = 'PYTHON PROGRAMMING'\n",
    "a[10:14:1]"
   ]
  },
  {
   "cell_type": "code",
   "execution_count": 31,
   "id": "7250bb47-0f41-4c9a-ad82-b0f2ee1a58b7",
   "metadata": {},
   "outputs": [
    {
     "data": {
      "text/plain": [
       "'THO'"
      ]
     },
     "execution_count": 31,
     "metadata": {},
     "output_type": "execute_result"
    }
   ],
   "source": [
    "a = 'PYTHON PROGRAMMING'\n",
    "a[2:5:1]"
   ]
  },
  {
   "cell_type": "code",
   "execution_count": 2,
   "id": "6103ce43-948c-425f-8321-a0d705874ff6",
   "metadata": {},
   "outputs": [
    {
     "data": {
      "text/plain": [
       "'PORA'"
      ]
     },
     "execution_count": 2,
     "metadata": {},
     "output_type": "execute_result"
    }
   ],
   "source": [
    "a = 'PYTHON PROGRAMMING'\n",
    "a[0:13:4]"
   ]
  },
  {
   "cell_type": "markdown",
   "id": "468d4033-a458-4478-a37e-7f8c09ae6817",
   "metadata": {},
   "source": [
    "# Operators\n",
    "### Arithmatic Opertors "
   ]
  },
  {
   "cell_type": "code",
   "execution_count": 8,
   "id": "c44b90b6-ffb0-4732-bdac-e90d9e734995",
   "metadata": {},
   "outputs": [
    {
     "name": "stdout",
     "output_type": "stream",
     "text": [
      "5\n"
     ]
    }
   ],
   "source": [
    "#addition(+): Adds two or more numbers \n",
    "x = 2\n",
    "y = 3\n",
    "print (x+y)"
   ]
  },
  {
   "cell_type": "code",
   "execution_count": 10,
   "id": "3411a6b3-854c-439d-b958-94d8d0b2afc2",
   "metadata": {},
   "outputs": [
    {
     "name": "stdout",
     "output_type": "stream",
     "text": [
      "-1\n"
     ]
    }
   ],
   "source": [
    "#subtraction(-): Subtracts two numbers \n",
    "x = 2\n",
    "y = 3\n",
    "print (x-y)"
   ]
  },
  {
   "cell_type": "code",
   "execution_count": 11,
   "id": "c107bd62-69ac-4ad7-9acf-2432189c1c1b",
   "metadata": {},
   "outputs": [
    {
     "name": "stdout",
     "output_type": "stream",
     "text": [
      "6\n"
     ]
    }
   ],
   "source": [
    "#multiplication: Multiplies two or more numbers \n",
    "x = 2\n",
    "y = 3\n",
    "print (x*y)"
   ]
  },
  {
   "cell_type": "code",
   "execution_count": 12,
   "id": "78f530c1-61d4-464d-937f-c583ad17986c",
   "metadata": {},
   "outputs": [
    {
     "name": "stdout",
     "output_type": "stream",
     "text": [
      "0.6666666666666666\n"
     ]
    }
   ],
   "source": [
    "#single division(/): Returns quotient with decimal\n",
    "x = 2\n",
    "y = 3\n",
    "print (x/y)"
   ]
  },
  {
   "cell_type": "code",
   "execution_count": 5,
   "id": "455b2f9f-a4fa-438e-a93e-04a92d5d5756",
   "metadata": {},
   "outputs": [
    {
     "name": "stdout",
     "output_type": "stream",
     "text": [
      "1\n"
     ]
    }
   ],
   "source": [
    "#floor division(//): Returns quotient without decimal(only integer)\n",
    "x = 4\n",
    "y = 3\n",
    "print (x//y)"
   ]
  },
  {
   "cell_type": "code",
   "execution_count": 7,
   "id": "55527c37-1ae9-4011-acfc-d37cb847689c",
   "metadata": {},
   "outputs": [
    {
     "name": "stdout",
     "output_type": "stream",
     "text": [
      "2\n"
     ]
    }
   ],
   "source": [
    "#module(%): Returns remainder\n",
    "x = 2\n",
    "y = 3\n",
    "print (x%y)"
   ]
  },
  {
   "cell_type": "code",
   "execution_count": 13,
   "id": "08369280-3460-475a-a6fb-558cae7bed81",
   "metadata": {},
   "outputs": [
    {
     "name": "stdout",
     "output_type": "stream",
     "text": [
      "8\n"
     ]
    }
   ],
   "source": [
    "#power(**):\n",
    "x = 2\n",
    "y = 3\n",
    "print (x**y)\n"
   ]
  },
  {
   "cell_type": "markdown",
   "id": "5ac296f8-9d2f-4ef0-a75d-12f9fe12b9f4",
   "metadata": {},
   "source": [
    "# Questions:"
   ]
  },
  {
   "cell_type": "markdown",
   "id": "9d54af20-625a-4b33-90a3-a9232f28a5d3",
   "metadata": {},
   "source": [
    "### 1.What is the output of this code."
   ]
  },
  {
   "cell_type": "code",
   "execution_count": 18,
   "id": "771b7687-fa34-42ee-9ee6-95946531ceca",
   "metadata": {},
   "outputs": [
    {
     "name": "stdout",
     "output_type": "stream",
     "text": [
      "20.0\n"
     ]
    }
   ],
   "source": [
    "a = '10'\n",
    "b = int(a) + float(a)\n",
    "print(b)"
   ]
  },
  {
   "cell_type": "markdown",
   "id": "f3150802-6d41-45d4-ba29-9b4146b6f887",
   "metadata": {},
   "source": [
    "### 2. Wap to enter your fullname and print surname."
   ]
  },
  {
   "cell_type": "markdown",
   "id": "df490d4b-62ab-42ef-b579-c464c24453da",
   "metadata": {},
   "source": [
    "### 3.Wapp to add 7000 after 6000 in the given list.\n",
    "### lis[10,20,[300,400[5000,6000],500],30,40]"
   ]
  },
  {
   "cell_type": "markdown",
   "id": "bd0a74ff-b308-44c3-9c70-168af60c47bd",
   "metadata": {},
   "source": [
    "### 4.Marks obtained by the students are given in a list.\n",
    "### the student who stood 3rd in the class.\n",
    "### Marks = [85,86,78,88,89,90,87,65,76,56,98,95]"
   ]
  },
  {
   "cell_type": "markdown",
   "id": "9be42680-a2e5-4547-932b-292019acc3bf",
   "metadata": {},
   "source": [
    "### 5. Given the list of animals perform all the operations on the same list.\n",
    "### animals = ['cat','dog','parrot','tiger','zebra']\n",
    "#### 1.Add a new animal to 'lion' the list.\n",
    "#### 2.Add bear in between 'dog' and 'parrot'.\n",
    "#### 3.Add some more animals like-'rabbit','horse'.\n",
    "#### 4.Delete the second 'tiger' from the list.\n",
    "#### 5.Print the final list of animals.\n",
    "#### 6.Print the total number of animals in the list."
   ]
  },
  {
   "cell_type": "code",
   "execution_count": null,
   "id": "d3183ada-6ac4-4378-936c-12186dde81d1",
   "metadata": {},
   "outputs": [],
   "source": []
  }
 ],
 "metadata": {
  "kernelspec": {
   "display_name": "Python [conda env:base] *",
   "language": "python",
   "name": "conda-base-py"
  },
  "language_info": {
   "codemirror_mode": {
    "name": "ipython",
    "version": 3
   },
   "file_extension": ".py",
   "mimetype": "text/x-python",
   "name": "python",
   "nbconvert_exporter": "python",
   "pygments_lexer": "ipython3",
   "version": "3.12.7"
  }
 },
 "nbformat": 4,
 "nbformat_minor": 5
}
